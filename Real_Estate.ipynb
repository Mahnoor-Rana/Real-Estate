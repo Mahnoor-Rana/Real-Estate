{
 "cells": [
  {
   "cell_type": "markdown",
   "id": "5a3a8dba",
   "metadata": {},
   "source": [
    "## Importing Libraries"
   ]
  },
  {
   "cell_type": "markdown",
   "id": "76f1c72f",
   "metadata": {},
   "source": [
    "- Importing important Libraries"
   ]
  },
  {
   "cell_type": "code",
   "execution_count": 1,
   "id": "c0344d26",
   "metadata": {},
   "outputs": [],
   "source": [
    "import pandas as pd \n",
    "import matplotlib.pyplot as plt\n",
    "import seaborn as sns"
   ]
  },
  {
   "cell_type": "code",
   "execution_count": null,
   "id": "64498564",
   "metadata": {},
   "outputs": [
    {
     "ename": "",
     "evalue": "",
     "output_type": "error",
     "traceback": [
      "\u001b[1;31mRunning cells with 'Python 3.10.4 64-bit' requires ipykernel package.\n",
      "\u001b[1;31mRun the following command to install 'ipykernel' into the Python environment. \n",
      "\u001b[1;31mCommand: 'c:/Users/hp/AppData/Local/Programs/Python/Python310/python.exe -m pip install ipykernel -U --user --force-reinstall'"
     ]
    }
   ],
   "source": [
    "df = pd.read_csv('records.csv',low_memory=False)"
   ]
  },
  {
   "cell_type": "code",
   "execution_count": 3,
   "id": "afb55a5c",
   "metadata": {
    "scrolled": true
   },
   "outputs": [
    {
     "data": {
      "text/html": [
       "<div>\n",
       "<style scoped>\n",
       "    .dataframe tbody tr th:only-of-type {\n",
       "        vertical-align: middle;\n",
       "    }\n",
       "\n",
       "    .dataframe tbody tr th {\n",
       "        vertical-align: top;\n",
       "    }\n",
       "\n",
       "    .dataframe thead th {\n",
       "        text-align: right;\n",
       "    }\n",
       "</style>\n",
       "<table border=\"1\" class=\"dataframe\">\n",
       "  <thead>\n",
       "    <tr style=\"text-align: right;\">\n",
       "      <th></th>\n",
       "      <th>Unnamed: 0</th>\n",
       "      <th>id</th>\n",
       "      <th>ad_id</th>\n",
       "      <th>ad_state</th>\n",
       "      <th>ad_operation</th>\n",
       "      <th>ad_typology</th>\n",
       "      <th>ad_propertytype</th>\n",
       "      <th>ad_price</th>\n",
       "      <th>ad_unitprice</th>\n",
       "      <th>ad_activationdate</th>\n",
       "      <th>...</th>\n",
       "      <th>ad_energycertification</th>\n",
       "      <th>ad_energylegislation</th>\n",
       "      <th>ad_energyperformance</th>\n",
       "      <th>ad_orientations</th>\n",
       "      <th>ad_communitycosts</th>\n",
       "      <th>ad_heatingtype</th>\n",
       "      <th>ad_isintopfloor</th>\n",
       "      <th>ad_hashandicapadaptedaccess</th>\n",
       "      <th>ad_hashandicapadapteduse</th>\n",
       "      <th>ad_comment</th>\n",
       "    </tr>\n",
       "  </thead>\n",
       "  <tbody>\n",
       "    <tr>\n",
       "      <th>0</th>\n",
       "      <td>0</td>\n",
       "      <td>270022130</td>\n",
       "      <td>27002213</td>\n",
       "      <td>4</td>\n",
       "      <td>1</td>\n",
       "      <td>8</td>\n",
       "      <td>1</td>\n",
       "      <td>42500.0</td>\n",
       "      <td>6.071429</td>\n",
       "      <td>2014-06-04</td>\n",
       "      <td>...</td>\n",
       "      <td>NaN</td>\n",
       "      <td>NaN</td>\n",
       "      <td>NaN</td>\n",
       "      <td>NaN</td>\n",
       "      <td>NaN</td>\n",
       "      <td>NaN</td>\n",
       "      <td>NaN</td>\n",
       "      <td>NaN</td>\n",
       "      <td>NaN</td>\n",
       "      <td>Espectacular terreno com belas paisagens de mo...</td>\n",
       "    </tr>\n",
       "    <tr>\n",
       "      <th>1</th>\n",
       "      <td>1</td>\n",
       "      <td>270205980</td>\n",
       "      <td>27020598</td>\n",
       "      <td>4</td>\n",
       "      <td>1</td>\n",
       "      <td>2</td>\n",
       "      <td>1</td>\n",
       "      <td>400000.0</td>\n",
       "      <td>1000.000000</td>\n",
       "      <td>2017-05-05</td>\n",
       "      <td>...</td>\n",
       "      <td>C</td>\n",
       "      <td>PORTUGAL_DEFAULT</td>\n",
       "      <td>NaN</td>\n",
       "      <td>NaN</td>\n",
       "      <td>NaN</td>\n",
       "      <td>NaN</td>\n",
       "      <td>NaN</td>\n",
       "      <td>NaN</td>\n",
       "      <td>NaN</td>\n",
       "      <td>MOR_1744\\n\\nVendo linda moradia de 6 assoalhad...</td>\n",
       "    </tr>\n",
       "    <tr>\n",
       "      <th>2</th>\n",
       "      <td>2</td>\n",
       "      <td>270221480</td>\n",
       "      <td>27022148</td>\n",
       "      <td>4</td>\n",
       "      <td>2</td>\n",
       "      <td>6</td>\n",
       "      <td>1</td>\n",
       "      <td>300.0</td>\n",
       "      <td>16.304348</td>\n",
       "      <td>2020-12-17</td>\n",
       "      <td>...</td>\n",
       "      <td>D</td>\n",
       "      <td>PORTUGAL_DEFAULT</td>\n",
       "      <td>NaN</td>\n",
       "      <td>NaN</td>\n",
       "      <td>NaN</td>\n",
       "      <td>NaN</td>\n",
       "      <td>NaN</td>\n",
       "      <td>NaN</td>\n",
       "      <td>NaN</td>\n",
       "      <td>Loja situada no Centro Comercial de São Marcos...</td>\n",
       "    </tr>\n",
       "    <tr>\n",
       "      <th>3</th>\n",
       "      <td>3</td>\n",
       "      <td>270375630</td>\n",
       "      <td>27037563</td>\n",
       "      <td>4</td>\n",
       "      <td>1</td>\n",
       "      <td>6</td>\n",
       "      <td>1</td>\n",
       "      <td>85000.0</td>\n",
       "      <td>1319.875776</td>\n",
       "      <td>2020-08-21</td>\n",
       "      <td>...</td>\n",
       "      <td>C</td>\n",
       "      <td>PORTUGAL_DEFAULT</td>\n",
       "      <td>NaN</td>\n",
       "      <td>NaN</td>\n",
       "      <td>NaN</td>\n",
       "      <td>NaN</td>\n",
       "      <td>NaN</td>\n",
       "      <td>NaN</td>\n",
       "      <td>NaN</td>\n",
       "      <td>Loja- com 56m2 com saída de fumos, wc´s com 2m...</td>\n",
       "    </tr>\n",
       "    <tr>\n",
       "      <th>4</th>\n",
       "      <td>4</td>\n",
       "      <td>270376230</td>\n",
       "      <td>27037623</td>\n",
       "      <td>3</td>\n",
       "      <td>1</td>\n",
       "      <td>6</td>\n",
       "      <td>1</td>\n",
       "      <td>90000.0</td>\n",
       "      <td>873.786408</td>\n",
       "      <td>2020-04-20</td>\n",
       "      <td>...</td>\n",
       "      <td>B</td>\n",
       "      <td>PORTUGAL_DEFAULT</td>\n",
       "      <td>NaN</td>\n",
       "      <td>NaN</td>\n",
       "      <td>56.0</td>\n",
       "      <td>NaN</td>\n",
       "      <td>NaN</td>\n",
       "      <td>NaN</td>\n",
       "      <td>NaN</td>\n",
       "      <td>Oportunidade de Investimento imóvel arrendado....</td>\n",
       "    </tr>\n",
       "  </tbody>\n",
       "</table>\n",
       "<p>5 rows × 68 columns</p>\n",
       "</div>"
      ],
      "text/plain": [
       "   Unnamed: 0         id     ad_id  ad_state  ad_operation  ad_typology  \\\n",
       "0           0  270022130  27002213         4             1            8   \n",
       "1           1  270205980  27020598         4             1            2   \n",
       "2           2  270221480  27022148         4             2            6   \n",
       "3           3  270375630  27037563         4             1            6   \n",
       "4           4  270376230  27037623         3             1            6   \n",
       "\n",
       "   ad_propertytype  ad_price  ad_unitprice ad_activationdate  ...  \\\n",
       "0                1   42500.0      6.071429        2014-06-04  ...   \n",
       "1                1  400000.0   1000.000000        2017-05-05  ...   \n",
       "2                1     300.0     16.304348        2020-12-17  ...   \n",
       "3                1   85000.0   1319.875776        2020-08-21  ...   \n",
       "4                1   90000.0    873.786408        2020-04-20  ...   \n",
       "\n",
       "  ad_energycertification ad_energylegislation  ad_energyperformance  \\\n",
       "0                    NaN                  NaN                   NaN   \n",
       "1                      C     PORTUGAL_DEFAULT                   NaN   \n",
       "2                      D     PORTUGAL_DEFAULT                   NaN   \n",
       "3                      C     PORTUGAL_DEFAULT                   NaN   \n",
       "4                      B     PORTUGAL_DEFAULT                   NaN   \n",
       "\n",
       "   ad_orientations ad_communitycosts ad_heatingtype ad_isintopfloor  \\\n",
       "0              NaN               NaN            NaN             NaN   \n",
       "1              NaN               NaN            NaN             NaN   \n",
       "2              NaN               NaN            NaN             NaN   \n",
       "3              NaN               NaN            NaN             NaN   \n",
       "4              NaN              56.0            NaN             NaN   \n",
       "\n",
       "  ad_hashandicapadaptedaccess ad_hashandicapadapteduse  \\\n",
       "0                         NaN                      NaN   \n",
       "1                         NaN                      NaN   \n",
       "2                         NaN                      NaN   \n",
       "3                         NaN                      NaN   \n",
       "4                         NaN                      NaN   \n",
       "\n",
       "                                          ad_comment  \n",
       "0  Espectacular terreno com belas paisagens de mo...  \n",
       "1  MOR_1744\\n\\nVendo linda moradia de 6 assoalhad...  \n",
       "2  Loja situada no Centro Comercial de São Marcos...  \n",
       "3  Loja- com 56m2 com saída de fumos, wc´s com 2m...  \n",
       "4  Oportunidade de Investimento imóvel arrendado....  \n",
       "\n",
       "[5 rows x 68 columns]"
      ]
     },
     "execution_count": 3,
     "metadata": {},
     "output_type": "execute_result"
    }
   ],
   "source": [
    "df.head()"
   ]
  },
  {
   "cell_type": "code",
   "execution_count": 4,
   "id": "72f9c040",
   "metadata": {},
   "outputs": [
    {
     "data": {
      "text/plain": [
       "Index(['Unnamed: 0', 'id', 'ad_id', 'ad_state', 'ad_operation', 'ad_typology',\n",
       "       'ad_propertytype', 'ad_price', 'ad_unitprice', 'ad_activationdate',\n",
       "       'ad_deactivationdate', 'ad_modificationdate', 'ad_latitude',\n",
       "       'ad_longitude', 'ad_layerlocation', 'ad_province', 'ad_town',\n",
       "       'ad_district', 'ad_neighbourhood', 'ad_postalcode', 'ad_streettype',\n",
       "       'ad_streetname', 'ad_streetnumber', 'ad_floornumber',\n",
       "       'ad_addressvisible', 'ad_subtypology', 'ad_area', 'ad_builttype',\n",
       "       'ad_roomnumber', 'ad_bathnumber', 'ad_flatlocation', 'ad_haslift',\n",
       "       'ad_hasparkingspace', 'ad_hasboxroom', 'ad_hasswimmingpool',\n",
       "       'ad_urlactive', 'ad_urlinactive', 'ad_urlimg1', 'ad_urlimg2',\n",
       "       'newdevelopment_commercialname', 'newdevelopment_fromprice',\n",
       "       'newdevelopment_averageprice', 'ad_commercialname', 'ad_isAuction',\n",
       "       'ad_constructionyear', 'adstats_visits', 'adstats_sendtofriend',\n",
       "       'adstats_savedasfavorite', 'adstats_daysonmarket',\n",
       "       'adstats_contactsbyemail', 'ad_pricechanges', 'ad_hasgarden',\n",
       "       'ad_hasterrace', 'ad_hashotwater', 'ad_hasheating',\n",
       "       'ad_hasairconditioning', 'ad_minimalStay', 'ad_newOccupation',\n",
       "       'ad_energycertification', 'ad_energylegislation',\n",
       "       'ad_energyperformance', 'ad_orientations', 'ad_communitycosts',\n",
       "       'ad_heatingtype', 'ad_isintopfloor', 'ad_hashandicapadaptedaccess',\n",
       "       'ad_hashandicapadapteduse', 'ad_comment'],\n",
       "      dtype='object')"
      ]
     },
     "execution_count": 4,
     "metadata": {},
     "output_type": "execute_result"
    }
   ],
   "source": [
    "df.columns\n"
   ]
  },
  {
   "cell_type": "code",
   "execution_count": 5,
   "id": "9b7aaf81",
   "metadata": {},
   "outputs": [],
   "source": [
    "df.set_index('id',drop= False,inplace =True)\n"
   ]
  },
  {
   "cell_type": "code",
   "execution_count": 6,
   "id": "3532859d",
   "metadata": {},
   "outputs": [
    {
     "data": {
      "text/html": [
       "<div>\n",
       "<style scoped>\n",
       "    .dataframe tbody tr th:only-of-type {\n",
       "        vertical-align: middle;\n",
       "    }\n",
       "\n",
       "    .dataframe tbody tr th {\n",
       "        vertical-align: top;\n",
       "    }\n",
       "\n",
       "    .dataframe thead th {\n",
       "        text-align: right;\n",
       "    }\n",
       "</style>\n",
       "<table border=\"1\" class=\"dataframe\">\n",
       "  <thead>\n",
       "    <tr style=\"text-align: right;\">\n",
       "      <th></th>\n",
       "      <th>Unnamed: 0</th>\n",
       "      <th>ad_id</th>\n",
       "      <th>ad_state</th>\n",
       "      <th>ad_operation</th>\n",
       "      <th>ad_typology</th>\n",
       "      <th>ad_propertytype</th>\n",
       "      <th>ad_price</th>\n",
       "      <th>ad_unitprice</th>\n",
       "      <th>ad_activationdate</th>\n",
       "      <th>ad_deactivationdate</th>\n",
       "      <th>...</th>\n",
       "      <th>ad_energycertification</th>\n",
       "      <th>ad_energylegislation</th>\n",
       "      <th>ad_energyperformance</th>\n",
       "      <th>ad_orientations</th>\n",
       "      <th>ad_communitycosts</th>\n",
       "      <th>ad_heatingtype</th>\n",
       "      <th>ad_isintopfloor</th>\n",
       "      <th>ad_hashandicapadaptedaccess</th>\n",
       "      <th>ad_hashandicapadapteduse</th>\n",
       "      <th>ad_comment</th>\n",
       "    </tr>\n",
       "    <tr>\n",
       "      <th>id</th>\n",
       "      <th></th>\n",
       "      <th></th>\n",
       "      <th></th>\n",
       "      <th></th>\n",
       "      <th></th>\n",
       "      <th></th>\n",
       "      <th></th>\n",
       "      <th></th>\n",
       "      <th></th>\n",
       "      <th></th>\n",
       "      <th></th>\n",
       "      <th></th>\n",
       "      <th></th>\n",
       "      <th></th>\n",
       "      <th></th>\n",
       "      <th></th>\n",
       "      <th></th>\n",
       "      <th></th>\n",
       "      <th></th>\n",
       "      <th></th>\n",
       "      <th></th>\n",
       "    </tr>\n",
       "  </thead>\n",
       "  <tbody>\n",
       "    <tr>\n",
       "      <th>270022130</th>\n",
       "      <td>0</td>\n",
       "      <td>27002213</td>\n",
       "      <td>4</td>\n",
       "      <td>1</td>\n",
       "      <td>8</td>\n",
       "      <td>1</td>\n",
       "      <td>42500.0</td>\n",
       "      <td>6.071429</td>\n",
       "      <td>2014-06-04</td>\n",
       "      <td>2021-05-28</td>\n",
       "      <td>...</td>\n",
       "      <td>NaN</td>\n",
       "      <td>NaN</td>\n",
       "      <td>NaN</td>\n",
       "      <td>NaN</td>\n",
       "      <td>NaN</td>\n",
       "      <td>NaN</td>\n",
       "      <td>NaN</td>\n",
       "      <td>NaN</td>\n",
       "      <td>NaN</td>\n",
       "      <td>Espectacular terreno com belas paisagens de mo...</td>\n",
       "    </tr>\n",
       "    <tr>\n",
       "      <th>270205980</th>\n",
       "      <td>1</td>\n",
       "      <td>27020598</td>\n",
       "      <td>4</td>\n",
       "      <td>1</td>\n",
       "      <td>2</td>\n",
       "      <td>1</td>\n",
       "      <td>400000.0</td>\n",
       "      <td>1000.000000</td>\n",
       "      <td>2017-05-05</td>\n",
       "      <td>2021-06-25</td>\n",
       "      <td>...</td>\n",
       "      <td>C</td>\n",
       "      <td>PORTUGAL_DEFAULT</td>\n",
       "      <td>NaN</td>\n",
       "      <td>NaN</td>\n",
       "      <td>NaN</td>\n",
       "      <td>NaN</td>\n",
       "      <td>NaN</td>\n",
       "      <td>NaN</td>\n",
       "      <td>NaN</td>\n",
       "      <td>MOR_1744\\n\\nVendo linda moradia de 6 assoalhad...</td>\n",
       "    </tr>\n",
       "    <tr>\n",
       "      <th>270221480</th>\n",
       "      <td>2</td>\n",
       "      <td>27022148</td>\n",
       "      <td>4</td>\n",
       "      <td>2</td>\n",
       "      <td>6</td>\n",
       "      <td>1</td>\n",
       "      <td>300.0</td>\n",
       "      <td>16.304348</td>\n",
       "      <td>2020-12-17</td>\n",
       "      <td>2022-04-01</td>\n",
       "      <td>...</td>\n",
       "      <td>D</td>\n",
       "      <td>PORTUGAL_DEFAULT</td>\n",
       "      <td>NaN</td>\n",
       "      <td>NaN</td>\n",
       "      <td>NaN</td>\n",
       "      <td>NaN</td>\n",
       "      <td>NaN</td>\n",
       "      <td>NaN</td>\n",
       "      <td>NaN</td>\n",
       "      <td>Loja situada no Centro Comercial de São Marcos...</td>\n",
       "    </tr>\n",
       "    <tr>\n",
       "      <th>270375630</th>\n",
       "      <td>3</td>\n",
       "      <td>27037563</td>\n",
       "      <td>4</td>\n",
       "      <td>1</td>\n",
       "      <td>6</td>\n",
       "      <td>1</td>\n",
       "      <td>85000.0</td>\n",
       "      <td>1319.875776</td>\n",
       "      <td>2020-08-21</td>\n",
       "      <td>2021-10-11</td>\n",
       "      <td>...</td>\n",
       "      <td>C</td>\n",
       "      <td>PORTUGAL_DEFAULT</td>\n",
       "      <td>NaN</td>\n",
       "      <td>NaN</td>\n",
       "      <td>NaN</td>\n",
       "      <td>NaN</td>\n",
       "      <td>NaN</td>\n",
       "      <td>NaN</td>\n",
       "      <td>NaN</td>\n",
       "      <td>Loja- com 56m2 com saída de fumos, wc´s com 2m...</td>\n",
       "    </tr>\n",
       "    <tr>\n",
       "      <th>270376230</th>\n",
       "      <td>4</td>\n",
       "      <td>27037623</td>\n",
       "      <td>3</td>\n",
       "      <td>1</td>\n",
       "      <td>6</td>\n",
       "      <td>1</td>\n",
       "      <td>90000.0</td>\n",
       "      <td>873.786408</td>\n",
       "      <td>2020-04-20</td>\n",
       "      <td>2019-01-10</td>\n",
       "      <td>...</td>\n",
       "      <td>B</td>\n",
       "      <td>PORTUGAL_DEFAULT</td>\n",
       "      <td>NaN</td>\n",
       "      <td>NaN</td>\n",
       "      <td>56.0</td>\n",
       "      <td>NaN</td>\n",
       "      <td>NaN</td>\n",
       "      <td>NaN</td>\n",
       "      <td>NaN</td>\n",
       "      <td>Oportunidade de Investimento imóvel arrendado....</td>\n",
       "    </tr>\n",
       "    <tr>\n",
       "      <th>...</th>\n",
       "      <td>...</td>\n",
       "      <td>...</td>\n",
       "      <td>...</td>\n",
       "      <td>...</td>\n",
       "      <td>...</td>\n",
       "      <td>...</td>\n",
       "      <td>...</td>\n",
       "      <td>...</td>\n",
       "      <td>...</td>\n",
       "      <td>...</td>\n",
       "      <td>...</td>\n",
       "      <td>...</td>\n",
       "      <td>...</td>\n",
       "      <td>...</td>\n",
       "      <td>...</td>\n",
       "      <td>...</td>\n",
       "      <td>...</td>\n",
       "      <td>...</td>\n",
       "      <td>...</td>\n",
       "      <td>...</td>\n",
       "      <td>...</td>\n",
       "    </tr>\n",
       "    <tr>\n",
       "      <th>317051990</th>\n",
       "      <td>76526</td>\n",
       "      <td>31705199</td>\n",
       "      <td>4</td>\n",
       "      <td>1</td>\n",
       "      <td>1</td>\n",
       "      <td>2</td>\n",
       "      <td>840000.0</td>\n",
       "      <td>7777.777778</td>\n",
       "      <td>2020-12-14</td>\n",
       "      <td>2022-05-24</td>\n",
       "      <td>...</td>\n",
       "      <td>UNKNOWN</td>\n",
       "      <td>NaN</td>\n",
       "      <td>NaN</td>\n",
       "      <td>NaN</td>\n",
       "      <td>NaN</td>\n",
       "      <td>NaN</td>\n",
       "      <td>NaN</td>\n",
       "      <td>0.0</td>\n",
       "      <td>0.0</td>\n",
       "      <td>Imagine viver numa das localizações mais desej...</td>\n",
       "    </tr>\n",
       "    <tr>\n",
       "      <th>317052080</th>\n",
       "      <td>76527</td>\n",
       "      <td>31705208</td>\n",
       "      <td>4</td>\n",
       "      <td>1</td>\n",
       "      <td>1</td>\n",
       "      <td>2</td>\n",
       "      <td>1550000.0</td>\n",
       "      <td>11481.481481</td>\n",
       "      <td>2020-12-14</td>\n",
       "      <td>2022-05-02</td>\n",
       "      <td>...</td>\n",
       "      <td>UNKNOWN</td>\n",
       "      <td>NaN</td>\n",
       "      <td>NaN</td>\n",
       "      <td>NaN</td>\n",
       "      <td>NaN</td>\n",
       "      <td>NaN</td>\n",
       "      <td>NaN</td>\n",
       "      <td>0.0</td>\n",
       "      <td>0.0</td>\n",
       "      <td>Imagine viver numa das localizações mais desej...</td>\n",
       "    </tr>\n",
       "    <tr>\n",
       "      <th>317052090</th>\n",
       "      <td>76528</td>\n",
       "      <td>31705209</td>\n",
       "      <td>4</td>\n",
       "      <td>1</td>\n",
       "      <td>1</td>\n",
       "      <td>2</td>\n",
       "      <td>1650000.0</td>\n",
       "      <td>10185.185185</td>\n",
       "      <td>2020-12-14</td>\n",
       "      <td>2022-05-27</td>\n",
       "      <td>...</td>\n",
       "      <td>UNKNOWN</td>\n",
       "      <td>NaN</td>\n",
       "      <td>NaN</td>\n",
       "      <td>NaN</td>\n",
       "      <td>NaN</td>\n",
       "      <td>NaN</td>\n",
       "      <td>NaN</td>\n",
       "      <td>0.0</td>\n",
       "      <td>0.0</td>\n",
       "      <td>Imagine viver numa das localizações mais desej...</td>\n",
       "    </tr>\n",
       "    <tr>\n",
       "      <th>317052230</th>\n",
       "      <td>76529</td>\n",
       "      <td>31705223</td>\n",
       "      <td>3</td>\n",
       "      <td>1</td>\n",
       "      <td>1</td>\n",
       "      <td>2</td>\n",
       "      <td>1250000.0</td>\n",
       "      <td>11061.946903</td>\n",
       "      <td>2020-12-14</td>\n",
       "      <td>2020-12-01</td>\n",
       "      <td>...</td>\n",
       "      <td>UNKNOWN</td>\n",
       "      <td>NaN</td>\n",
       "      <td>NaN</td>\n",
       "      <td>NaN</td>\n",
       "      <td>NaN</td>\n",
       "      <td>NaN</td>\n",
       "      <td>NaN</td>\n",
       "      <td>0.0</td>\n",
       "      <td>0.0</td>\n",
       "      <td>Imagine viver numa das localizações mais desej...</td>\n",
       "    </tr>\n",
       "    <tr>\n",
       "      <th>317052260</th>\n",
       "      <td>76530</td>\n",
       "      <td>31705226</td>\n",
       "      <td>3</td>\n",
       "      <td>1</td>\n",
       "      <td>1</td>\n",
       "      <td>2</td>\n",
       "      <td>1625000.0</td>\n",
       "      <td>10156.250000</td>\n",
       "      <td>2020-12-14</td>\n",
       "      <td>2020-12-01</td>\n",
       "      <td>...</td>\n",
       "      <td>UNKNOWN</td>\n",
       "      <td>NaN</td>\n",
       "      <td>NaN</td>\n",
       "      <td>NaN</td>\n",
       "      <td>NaN</td>\n",
       "      <td>NaN</td>\n",
       "      <td>NaN</td>\n",
       "      <td>0.0</td>\n",
       "      <td>0.0</td>\n",
       "      <td>Imagine viver numa das localizações mais desej...</td>\n",
       "    </tr>\n",
       "  </tbody>\n",
       "</table>\n",
       "<p>76531 rows × 67 columns</p>\n",
       "</div>"
      ],
      "text/plain": [
       "           Unnamed: 0     ad_id  ad_state  ad_operation  ad_typology  \\\n",
       "id                                                                     \n",
       "270022130           0  27002213         4             1            8   \n",
       "270205980           1  27020598         4             1            2   \n",
       "270221480           2  27022148         4             2            6   \n",
       "270375630           3  27037563         4             1            6   \n",
       "270376230           4  27037623         3             1            6   \n",
       "...               ...       ...       ...           ...          ...   \n",
       "317051990       76526  31705199         4             1            1   \n",
       "317052080       76527  31705208         4             1            1   \n",
       "317052090       76528  31705209         4             1            1   \n",
       "317052230       76529  31705223         3             1            1   \n",
       "317052260       76530  31705226         3             1            1   \n",
       "\n",
       "           ad_propertytype   ad_price  ad_unitprice ad_activationdate  \\\n",
       "id                                                                      \n",
       "270022130                1    42500.0      6.071429        2014-06-04   \n",
       "270205980                1   400000.0   1000.000000        2017-05-05   \n",
       "270221480                1      300.0     16.304348        2020-12-17   \n",
       "270375630                1    85000.0   1319.875776        2020-08-21   \n",
       "270376230                1    90000.0    873.786408        2020-04-20   \n",
       "...                    ...        ...           ...               ...   \n",
       "317051990                2   840000.0   7777.777778        2020-12-14   \n",
       "317052080                2  1550000.0  11481.481481        2020-12-14   \n",
       "317052090                2  1650000.0  10185.185185        2020-12-14   \n",
       "317052230                2  1250000.0  11061.946903        2020-12-14   \n",
       "317052260                2  1625000.0  10156.250000        2020-12-14   \n",
       "\n",
       "          ad_deactivationdate  ... ad_energycertification  \\\n",
       "id                             ...                          \n",
       "270022130          2021-05-28  ...                    NaN   \n",
       "270205980          2021-06-25  ...                      C   \n",
       "270221480          2022-04-01  ...                      D   \n",
       "270375630          2021-10-11  ...                      C   \n",
       "270376230          2019-01-10  ...                      B   \n",
       "...                       ...  ...                    ...   \n",
       "317051990          2022-05-24  ...                UNKNOWN   \n",
       "317052080          2022-05-02  ...                UNKNOWN   \n",
       "317052090          2022-05-27  ...                UNKNOWN   \n",
       "317052230          2020-12-01  ...                UNKNOWN   \n",
       "317052260          2020-12-01  ...                UNKNOWN   \n",
       "\n",
       "           ad_energylegislation  ad_energyperformance ad_orientations  \\\n",
       "id                                                                      \n",
       "270022130                   NaN                   NaN             NaN   \n",
       "270205980      PORTUGAL_DEFAULT                   NaN             NaN   \n",
       "270221480      PORTUGAL_DEFAULT                   NaN             NaN   \n",
       "270375630      PORTUGAL_DEFAULT                   NaN             NaN   \n",
       "270376230      PORTUGAL_DEFAULT                   NaN             NaN   \n",
       "...                         ...                   ...             ...   \n",
       "317051990                   NaN                   NaN             NaN   \n",
       "317052080                   NaN                   NaN             NaN   \n",
       "317052090                   NaN                   NaN             NaN   \n",
       "317052230                   NaN                   NaN             NaN   \n",
       "317052260                   NaN                   NaN             NaN   \n",
       "\n",
       "          ad_communitycosts ad_heatingtype ad_isintopfloor  \\\n",
       "id                                                           \n",
       "270022130               NaN            NaN             NaN   \n",
       "270205980               NaN            NaN             NaN   \n",
       "270221480               NaN            NaN             NaN   \n",
       "270375630               NaN            NaN             NaN   \n",
       "270376230              56.0            NaN             NaN   \n",
       "...                     ...            ...             ...   \n",
       "317051990               NaN            NaN             NaN   \n",
       "317052080               NaN            NaN             NaN   \n",
       "317052090               NaN            NaN             NaN   \n",
       "317052230               NaN            NaN             NaN   \n",
       "317052260               NaN            NaN             NaN   \n",
       "\n",
       "          ad_hashandicapadaptedaccess ad_hashandicapadapteduse  \\\n",
       "id                                                               \n",
       "270022130                         NaN                      NaN   \n",
       "270205980                         NaN                      NaN   \n",
       "270221480                         NaN                      NaN   \n",
       "270375630                         NaN                      NaN   \n",
       "270376230                         NaN                      NaN   \n",
       "...                               ...                      ...   \n",
       "317051990                         0.0                      0.0   \n",
       "317052080                         0.0                      0.0   \n",
       "317052090                         0.0                      0.0   \n",
       "317052230                         0.0                      0.0   \n",
       "317052260                         0.0                      0.0   \n",
       "\n",
       "                                                  ad_comment  \n",
       "id                                                            \n",
       "270022130  Espectacular terreno com belas paisagens de mo...  \n",
       "270205980  MOR_1744\\n\\nVendo linda moradia de 6 assoalhad...  \n",
       "270221480  Loja situada no Centro Comercial de São Marcos...  \n",
       "270375630  Loja- com 56m2 com saída de fumos, wc´s com 2m...  \n",
       "270376230  Oportunidade de Investimento imóvel arrendado....  \n",
       "...                                                      ...  \n",
       "317051990  Imagine viver numa das localizações mais desej...  \n",
       "317052080  Imagine viver numa das localizações mais desej...  \n",
       "317052090  Imagine viver numa das localizações mais desej...  \n",
       "317052230  Imagine viver numa das localizações mais desej...  \n",
       "317052260  Imagine viver numa das localizações mais desej...  \n",
       "\n",
       "[76531 rows x 67 columns]"
      ]
     },
     "execution_count": 6,
     "metadata": {},
     "output_type": "execute_result"
    }
   ],
   "source": [
    "df.drop('id',axis=1)"
   ]
  },
  {
   "cell_type": "code",
   "execution_count": 7,
   "id": "c36aec1d",
   "metadata": {},
   "outputs": [
    {
     "data": {
      "text/html": [
       "<div>\n",
       "<style scoped>\n",
       "    .dataframe tbody tr th:only-of-type {\n",
       "        vertical-align: middle;\n",
       "    }\n",
       "\n",
       "    .dataframe tbody tr th {\n",
       "        vertical-align: top;\n",
       "    }\n",
       "\n",
       "    .dataframe thead th {\n",
       "        text-align: right;\n",
       "    }\n",
       "</style>\n",
       "<table border=\"1\" class=\"dataframe\">\n",
       "  <thead>\n",
       "    <tr style=\"text-align: right;\">\n",
       "      <th></th>\n",
       "      <th>id</th>\n",
       "      <th>ad_id</th>\n",
       "      <th>ad_state</th>\n",
       "      <th>ad_operation</th>\n",
       "      <th>ad_typology</th>\n",
       "      <th>ad_propertytype</th>\n",
       "      <th>ad_price</th>\n",
       "      <th>ad_unitprice</th>\n",
       "      <th>ad_activationdate</th>\n",
       "      <th>ad_deactivationdate</th>\n",
       "      <th>...</th>\n",
       "      <th>ad_energycertification</th>\n",
       "      <th>ad_energylegislation</th>\n",
       "      <th>ad_energyperformance</th>\n",
       "      <th>ad_orientations</th>\n",
       "      <th>ad_communitycosts</th>\n",
       "      <th>ad_heatingtype</th>\n",
       "      <th>ad_isintopfloor</th>\n",
       "      <th>ad_hashandicapadaptedaccess</th>\n",
       "      <th>ad_hashandicapadapteduse</th>\n",
       "      <th>ad_comment</th>\n",
       "    </tr>\n",
       "    <tr>\n",
       "      <th>id</th>\n",
       "      <th></th>\n",
       "      <th></th>\n",
       "      <th></th>\n",
       "      <th></th>\n",
       "      <th></th>\n",
       "      <th></th>\n",
       "      <th></th>\n",
       "      <th></th>\n",
       "      <th></th>\n",
       "      <th></th>\n",
       "      <th></th>\n",
       "      <th></th>\n",
       "      <th></th>\n",
       "      <th></th>\n",
       "      <th></th>\n",
       "      <th></th>\n",
       "      <th></th>\n",
       "      <th></th>\n",
       "      <th></th>\n",
       "      <th></th>\n",
       "      <th></th>\n",
       "    </tr>\n",
       "  </thead>\n",
       "  <tbody>\n",
       "    <tr>\n",
       "      <th>270022130</th>\n",
       "      <td>270022130</td>\n",
       "      <td>27002213</td>\n",
       "      <td>4</td>\n",
       "      <td>1</td>\n",
       "      <td>8</td>\n",
       "      <td>1</td>\n",
       "      <td>42500.0</td>\n",
       "      <td>6.071429</td>\n",
       "      <td>2014-06-04</td>\n",
       "      <td>2021-05-28</td>\n",
       "      <td>...</td>\n",
       "      <td>NaN</td>\n",
       "      <td>NaN</td>\n",
       "      <td>NaN</td>\n",
       "      <td>NaN</td>\n",
       "      <td>NaN</td>\n",
       "      <td>NaN</td>\n",
       "      <td>NaN</td>\n",
       "      <td>NaN</td>\n",
       "      <td>NaN</td>\n",
       "      <td>Espectacular terreno com belas paisagens de mo...</td>\n",
       "    </tr>\n",
       "    <tr>\n",
       "      <th>270205980</th>\n",
       "      <td>270205980</td>\n",
       "      <td>27020598</td>\n",
       "      <td>4</td>\n",
       "      <td>1</td>\n",
       "      <td>2</td>\n",
       "      <td>1</td>\n",
       "      <td>400000.0</td>\n",
       "      <td>1000.000000</td>\n",
       "      <td>2017-05-05</td>\n",
       "      <td>2021-06-25</td>\n",
       "      <td>...</td>\n",
       "      <td>C</td>\n",
       "      <td>PORTUGAL_DEFAULT</td>\n",
       "      <td>NaN</td>\n",
       "      <td>NaN</td>\n",
       "      <td>NaN</td>\n",
       "      <td>NaN</td>\n",
       "      <td>NaN</td>\n",
       "      <td>NaN</td>\n",
       "      <td>NaN</td>\n",
       "      <td>MOR_1744\\n\\nVendo linda moradia de 6 assoalhad...</td>\n",
       "    </tr>\n",
       "    <tr>\n",
       "      <th>270221480</th>\n",
       "      <td>270221480</td>\n",
       "      <td>27022148</td>\n",
       "      <td>4</td>\n",
       "      <td>2</td>\n",
       "      <td>6</td>\n",
       "      <td>1</td>\n",
       "      <td>300.0</td>\n",
       "      <td>16.304348</td>\n",
       "      <td>2020-12-17</td>\n",
       "      <td>2022-04-01</td>\n",
       "      <td>...</td>\n",
       "      <td>D</td>\n",
       "      <td>PORTUGAL_DEFAULT</td>\n",
       "      <td>NaN</td>\n",
       "      <td>NaN</td>\n",
       "      <td>NaN</td>\n",
       "      <td>NaN</td>\n",
       "      <td>NaN</td>\n",
       "      <td>NaN</td>\n",
       "      <td>NaN</td>\n",
       "      <td>Loja situada no Centro Comercial de São Marcos...</td>\n",
       "    </tr>\n",
       "    <tr>\n",
       "      <th>270375630</th>\n",
       "      <td>270375630</td>\n",
       "      <td>27037563</td>\n",
       "      <td>4</td>\n",
       "      <td>1</td>\n",
       "      <td>6</td>\n",
       "      <td>1</td>\n",
       "      <td>85000.0</td>\n",
       "      <td>1319.875776</td>\n",
       "      <td>2020-08-21</td>\n",
       "      <td>2021-10-11</td>\n",
       "      <td>...</td>\n",
       "      <td>C</td>\n",
       "      <td>PORTUGAL_DEFAULT</td>\n",
       "      <td>NaN</td>\n",
       "      <td>NaN</td>\n",
       "      <td>NaN</td>\n",
       "      <td>NaN</td>\n",
       "      <td>NaN</td>\n",
       "      <td>NaN</td>\n",
       "      <td>NaN</td>\n",
       "      <td>Loja- com 56m2 com saída de fumos, wc´s com 2m...</td>\n",
       "    </tr>\n",
       "    <tr>\n",
       "      <th>270376230</th>\n",
       "      <td>270376230</td>\n",
       "      <td>27037623</td>\n",
       "      <td>3</td>\n",
       "      <td>1</td>\n",
       "      <td>6</td>\n",
       "      <td>1</td>\n",
       "      <td>90000.0</td>\n",
       "      <td>873.786408</td>\n",
       "      <td>2020-04-20</td>\n",
       "      <td>2019-01-10</td>\n",
       "      <td>...</td>\n",
       "      <td>B</td>\n",
       "      <td>PORTUGAL_DEFAULT</td>\n",
       "      <td>NaN</td>\n",
       "      <td>NaN</td>\n",
       "      <td>56.0</td>\n",
       "      <td>NaN</td>\n",
       "      <td>NaN</td>\n",
       "      <td>NaN</td>\n",
       "      <td>NaN</td>\n",
       "      <td>Oportunidade de Investimento imóvel arrendado....</td>\n",
       "    </tr>\n",
       "    <tr>\n",
       "      <th>...</th>\n",
       "      <td>...</td>\n",
       "      <td>...</td>\n",
       "      <td>...</td>\n",
       "      <td>...</td>\n",
       "      <td>...</td>\n",
       "      <td>...</td>\n",
       "      <td>...</td>\n",
       "      <td>...</td>\n",
       "      <td>...</td>\n",
       "      <td>...</td>\n",
       "      <td>...</td>\n",
       "      <td>...</td>\n",
       "      <td>...</td>\n",
       "      <td>...</td>\n",
       "      <td>...</td>\n",
       "      <td>...</td>\n",
       "      <td>...</td>\n",
       "      <td>...</td>\n",
       "      <td>...</td>\n",
       "      <td>...</td>\n",
       "      <td>...</td>\n",
       "    </tr>\n",
       "    <tr>\n",
       "      <th>317051990</th>\n",
       "      <td>317051990</td>\n",
       "      <td>31705199</td>\n",
       "      <td>4</td>\n",
       "      <td>1</td>\n",
       "      <td>1</td>\n",
       "      <td>2</td>\n",
       "      <td>840000.0</td>\n",
       "      <td>7777.777778</td>\n",
       "      <td>2020-12-14</td>\n",
       "      <td>2022-05-24</td>\n",
       "      <td>...</td>\n",
       "      <td>UNKNOWN</td>\n",
       "      <td>NaN</td>\n",
       "      <td>NaN</td>\n",
       "      <td>NaN</td>\n",
       "      <td>NaN</td>\n",
       "      <td>NaN</td>\n",
       "      <td>NaN</td>\n",
       "      <td>0.0</td>\n",
       "      <td>0.0</td>\n",
       "      <td>Imagine viver numa das localizações mais desej...</td>\n",
       "    </tr>\n",
       "    <tr>\n",
       "      <th>317052080</th>\n",
       "      <td>317052080</td>\n",
       "      <td>31705208</td>\n",
       "      <td>4</td>\n",
       "      <td>1</td>\n",
       "      <td>1</td>\n",
       "      <td>2</td>\n",
       "      <td>1550000.0</td>\n",
       "      <td>11481.481481</td>\n",
       "      <td>2020-12-14</td>\n",
       "      <td>2022-05-02</td>\n",
       "      <td>...</td>\n",
       "      <td>UNKNOWN</td>\n",
       "      <td>NaN</td>\n",
       "      <td>NaN</td>\n",
       "      <td>NaN</td>\n",
       "      <td>NaN</td>\n",
       "      <td>NaN</td>\n",
       "      <td>NaN</td>\n",
       "      <td>0.0</td>\n",
       "      <td>0.0</td>\n",
       "      <td>Imagine viver numa das localizações mais desej...</td>\n",
       "    </tr>\n",
       "    <tr>\n",
       "      <th>317052090</th>\n",
       "      <td>317052090</td>\n",
       "      <td>31705209</td>\n",
       "      <td>4</td>\n",
       "      <td>1</td>\n",
       "      <td>1</td>\n",
       "      <td>2</td>\n",
       "      <td>1650000.0</td>\n",
       "      <td>10185.185185</td>\n",
       "      <td>2020-12-14</td>\n",
       "      <td>2022-05-27</td>\n",
       "      <td>...</td>\n",
       "      <td>UNKNOWN</td>\n",
       "      <td>NaN</td>\n",
       "      <td>NaN</td>\n",
       "      <td>NaN</td>\n",
       "      <td>NaN</td>\n",
       "      <td>NaN</td>\n",
       "      <td>NaN</td>\n",
       "      <td>0.0</td>\n",
       "      <td>0.0</td>\n",
       "      <td>Imagine viver numa das localizações mais desej...</td>\n",
       "    </tr>\n",
       "    <tr>\n",
       "      <th>317052230</th>\n",
       "      <td>317052230</td>\n",
       "      <td>31705223</td>\n",
       "      <td>3</td>\n",
       "      <td>1</td>\n",
       "      <td>1</td>\n",
       "      <td>2</td>\n",
       "      <td>1250000.0</td>\n",
       "      <td>11061.946903</td>\n",
       "      <td>2020-12-14</td>\n",
       "      <td>2020-12-01</td>\n",
       "      <td>...</td>\n",
       "      <td>UNKNOWN</td>\n",
       "      <td>NaN</td>\n",
       "      <td>NaN</td>\n",
       "      <td>NaN</td>\n",
       "      <td>NaN</td>\n",
       "      <td>NaN</td>\n",
       "      <td>NaN</td>\n",
       "      <td>0.0</td>\n",
       "      <td>0.0</td>\n",
       "      <td>Imagine viver numa das localizações mais desej...</td>\n",
       "    </tr>\n",
       "    <tr>\n",
       "      <th>317052260</th>\n",
       "      <td>317052260</td>\n",
       "      <td>31705226</td>\n",
       "      <td>3</td>\n",
       "      <td>1</td>\n",
       "      <td>1</td>\n",
       "      <td>2</td>\n",
       "      <td>1625000.0</td>\n",
       "      <td>10156.250000</td>\n",
       "      <td>2020-12-14</td>\n",
       "      <td>2020-12-01</td>\n",
       "      <td>...</td>\n",
       "      <td>UNKNOWN</td>\n",
       "      <td>NaN</td>\n",
       "      <td>NaN</td>\n",
       "      <td>NaN</td>\n",
       "      <td>NaN</td>\n",
       "      <td>NaN</td>\n",
       "      <td>NaN</td>\n",
       "      <td>0.0</td>\n",
       "      <td>0.0</td>\n",
       "      <td>Imagine viver numa das localizações mais desej...</td>\n",
       "    </tr>\n",
       "  </tbody>\n",
       "</table>\n",
       "<p>76531 rows × 67 columns</p>\n",
       "</div>"
      ],
      "text/plain": [
       "                  id     ad_id  ad_state  ad_operation  ad_typology  \\\n",
       "id                                                                    \n",
       "270022130  270022130  27002213         4             1            8   \n",
       "270205980  270205980  27020598         4             1            2   \n",
       "270221480  270221480  27022148         4             2            6   \n",
       "270375630  270375630  27037563         4             1            6   \n",
       "270376230  270376230  27037623         3             1            6   \n",
       "...              ...       ...       ...           ...          ...   \n",
       "317051990  317051990  31705199         4             1            1   \n",
       "317052080  317052080  31705208         4             1            1   \n",
       "317052090  317052090  31705209         4             1            1   \n",
       "317052230  317052230  31705223         3             1            1   \n",
       "317052260  317052260  31705226         3             1            1   \n",
       "\n",
       "           ad_propertytype   ad_price  ad_unitprice ad_activationdate  \\\n",
       "id                                                                      \n",
       "270022130                1    42500.0      6.071429        2014-06-04   \n",
       "270205980                1   400000.0   1000.000000        2017-05-05   \n",
       "270221480                1      300.0     16.304348        2020-12-17   \n",
       "270375630                1    85000.0   1319.875776        2020-08-21   \n",
       "270376230                1    90000.0    873.786408        2020-04-20   \n",
       "...                    ...        ...           ...               ...   \n",
       "317051990                2   840000.0   7777.777778        2020-12-14   \n",
       "317052080                2  1550000.0  11481.481481        2020-12-14   \n",
       "317052090                2  1650000.0  10185.185185        2020-12-14   \n",
       "317052230                2  1250000.0  11061.946903        2020-12-14   \n",
       "317052260                2  1625000.0  10156.250000        2020-12-14   \n",
       "\n",
       "          ad_deactivationdate  ... ad_energycertification  \\\n",
       "id                             ...                          \n",
       "270022130          2021-05-28  ...                    NaN   \n",
       "270205980          2021-06-25  ...                      C   \n",
       "270221480          2022-04-01  ...                      D   \n",
       "270375630          2021-10-11  ...                      C   \n",
       "270376230          2019-01-10  ...                      B   \n",
       "...                       ...  ...                    ...   \n",
       "317051990          2022-05-24  ...                UNKNOWN   \n",
       "317052080          2022-05-02  ...                UNKNOWN   \n",
       "317052090          2022-05-27  ...                UNKNOWN   \n",
       "317052230          2020-12-01  ...                UNKNOWN   \n",
       "317052260          2020-12-01  ...                UNKNOWN   \n",
       "\n",
       "           ad_energylegislation  ad_energyperformance ad_orientations  \\\n",
       "id                                                                      \n",
       "270022130                   NaN                   NaN             NaN   \n",
       "270205980      PORTUGAL_DEFAULT                   NaN             NaN   \n",
       "270221480      PORTUGAL_DEFAULT                   NaN             NaN   \n",
       "270375630      PORTUGAL_DEFAULT                   NaN             NaN   \n",
       "270376230      PORTUGAL_DEFAULT                   NaN             NaN   \n",
       "...                         ...                   ...             ...   \n",
       "317051990                   NaN                   NaN             NaN   \n",
       "317052080                   NaN                   NaN             NaN   \n",
       "317052090                   NaN                   NaN             NaN   \n",
       "317052230                   NaN                   NaN             NaN   \n",
       "317052260                   NaN                   NaN             NaN   \n",
       "\n",
       "          ad_communitycosts ad_heatingtype ad_isintopfloor  \\\n",
       "id                                                           \n",
       "270022130               NaN            NaN             NaN   \n",
       "270205980               NaN            NaN             NaN   \n",
       "270221480               NaN            NaN             NaN   \n",
       "270375630               NaN            NaN             NaN   \n",
       "270376230              56.0            NaN             NaN   \n",
       "...                     ...            ...             ...   \n",
       "317051990               NaN            NaN             NaN   \n",
       "317052080               NaN            NaN             NaN   \n",
       "317052090               NaN            NaN             NaN   \n",
       "317052230               NaN            NaN             NaN   \n",
       "317052260               NaN            NaN             NaN   \n",
       "\n",
       "          ad_hashandicapadaptedaccess ad_hashandicapadapteduse  \\\n",
       "id                                                               \n",
       "270022130                         NaN                      NaN   \n",
       "270205980                         NaN                      NaN   \n",
       "270221480                         NaN                      NaN   \n",
       "270375630                         NaN                      NaN   \n",
       "270376230                         NaN                      NaN   \n",
       "...                               ...                      ...   \n",
       "317051990                         0.0                      0.0   \n",
       "317052080                         0.0                      0.0   \n",
       "317052090                         0.0                      0.0   \n",
       "317052230                         0.0                      0.0   \n",
       "317052260                         0.0                      0.0   \n",
       "\n",
       "                                                  ad_comment  \n",
       "id                                                            \n",
       "270022130  Espectacular terreno com belas paisagens de mo...  \n",
       "270205980  MOR_1744\\n\\nVendo linda moradia de 6 assoalhad...  \n",
       "270221480  Loja situada no Centro Comercial de São Marcos...  \n",
       "270375630  Loja- com 56m2 com saída de fumos, wc´s com 2m...  \n",
       "270376230  Oportunidade de Investimento imóvel arrendado....  \n",
       "...                                                      ...  \n",
       "317051990  Imagine viver numa das localizações mais desej...  \n",
       "317052080  Imagine viver numa das localizações mais desej...  \n",
       "317052090  Imagine viver numa das localizações mais desej...  \n",
       "317052230  Imagine viver numa das localizações mais desej...  \n",
       "317052260  Imagine viver numa das localizações mais desej...  \n",
       "\n",
       "[76531 rows x 67 columns]"
      ]
     },
     "execution_count": 7,
     "metadata": {},
     "output_type": "execute_result"
    }
   ],
   "source": [
    "df.drop('Unnamed: 0',axis=1)"
   ]
  },
  {
   "cell_type": "code",
   "execution_count": 8,
   "id": "b08eacd1",
   "metadata": {},
   "outputs": [],
   "source": [
    "df1 = df.drop(['id','Unnamed: 0'],axis=1)"
   ]
  },
  {
   "cell_type": "code",
   "execution_count": 9,
   "id": "e9462038",
   "metadata": {},
   "outputs": [
    {
     "data": {
      "text/plain": [
       "(76531, 66)"
      ]
     },
     "execution_count": 9,
     "metadata": {},
     "output_type": "execute_result"
    }
   ],
   "source": [
    "df1.shape"
   ]
  },
  {
   "cell_type": "code",
   "execution_count": 10,
   "id": "83124501",
   "metadata": {},
   "outputs": [
    {
     "data": {
      "text/plain": [
       "ad_id                            int64\n",
       "ad_state                         int64\n",
       "ad_operation                     int64\n",
       "ad_typology                      int64\n",
       "ad_propertytype                  int64\n",
       "                                ...   \n",
       "ad_heatingtype                  object\n",
       "ad_isintopfloor                float64\n",
       "ad_hashandicapadaptedaccess    float64\n",
       "ad_hashandicapadapteduse       float64\n",
       "ad_comment                      object\n",
       "Length: 66, dtype: object"
      ]
     },
     "execution_count": 10,
     "metadata": {},
     "output_type": "execute_result"
    }
   ],
   "source": [
    "df1.dtypes"
   ]
  },
  {
   "cell_type": "markdown",
   "id": "cb578e20",
   "metadata": {},
   "source": [
    "## Dealing with missing values"
   ]
  },
  {
   "cell_type": "markdown",
   "id": "e51f0b1f",
   "metadata": {},
   "source": [
    "- Check if there  is any missing value ?"
   ]
  },
  {
   "cell_type": "code",
   "execution_count": 11,
   "id": "abe15d50",
   "metadata": {},
   "outputs": [
    {
     "data": {
      "text/plain": [
       "ad_id                              0\n",
       "ad_state                           0\n",
       "ad_operation                       0\n",
       "ad_typology                        0\n",
       "ad_propertytype                    0\n",
       "                               ...  \n",
       "ad_heatingtype                 71434\n",
       "ad_isintopfloor                74580\n",
       "ad_hashandicapadaptedaccess    70161\n",
       "ad_hashandicapadapteduse       72136\n",
       "ad_comment                       186\n",
       "Length: 66, dtype: int64"
      ]
     },
     "execution_count": 11,
     "metadata": {},
     "output_type": "execute_result"
    }
   ],
   "source": [
    "df1.isnull().sum()"
   ]
  },
  {
   "cell_type": "code",
   "execution_count": 12,
   "id": "f00b37cd",
   "metadata": {},
   "outputs": [],
   "source": [
    "df1 = df1.fillna(0)"
   ]
  },
  {
   "cell_type": "code",
   "execution_count": 13,
   "id": "520131f0",
   "metadata": {},
   "outputs": [
    {
     "data": {
      "text/plain": [
       "ad_id                          0\n",
       "ad_state                       0\n",
       "ad_operation                   0\n",
       "ad_typology                    0\n",
       "ad_propertytype                0\n",
       "                              ..\n",
       "ad_heatingtype                 0\n",
       "ad_isintopfloor                0\n",
       "ad_hashandicapadaptedaccess    0\n",
       "ad_hashandicapadapteduse       0\n",
       "ad_comment                     0\n",
       "Length: 66, dtype: int64"
      ]
     },
     "execution_count": 13,
     "metadata": {},
     "output_type": "execute_result"
    }
   ],
   "source": [
    "df1.isnull().sum()"
   ]
  },
  {
   "cell_type": "markdown",
   "id": "7a3927c3",
   "metadata": {},
   "source": [
    "## Statistics "
   ]
  },
  {
   "cell_type": "markdown",
   "id": "b03ba784",
   "metadata": {},
   "source": [
    "- Do some statistics like find relationship, do analysis of columns \n",
    "- Summarising the data in the form of graps and numbers."
   ]
  },
  {
   "cell_type": "code",
   "execution_count": 14,
   "id": "031fab00",
   "metadata": {},
   "outputs": [
    {
     "data": {
      "text/html": [
       "<div>\n",
       "<style scoped>\n",
       "    .dataframe tbody tr th:only-of-type {\n",
       "        vertical-align: middle;\n",
       "    }\n",
       "\n",
       "    .dataframe tbody tr th {\n",
       "        vertical-align: top;\n",
       "    }\n",
       "\n",
       "    .dataframe thead th {\n",
       "        text-align: right;\n",
       "    }\n",
       "</style>\n",
       "<table border=\"1\" class=\"dataframe\">\n",
       "  <thead>\n",
       "    <tr style=\"text-align: right;\">\n",
       "      <th></th>\n",
       "      <th>ad_id</th>\n",
       "      <th>ad_state</th>\n",
       "      <th>ad_operation</th>\n",
       "      <th>ad_typology</th>\n",
       "      <th>ad_propertytype</th>\n",
       "      <th>ad_price</th>\n",
       "      <th>ad_unitprice</th>\n",
       "      <th>ad_latitude</th>\n",
       "      <th>ad_longitude</th>\n",
       "      <th>ad_streetnumber</th>\n",
       "      <th>...</th>\n",
       "      <th>ad_hasterrace</th>\n",
       "      <th>ad_hashotwater</th>\n",
       "      <th>ad_hasheating</th>\n",
       "      <th>ad_hasairconditioning</th>\n",
       "      <th>ad_minimalStay</th>\n",
       "      <th>ad_energyperformance</th>\n",
       "      <th>ad_communitycosts</th>\n",
       "      <th>ad_isintopfloor</th>\n",
       "      <th>ad_hashandicapadaptedaccess</th>\n",
       "      <th>ad_hashandicapadapteduse</th>\n",
       "    </tr>\n",
       "  </thead>\n",
       "  <tbody>\n",
       "    <tr>\n",
       "      <th>count</th>\n",
       "      <td>7.653100e+04</td>\n",
       "      <td>76531.000000</td>\n",
       "      <td>76531.000000</td>\n",
       "      <td>76531.000000</td>\n",
       "      <td>76531.000000</td>\n",
       "      <td>7.653100e+04</td>\n",
       "      <td>7.653100e+04</td>\n",
       "      <td>76531.000000</td>\n",
       "      <td>76531.000000</td>\n",
       "      <td>76531.000000</td>\n",
       "      <td>...</td>\n",
       "      <td>76531.000000</td>\n",
       "      <td>76531.000000</td>\n",
       "      <td>76531.000000</td>\n",
       "      <td>76531.000000</td>\n",
       "      <td>76531.00000</td>\n",
       "      <td>7.653100e+04</td>\n",
       "      <td>7.653100e+04</td>\n",
       "      <td>76531.000000</td>\n",
       "      <td>76531.000000</td>\n",
       "      <td>76531.000000</td>\n",
       "    </tr>\n",
       "    <tr>\n",
       "      <th>mean</th>\n",
       "      <td>3.045182e+07</td>\n",
       "      <td>3.927180</td>\n",
       "      <td>1.131960</td>\n",
       "      <td>3.011407</td>\n",
       "      <td>1.047915</td>\n",
       "      <td>4.308828e+05</td>\n",
       "      <td>2.284114e+03</td>\n",
       "      <td>38.752161</td>\n",
       "      <td>-9.181728</td>\n",
       "      <td>3.223831</td>\n",
       "      <td>...</td>\n",
       "      <td>0.106493</td>\n",
       "      <td>0.003306</td>\n",
       "      <td>0.042009</td>\n",
       "      <td>0.145157</td>\n",
       "      <td>0.00341</td>\n",
       "      <td>2.346187e+03</td>\n",
       "      <td>2.644573e+01</td>\n",
       "      <td>0.014086</td>\n",
       "      <td>0.022096</td>\n",
       "      <td>0.013563</td>\n",
       "    </tr>\n",
       "    <tr>\n",
       "      <th>std</th>\n",
       "      <td>6.011050e+05</td>\n",
       "      <td>0.259843</td>\n",
       "      <td>0.338449</td>\n",
       "      <td>2.963309</td>\n",
       "      <td>0.213588</td>\n",
       "      <td>8.793676e+05</td>\n",
       "      <td>1.305044e+04</td>\n",
       "      <td>0.135723</td>\n",
       "      <td>0.140443</td>\n",
       "      <td>229.901483</td>\n",
       "      <td>...</td>\n",
       "      <td>0.308469</td>\n",
       "      <td>0.057402</td>\n",
       "      <td>0.200611</td>\n",
       "      <td>0.352261</td>\n",
       "      <td>0.11658</td>\n",
       "      <td>6.434592e+05</td>\n",
       "      <td>4.623492e+03</td>\n",
       "      <td>0.117846</td>\n",
       "      <td>0.146996</td>\n",
       "      <td>0.115669</td>\n",
       "    </tr>\n",
       "    <tr>\n",
       "      <th>min</th>\n",
       "      <td>2.700221e+07</td>\n",
       "      <td>3.000000</td>\n",
       "      <td>1.000000</td>\n",
       "      <td>1.000000</td>\n",
       "      <td>1.000000</td>\n",
       "      <td>0.000000e+00</td>\n",
       "      <td>0.000000e+00</td>\n",
       "      <td>38.472134</td>\n",
       "      <td>-9.496231</td>\n",
       "      <td>0.000000</td>\n",
       "      <td>...</td>\n",
       "      <td>0.000000</td>\n",
       "      <td>0.000000</td>\n",
       "      <td>0.000000</td>\n",
       "      <td>0.000000</td>\n",
       "      <td>0.00000</td>\n",
       "      <td>0.000000e+00</td>\n",
       "      <td>0.000000e+00</td>\n",
       "      <td>0.000000</td>\n",
       "      <td>0.000000</td>\n",
       "      <td>0.000000</td>\n",
       "    </tr>\n",
       "    <tr>\n",
       "      <th>25%</th>\n",
       "      <td>3.028508e+07</td>\n",
       "      <td>4.000000</td>\n",
       "      <td>1.000000</td>\n",
       "      <td>1.000000</td>\n",
       "      <td>1.000000</td>\n",
       "      <td>8.900000e+04</td>\n",
       "      <td>3.582165e+02</td>\n",
       "      <td>38.698923</td>\n",
       "      <td>-9.277970</td>\n",
       "      <td>0.000000</td>\n",
       "      <td>...</td>\n",
       "      <td>0.000000</td>\n",
       "      <td>0.000000</td>\n",
       "      <td>0.000000</td>\n",
       "      <td>0.000000</td>\n",
       "      <td>0.00000</td>\n",
       "      <td>0.000000e+00</td>\n",
       "      <td>0.000000e+00</td>\n",
       "      <td>0.000000</td>\n",
       "      <td>0.000000</td>\n",
       "      <td>0.000000</td>\n",
       "    </tr>\n",
       "    <tr>\n",
       "      <th>50%</th>\n",
       "      <td>3.067392e+07</td>\n",
       "      <td>4.000000</td>\n",
       "      <td>1.000000</td>\n",
       "      <td>1.000000</td>\n",
       "      <td>1.000000</td>\n",
       "      <td>2.210000e+05</td>\n",
       "      <td>1.636364e+03</td>\n",
       "      <td>38.722532</td>\n",
       "      <td>-9.163160</td>\n",
       "      <td>0.000000</td>\n",
       "      <td>...</td>\n",
       "      <td>0.000000</td>\n",
       "      <td>0.000000</td>\n",
       "      <td>0.000000</td>\n",
       "      <td>0.000000</td>\n",
       "      <td>0.00000</td>\n",
       "      <td>0.000000e+00</td>\n",
       "      <td>0.000000e+00</td>\n",
       "      <td>0.000000</td>\n",
       "      <td>0.000000</td>\n",
       "      <td>0.000000</td>\n",
       "    </tr>\n",
       "    <tr>\n",
       "      <th>75%</th>\n",
       "      <td>3.084735e+07</td>\n",
       "      <td>4.000000</td>\n",
       "      <td>1.000000</td>\n",
       "      <td>6.000000</td>\n",
       "      <td>1.000000</td>\n",
       "      <td>4.750000e+05</td>\n",
       "      <td>3.142857e+03</td>\n",
       "      <td>38.773402</td>\n",
       "      <td>-9.120061</td>\n",
       "      <td>0.000000</td>\n",
       "      <td>...</td>\n",
       "      <td>0.000000</td>\n",
       "      <td>0.000000</td>\n",
       "      <td>0.000000</td>\n",
       "      <td>0.000000</td>\n",
       "      <td>0.00000</td>\n",
       "      <td>0.000000e+00</td>\n",
       "      <td>0.000000e+00</td>\n",
       "      <td>0.000000</td>\n",
       "      <td>0.000000</td>\n",
       "      <td>0.000000</td>\n",
       "    </tr>\n",
       "    <tr>\n",
       "      <th>max</th>\n",
       "      <td>3.170523e+07</td>\n",
       "      <td>4.000000</td>\n",
       "      <td>2.000000</td>\n",
       "      <td>13.000000</td>\n",
       "      <td>2.000000</td>\n",
       "      <td>4.200000e+07</td>\n",
       "      <td>3.000000e+06</td>\n",
       "      <td>39.307200</td>\n",
       "      <td>-8.557175</td>\n",
       "      <td>44601.000000</td>\n",
       "      <td>...</td>\n",
       "      <td>1.000000</td>\n",
       "      <td>1.000000</td>\n",
       "      <td>1.000000</td>\n",
       "      <td>1.000000</td>\n",
       "      <td>6.00000</td>\n",
       "      <td>1.780015e+08</td>\n",
       "      <td>1.231000e+06</td>\n",
       "      <td>1.000000</td>\n",
       "      <td>1.000000</td>\n",
       "      <td>1.000000</td>\n",
       "    </tr>\n",
       "  </tbody>\n",
       "</table>\n",
       "<p>8 rows × 41 columns</p>\n",
       "</div>"
      ],
      "text/plain": [
       "              ad_id      ad_state  ad_operation   ad_typology  \\\n",
       "count  7.653100e+04  76531.000000  76531.000000  76531.000000   \n",
       "mean   3.045182e+07      3.927180      1.131960      3.011407   \n",
       "std    6.011050e+05      0.259843      0.338449      2.963309   \n",
       "min    2.700221e+07      3.000000      1.000000      1.000000   \n",
       "25%    3.028508e+07      4.000000      1.000000      1.000000   \n",
       "50%    3.067392e+07      4.000000      1.000000      1.000000   \n",
       "75%    3.084735e+07      4.000000      1.000000      6.000000   \n",
       "max    3.170523e+07      4.000000      2.000000     13.000000   \n",
       "\n",
       "       ad_propertytype      ad_price  ad_unitprice   ad_latitude  \\\n",
       "count     76531.000000  7.653100e+04  7.653100e+04  76531.000000   \n",
       "mean          1.047915  4.308828e+05  2.284114e+03     38.752161   \n",
       "std           0.213588  8.793676e+05  1.305044e+04      0.135723   \n",
       "min           1.000000  0.000000e+00  0.000000e+00     38.472134   \n",
       "25%           1.000000  8.900000e+04  3.582165e+02     38.698923   \n",
       "50%           1.000000  2.210000e+05  1.636364e+03     38.722532   \n",
       "75%           1.000000  4.750000e+05  3.142857e+03     38.773402   \n",
       "max           2.000000  4.200000e+07  3.000000e+06     39.307200   \n",
       "\n",
       "       ad_longitude  ad_streetnumber  ...  ad_hasterrace  ad_hashotwater  \\\n",
       "count  76531.000000     76531.000000  ...   76531.000000    76531.000000   \n",
       "mean      -9.181728         3.223831  ...       0.106493        0.003306   \n",
       "std        0.140443       229.901483  ...       0.308469        0.057402   \n",
       "min       -9.496231         0.000000  ...       0.000000        0.000000   \n",
       "25%       -9.277970         0.000000  ...       0.000000        0.000000   \n",
       "50%       -9.163160         0.000000  ...       0.000000        0.000000   \n",
       "75%       -9.120061         0.000000  ...       0.000000        0.000000   \n",
       "max       -8.557175     44601.000000  ...       1.000000        1.000000   \n",
       "\n",
       "       ad_hasheating  ad_hasairconditioning  ad_minimalStay  \\\n",
       "count   76531.000000           76531.000000     76531.00000   \n",
       "mean        0.042009               0.145157         0.00341   \n",
       "std         0.200611               0.352261         0.11658   \n",
       "min         0.000000               0.000000         0.00000   \n",
       "25%         0.000000               0.000000         0.00000   \n",
       "50%         0.000000               0.000000         0.00000   \n",
       "75%         0.000000               0.000000         0.00000   \n",
       "max         1.000000               1.000000         6.00000   \n",
       "\n",
       "       ad_energyperformance  ad_communitycosts  ad_isintopfloor  \\\n",
       "count          7.653100e+04       7.653100e+04     76531.000000   \n",
       "mean           2.346187e+03       2.644573e+01         0.014086   \n",
       "std            6.434592e+05       4.623492e+03         0.117846   \n",
       "min            0.000000e+00       0.000000e+00         0.000000   \n",
       "25%            0.000000e+00       0.000000e+00         0.000000   \n",
       "50%            0.000000e+00       0.000000e+00         0.000000   \n",
       "75%            0.000000e+00       0.000000e+00         0.000000   \n",
       "max            1.780015e+08       1.231000e+06         1.000000   \n",
       "\n",
       "       ad_hashandicapadaptedaccess  ad_hashandicapadapteduse  \n",
       "count                 76531.000000              76531.000000  \n",
       "mean                      0.022096                  0.013563  \n",
       "std                       0.146996                  0.115669  \n",
       "min                       0.000000                  0.000000  \n",
       "25%                       0.000000                  0.000000  \n",
       "50%                       0.000000                  0.000000  \n",
       "75%                       0.000000                  0.000000  \n",
       "max                       1.000000                  1.000000  \n",
       "\n",
       "[8 rows x 41 columns]"
      ]
     },
     "execution_count": 14,
     "metadata": {},
     "output_type": "execute_result"
    }
   ],
   "source": [
    "df1.describe()"
   ]
  },
  {
   "cell_type": "code",
   "execution_count": 15,
   "id": "389c4ad3",
   "metadata": {},
   "outputs": [
    {
     "data": {
      "text/html": [
       "<div>\n",
       "<style scoped>\n",
       "    .dataframe tbody tr th:only-of-type {\n",
       "        vertical-align: middle;\n",
       "    }\n",
       "\n",
       "    .dataframe tbody tr th {\n",
       "        vertical-align: top;\n",
       "    }\n",
       "\n",
       "    .dataframe thead th {\n",
       "        text-align: right;\n",
       "    }\n",
       "</style>\n",
       "<table border=\"1\" class=\"dataframe\">\n",
       "  <thead>\n",
       "    <tr style=\"text-align: right;\">\n",
       "      <th></th>\n",
       "      <th>ad_id</th>\n",
       "      <th>ad_state</th>\n",
       "      <th>ad_operation</th>\n",
       "      <th>ad_typology</th>\n",
       "      <th>ad_propertytype</th>\n",
       "      <th>ad_price</th>\n",
       "      <th>ad_unitprice</th>\n",
       "      <th>ad_latitude</th>\n",
       "      <th>ad_longitude</th>\n",
       "      <th>ad_streetnumber</th>\n",
       "      <th>...</th>\n",
       "      <th>ad_hasterrace</th>\n",
       "      <th>ad_hashotwater</th>\n",
       "      <th>ad_hasheating</th>\n",
       "      <th>ad_hasairconditioning</th>\n",
       "      <th>ad_minimalStay</th>\n",
       "      <th>ad_energyperformance</th>\n",
       "      <th>ad_communitycosts</th>\n",
       "      <th>ad_isintopfloor</th>\n",
       "      <th>ad_hashandicapadaptedaccess</th>\n",
       "      <th>ad_hashandicapadapteduse</th>\n",
       "    </tr>\n",
       "  </thead>\n",
       "  <tbody>\n",
       "    <tr>\n",
       "      <th>ad_id</th>\n",
       "      <td>1.000000</td>\n",
       "      <td>0.157900</td>\n",
       "      <td>0.073641</td>\n",
       "      <td>-0.236835</td>\n",
       "      <td>0.021470</td>\n",
       "      <td>-0.072484</td>\n",
       "      <td>0.007614</td>\n",
       "      <td>-0.063629</td>\n",
       "      <td>0.000913</td>\n",
       "      <td>0.004676</td>\n",
       "      <td>...</td>\n",
       "      <td>0.045196</td>\n",
       "      <td>-0.038801</td>\n",
       "      <td>0.028228</td>\n",
       "      <td>0.033420</td>\n",
       "      <td>0.016082</td>\n",
       "      <td>-0.006548</td>\n",
       "      <td>-0.007092</td>\n",
       "      <td>0.022840</td>\n",
       "      <td>0.019731</td>\n",
       "      <td>0.010447</td>\n",
       "    </tr>\n",
       "    <tr>\n",
       "      <th>ad_state</th>\n",
       "      <td>0.157900</td>\n",
       "      <td>1.000000</td>\n",
       "      <td>0.036909</td>\n",
       "      <td>-0.234787</td>\n",
       "      <td>0.012250</td>\n",
       "      <td>-0.067936</td>\n",
       "      <td>0.008528</td>\n",
       "      <td>-0.060954</td>\n",
       "      <td>-0.044070</td>\n",
       "      <td>-0.000270</td>\n",
       "      <td>...</td>\n",
       "      <td>0.034314</td>\n",
       "      <td>-0.086359</td>\n",
       "      <td>-0.001224</td>\n",
       "      <td>0.027689</td>\n",
       "      <td>-0.005605</td>\n",
       "      <td>0.001022</td>\n",
       "      <td>0.001368</td>\n",
       "      <td>0.017282</td>\n",
       "      <td>0.014758</td>\n",
       "      <td>0.015906</td>\n",
       "    </tr>\n",
       "    <tr>\n",
       "      <th>ad_operation</th>\n",
       "      <td>0.073641</td>\n",
       "      <td>0.036909</td>\n",
       "      <td>1.000000</td>\n",
       "      <td>-0.069002</td>\n",
       "      <td>-0.080418</td>\n",
       "      <td>-0.190169</td>\n",
       "      <td>-0.067792</td>\n",
       "      <td>-0.051481</td>\n",
       "      <td>-0.037891</td>\n",
       "      <td>0.008126</td>\n",
       "      <td>...</td>\n",
       "      <td>-0.049121</td>\n",
       "      <td>0.118116</td>\n",
       "      <td>0.097524</td>\n",
       "      <td>0.046039</td>\n",
       "      <td>0.075029</td>\n",
       "      <td>-0.001421</td>\n",
       "      <td>-0.001896</td>\n",
       "      <td>0.007125</td>\n",
       "      <td>-0.005028</td>\n",
       "      <td>-0.010672</td>\n",
       "    </tr>\n",
       "    <tr>\n",
       "      <th>ad_typology</th>\n",
       "      <td>-0.236835</td>\n",
       "      <td>-0.234787</td>\n",
       "      <td>-0.069002</td>\n",
       "      <td>1.000000</td>\n",
       "      <td>-0.056357</td>\n",
       "      <td>0.076759</td>\n",
       "      <td>-0.044962</td>\n",
       "      <td>0.129520</td>\n",
       "      <td>0.052572</td>\n",
       "      <td>-0.001916</td>\n",
       "      <td>...</td>\n",
       "      <td>-0.180172</td>\n",
       "      <td>0.038648</td>\n",
       "      <td>-0.110049</td>\n",
       "      <td>-0.208580</td>\n",
       "      <td>0.039376</td>\n",
       "      <td>-0.001255</td>\n",
       "      <td>-0.003239</td>\n",
       "      <td>-0.079786</td>\n",
       "      <td>-0.089672</td>\n",
       "      <td>-0.065792</td>\n",
       "    </tr>\n",
       "    <tr>\n",
       "      <th>ad_propertytype</th>\n",
       "      <td>0.021470</td>\n",
       "      <td>0.012250</td>\n",
       "      <td>-0.080418</td>\n",
       "      <td>-0.056357</td>\n",
       "      <td>1.000000</td>\n",
       "      <td>0.051758</td>\n",
       "      <td>0.040594</td>\n",
       "      <td>-0.019797</td>\n",
       "      <td>-0.004429</td>\n",
       "      <td>0.003946</td>\n",
       "      <td>...</td>\n",
       "      <td>0.140512</td>\n",
       "      <td>-0.012920</td>\n",
       "      <td>-0.037524</td>\n",
       "      <td>0.018706</td>\n",
       "      <td>-0.006563</td>\n",
       "      <td>-0.000818</td>\n",
       "      <td>-0.001283</td>\n",
       "      <td>-0.026815</td>\n",
       "      <td>-0.028727</td>\n",
       "      <td>-0.024719</td>\n",
       "    </tr>\n",
       "    <tr>\n",
       "      <th>ad_price</th>\n",
       "      <td>-0.072484</td>\n",
       "      <td>-0.067936</td>\n",
       "      <td>-0.190169</td>\n",
       "      <td>0.076759</td>\n",
       "      <td>0.051758</td>\n",
       "      <td>1.000000</td>\n",
       "      <td>0.079405</td>\n",
       "      <td>-0.057777</td>\n",
       "      <td>-0.097075</td>\n",
       "      <td>-0.000973</td>\n",
       "      <td>...</td>\n",
       "      <td>0.090411</td>\n",
       "      <td>-0.020822</td>\n",
       "      <td>-0.015749</td>\n",
       "      <td>0.072416</td>\n",
       "      <td>-0.014320</td>\n",
       "      <td>0.000171</td>\n",
       "      <td>0.003314</td>\n",
       "      <td>-0.011710</td>\n",
       "      <td>0.010078</td>\n",
       "      <td>0.017782</td>\n",
       "    </tr>\n",
       "    <tr>\n",
       "      <th>ad_unitprice</th>\n",
       "      <td>0.007614</td>\n",
       "      <td>0.008528</td>\n",
       "      <td>-0.067792</td>\n",
       "      <td>-0.044962</td>\n",
       "      <td>0.040594</td>\n",
       "      <td>0.079405</td>\n",
       "      <td>1.000000</td>\n",
       "      <td>-0.026517</td>\n",
       "      <td>-0.008619</td>\n",
       "      <td>-0.000140</td>\n",
       "      <td>...</td>\n",
       "      <td>0.021070</td>\n",
       "      <td>-0.008418</td>\n",
       "      <td>0.002215</td>\n",
       "      <td>0.024331</td>\n",
       "      <td>-0.005104</td>\n",
       "      <td>0.000023</td>\n",
       "      <td>0.000640</td>\n",
       "      <td>0.000619</td>\n",
       "      <td>0.002810</td>\n",
       "      <td>0.003502</td>\n",
       "    </tr>\n",
       "    <tr>\n",
       "      <th>ad_latitude</th>\n",
       "      <td>-0.063629</td>\n",
       "      <td>-0.060954</td>\n",
       "      <td>-0.051481</td>\n",
       "      <td>0.129520</td>\n",
       "      <td>-0.019797</td>\n",
       "      <td>-0.057777</td>\n",
       "      <td>-0.026517</td>\n",
       "      <td>1.000000</td>\n",
       "      <td>-0.283709</td>\n",
       "      <td>-0.001630</td>\n",
       "      <td>...</td>\n",
       "      <td>0.003466</td>\n",
       "      <td>-0.008835</td>\n",
       "      <td>-0.030006</td>\n",
       "      <td>-0.070947</td>\n",
       "      <td>-0.004383</td>\n",
       "      <td>0.000317</td>\n",
       "      <td>-0.002569</td>\n",
       "      <td>-0.020678</td>\n",
       "      <td>-0.021293</td>\n",
       "      <td>-0.026914</td>\n",
       "    </tr>\n",
       "    <tr>\n",
       "      <th>ad_longitude</th>\n",
       "      <td>0.000913</td>\n",
       "      <td>-0.044070</td>\n",
       "      <td>-0.037891</td>\n",
       "      <td>0.052572</td>\n",
       "      <td>-0.004429</td>\n",
       "      <td>-0.097075</td>\n",
       "      <td>-0.008619</td>\n",
       "      <td>-0.283709</td>\n",
       "      <td>1.000000</td>\n",
       "      <td>0.002777</td>\n",
       "      <td>...</td>\n",
       "      <td>-0.070568</td>\n",
       "      <td>0.003218</td>\n",
       "      <td>-0.009828</td>\n",
       "      <td>-0.010352</td>\n",
       "      <td>0.004589</td>\n",
       "      <td>-0.001437</td>\n",
       "      <td>-0.001461</td>\n",
       "      <td>0.011940</td>\n",
       "      <td>0.014999</td>\n",
       "      <td>0.009188</td>\n",
       "    </tr>\n",
       "    <tr>\n",
       "      <th>ad_streetnumber</th>\n",
       "      <td>0.004676</td>\n",
       "      <td>-0.000270</td>\n",
       "      <td>0.008126</td>\n",
       "      <td>-0.001916</td>\n",
       "      <td>0.003946</td>\n",
       "      <td>-0.000973</td>\n",
       "      <td>-0.000140</td>\n",
       "      <td>-0.001630</td>\n",
       "      <td>0.002777</td>\n",
       "      <td>1.000000</td>\n",
       "      <td>...</td>\n",
       "      <td>0.008397</td>\n",
       "      <td>0.008656</td>\n",
       "      <td>0.001805</td>\n",
       "      <td>0.015696</td>\n",
       "      <td>-0.000228</td>\n",
       "      <td>-0.000051</td>\n",
       "      <td>-0.000077</td>\n",
       "      <td>-0.000146</td>\n",
       "      <td>-0.001258</td>\n",
       "      <td>-0.000761</td>\n",
       "    </tr>\n",
       "    <tr>\n",
       "      <th>ad_addressvisible</th>\n",
       "      <td>-0.081510</td>\n",
       "      <td>-0.010679</td>\n",
       "      <td>-0.050627</td>\n",
       "      <td>0.030202</td>\n",
       "      <td>-0.122979</td>\n",
       "      <td>0.025813</td>\n",
       "      <td>0.002216</td>\n",
       "      <td>0.002385</td>\n",
       "      <td>-0.036792</td>\n",
       "      <td>-0.035720</td>\n",
       "      <td>...</td>\n",
       "      <td>-0.022337</td>\n",
       "      <td>-0.064314</td>\n",
       "      <td>-0.084408</td>\n",
       "      <td>-0.003847</td>\n",
       "      <td>-0.017793</td>\n",
       "      <td>0.001848</td>\n",
       "      <td>0.002033</td>\n",
       "      <td>-0.033928</td>\n",
       "      <td>-0.031721</td>\n",
       "      <td>-0.026347</td>\n",
       "    </tr>\n",
       "    <tr>\n",
       "      <th>ad_subtypology</th>\n",
       "      <td>-0.070489</td>\n",
       "      <td>-0.048651</td>\n",
       "      <td>-0.073019</td>\n",
       "      <td>0.043712</td>\n",
       "      <td>0.000875</td>\n",
       "      <td>0.111288</td>\n",
       "      <td>-0.006432</td>\n",
       "      <td>0.059285</td>\n",
       "      <td>0.017121</td>\n",
       "      <td>-0.001394</td>\n",
       "      <td>...</td>\n",
       "      <td>0.170767</td>\n",
       "      <td>-0.021332</td>\n",
       "      <td>-0.039880</td>\n",
       "      <td>0.035371</td>\n",
       "      <td>0.004006</td>\n",
       "      <td>0.005793</td>\n",
       "      <td>0.006681</td>\n",
       "      <td>0.024864</td>\n",
       "      <td>0.020129</td>\n",
       "      <td>0.040345</td>\n",
       "    </tr>\n",
       "    <tr>\n",
       "      <th>ad_area</th>\n",
       "      <td>-0.030084</td>\n",
       "      <td>-0.042712</td>\n",
       "      <td>-0.017024</td>\n",
       "      <td>0.074831</td>\n",
       "      <td>-0.010931</td>\n",
       "      <td>0.152146</td>\n",
       "      <td>-0.008095</td>\n",
       "      <td>0.006416</td>\n",
       "      <td>0.037979</td>\n",
       "      <td>-0.000480</td>\n",
       "      <td>...</td>\n",
       "      <td>-0.013405</td>\n",
       "      <td>-0.002774</td>\n",
       "      <td>-0.009209</td>\n",
       "      <td>-0.018681</td>\n",
       "      <td>-0.001452</td>\n",
       "      <td>-0.000167</td>\n",
       "      <td>-0.000250</td>\n",
       "      <td>-0.004410</td>\n",
       "      <td>-0.005732</td>\n",
       "      <td>-0.004766</td>\n",
       "    </tr>\n",
       "    <tr>\n",
       "      <th>ad_builttype</th>\n",
       "      <td>0.205537</td>\n",
       "      <td>0.142721</td>\n",
       "      <td>0.140132</td>\n",
       "      <td>-0.651962</td>\n",
       "      <td>-0.289288</td>\n",
       "      <td>-0.020199</td>\n",
       "      <td>0.021416</td>\n",
       "      <td>-0.140005</td>\n",
       "      <td>-0.033140</td>\n",
       "      <td>0.000344</td>\n",
       "      <td>...</td>\n",
       "      <td>0.094053</td>\n",
       "      <td>0.030879</td>\n",
       "      <td>0.104600</td>\n",
       "      <td>0.174991</td>\n",
       "      <td>-0.060126</td>\n",
       "      <td>0.001992</td>\n",
       "      <td>0.003068</td>\n",
       "      <td>0.057623</td>\n",
       "      <td>0.077437</td>\n",
       "      <td>0.061528</td>\n",
       "    </tr>\n",
       "    <tr>\n",
       "      <th>ad_roomnumber</th>\n",
       "      <td>0.110196</td>\n",
       "      <td>0.127576</td>\n",
       "      <td>-0.079945</td>\n",
       "      <td>-0.593970</td>\n",
       "      <td>-0.000068</td>\n",
       "      <td>0.200854</td>\n",
       "      <td>0.032756</td>\n",
       "      <td>-0.050222</td>\n",
       "      <td>-0.093748</td>\n",
       "      <td>0.005141</td>\n",
       "      <td>...</td>\n",
       "      <td>0.254741</td>\n",
       "      <td>-0.063300</td>\n",
       "      <td>0.040306</td>\n",
       "      <td>0.188613</td>\n",
       "      <td>0.030757</td>\n",
       "      <td>0.006069</td>\n",
       "      <td>0.006593</td>\n",
       "      <td>0.045981</td>\n",
       "      <td>0.091055</td>\n",
       "      <td>0.085207</td>\n",
       "    </tr>\n",
       "    <tr>\n",
       "      <th>ad_bathnumber</th>\n",
       "      <td>0.067152</td>\n",
       "      <td>0.086292</td>\n",
       "      <td>-0.029317</td>\n",
       "      <td>-0.487110</td>\n",
       "      <td>0.052772</td>\n",
       "      <td>0.235017</td>\n",
       "      <td>0.039261</td>\n",
       "      <td>-0.056271</td>\n",
       "      <td>-0.140588</td>\n",
       "      <td>0.004230</td>\n",
       "      <td>...</td>\n",
       "      <td>0.288344</td>\n",
       "      <td>0.027700</td>\n",
       "      <td>0.076449</td>\n",
       "      <td>0.271956</td>\n",
       "      <td>0.008001</td>\n",
       "      <td>0.006029</td>\n",
       "      <td>0.004562</td>\n",
       "      <td>0.027042</td>\n",
       "      <td>0.092468</td>\n",
       "      <td>0.089670</td>\n",
       "    </tr>\n",
       "    <tr>\n",
       "      <th>ad_flatlocation</th>\n",
       "      <td>-0.018591</td>\n",
       "      <td>0.035834</td>\n",
       "      <td>-0.135204</td>\n",
       "      <td>-0.153930</td>\n",
       "      <td>-0.069101</td>\n",
       "      <td>0.156570</td>\n",
       "      <td>0.003485</td>\n",
       "      <td>0.092043</td>\n",
       "      <td>-0.109026</td>\n",
       "      <td>-0.002874</td>\n",
       "      <td>...</td>\n",
       "      <td>0.229682</td>\n",
       "      <td>-0.026912</td>\n",
       "      <td>-0.096507</td>\n",
       "      <td>0.082932</td>\n",
       "      <td>-0.013670</td>\n",
       "      <td>0.007637</td>\n",
       "      <td>-0.000004</td>\n",
       "      <td>-0.055568</td>\n",
       "      <td>0.024629</td>\n",
       "      <td>0.049130</td>\n",
       "    </tr>\n",
       "    <tr>\n",
       "      <th>ad_haslift</th>\n",
       "      <td>0.093300</td>\n",
       "      <td>0.072835</td>\n",
       "      <td>0.081075</td>\n",
       "      <td>-0.336065</td>\n",
       "      <td>0.304828</td>\n",
       "      <td>-0.008082</td>\n",
       "      <td>0.034283</td>\n",
       "      <td>-0.084952</td>\n",
       "      <td>-0.015000</td>\n",
       "      <td>0.011161</td>\n",
       "      <td>...</td>\n",
       "      <td>0.083390</td>\n",
       "      <td>0.080652</td>\n",
       "      <td>0.235647</td>\n",
       "      <td>0.277129</td>\n",
       "      <td>0.001752</td>\n",
       "      <td>-0.002075</td>\n",
       "      <td>0.005856</td>\n",
       "      <td>0.057721</td>\n",
       "      <td>0.146568</td>\n",
       "      <td>0.095318</td>\n",
       "    </tr>\n",
       "    <tr>\n",
       "      <th>ad_hasparkingspace</th>\n",
       "      <td>0.030275</td>\n",
       "      <td>0.056640</td>\n",
       "      <td>-0.038070</td>\n",
       "      <td>-0.252649</td>\n",
       "      <td>0.215074</td>\n",
       "      <td>0.112364</td>\n",
       "      <td>0.029093</td>\n",
       "      <td>-0.019597</td>\n",
       "      <td>-0.085419</td>\n",
       "      <td>0.011168</td>\n",
       "      <td>...</td>\n",
       "      <td>0.332775</td>\n",
       "      <td>-0.006861</td>\n",
       "      <td>0.182629</td>\n",
       "      <td>0.330347</td>\n",
       "      <td>-0.014119</td>\n",
       "      <td>0.007474</td>\n",
       "      <td>0.007254</td>\n",
       "      <td>0.035784</td>\n",
       "      <td>0.197452</td>\n",
       "      <td>0.170231</td>\n",
       "    </tr>\n",
       "    <tr>\n",
       "      <th>ad_hasboxroom</th>\n",
       "      <td>0.048246</td>\n",
       "      <td>0.045395</td>\n",
       "      <td>-0.050124</td>\n",
       "      <td>-0.208503</td>\n",
       "      <td>0.046020</td>\n",
       "      <td>0.056563</td>\n",
       "      <td>0.012974</td>\n",
       "      <td>0.003991</td>\n",
       "      <td>-0.078722</td>\n",
       "      <td>0.014480</td>\n",
       "      <td>...</td>\n",
       "      <td>0.260404</td>\n",
       "      <td>-0.021079</td>\n",
       "      <td>0.159663</td>\n",
       "      <td>0.244056</td>\n",
       "      <td>-0.010707</td>\n",
       "      <td>0.009865</td>\n",
       "      <td>-0.001256</td>\n",
       "      <td>0.053470</td>\n",
       "      <td>0.141898</td>\n",
       "      <td>0.121229</td>\n",
       "    </tr>\n",
       "    <tr>\n",
       "      <th>ad_hasswimmingpool</th>\n",
       "      <td>-0.002331</td>\n",
       "      <td>0.018912</td>\n",
       "      <td>-0.053267</td>\n",
       "      <td>-0.115414</td>\n",
       "      <td>0.160093</td>\n",
       "      <td>0.163640</td>\n",
       "      <td>0.026211</td>\n",
       "      <td>-0.031719</td>\n",
       "      <td>-0.113021</td>\n",
       "      <td>0.000583</td>\n",
       "      <td>...</td>\n",
       "      <td>0.260343</td>\n",
       "      <td>-0.016065</td>\n",
       "      <td>0.030930</td>\n",
       "      <td>0.225596</td>\n",
       "      <td>-0.008160</td>\n",
       "      <td>-0.001017</td>\n",
       "      <td>0.012493</td>\n",
       "      <td>-0.005494</td>\n",
       "      <td>0.092022</td>\n",
       "      <td>0.095619</td>\n",
       "    </tr>\n",
       "    <tr>\n",
       "      <th>newdevelopment_fromprice</th>\n",
       "      <td>-0.004108</td>\n",
       "      <td>-0.010546</td>\n",
       "      <td>-0.022374</td>\n",
       "      <td>0.135346</td>\n",
       "      <td>0.255818</td>\n",
       "      <td>-0.020229</td>\n",
       "      <td>-0.010044</td>\n",
       "      <td>-0.004431</td>\n",
       "      <td>-0.020236</td>\n",
       "      <td>0.000738</td>\n",
       "      <td>...</td>\n",
       "      <td>-0.019813</td>\n",
       "      <td>-0.003305</td>\n",
       "      <td>-0.012018</td>\n",
       "      <td>-0.023649</td>\n",
       "      <td>-0.001679</td>\n",
       "      <td>-0.000209</td>\n",
       "      <td>-0.000328</td>\n",
       "      <td>-0.006860</td>\n",
       "      <td>-0.008626</td>\n",
       "      <td>-0.006729</td>\n",
       "    </tr>\n",
       "    <tr>\n",
       "      <th>newdevelopment_averageprice</th>\n",
       "      <td>-0.006687</td>\n",
       "      <td>-0.020489</td>\n",
       "      <td>-0.024024</td>\n",
       "      <td>0.146170</td>\n",
       "      <td>0.276277</td>\n",
       "      <td>-0.019962</td>\n",
       "      <td>-0.010848</td>\n",
       "      <td>-0.005854</td>\n",
       "      <td>-0.014202</td>\n",
       "      <td>0.000810</td>\n",
       "      <td>...</td>\n",
       "      <td>-0.021397</td>\n",
       "      <td>-0.003569</td>\n",
       "      <td>-0.012979</td>\n",
       "      <td>-0.025540</td>\n",
       "      <td>-0.001813</td>\n",
       "      <td>-0.000226</td>\n",
       "      <td>-0.000355</td>\n",
       "      <td>-0.007408</td>\n",
       "      <td>-0.009316</td>\n",
       "      <td>-0.007268</td>\n",
       "    </tr>\n",
       "    <tr>\n",
       "      <th>ad_isAuction</th>\n",
       "      <td>NaN</td>\n",
       "      <td>NaN</td>\n",
       "      <td>NaN</td>\n",
       "      <td>NaN</td>\n",
       "      <td>NaN</td>\n",
       "      <td>NaN</td>\n",
       "      <td>NaN</td>\n",
       "      <td>NaN</td>\n",
       "      <td>NaN</td>\n",
       "      <td>NaN</td>\n",
       "      <td>...</td>\n",
       "      <td>NaN</td>\n",
       "      <td>NaN</td>\n",
       "      <td>NaN</td>\n",
       "      <td>NaN</td>\n",
       "      <td>NaN</td>\n",
       "      <td>NaN</td>\n",
       "      <td>NaN</td>\n",
       "      <td>NaN</td>\n",
       "      <td>NaN</td>\n",
       "      <td>NaN</td>\n",
       "    </tr>\n",
       "    <tr>\n",
       "      <th>ad_constructionyear</th>\n",
       "      <td>0.139537</td>\n",
       "      <td>0.090000</td>\n",
       "      <td>-0.044625</td>\n",
       "      <td>-0.337297</td>\n",
       "      <td>-0.171282</td>\n",
       "      <td>-0.047324</td>\n",
       "      <td>0.002542</td>\n",
       "      <td>-0.046301</td>\n",
       "      <td>0.016932</td>\n",
       "      <td>0.001800</td>\n",
       "      <td>...</td>\n",
       "      <td>0.101541</td>\n",
       "      <td>-0.009239</td>\n",
       "      <td>0.116741</td>\n",
       "      <td>0.111784</td>\n",
       "      <td>-0.022352</td>\n",
       "      <td>-0.002721</td>\n",
       "      <td>-0.002878</td>\n",
       "      <td>0.075998</td>\n",
       "      <td>0.131546</td>\n",
       "      <td>0.106315</td>\n",
       "    </tr>\n",
       "    <tr>\n",
       "      <th>adstats_visits</th>\n",
       "      <td>-0.127273</td>\n",
       "      <td>-0.155393</td>\n",
       "      <td>-0.016486</td>\n",
       "      <td>-0.047127</td>\n",
       "      <td>-0.006748</td>\n",
       "      <td>0.007112</td>\n",
       "      <td>-0.010767</td>\n",
       "      <td>0.048189</td>\n",
       "      <td>-0.014573</td>\n",
       "      <td>-0.000497</td>\n",
       "      <td>...</td>\n",
       "      <td>0.064561</td>\n",
       "      <td>0.001281</td>\n",
       "      <td>0.008969</td>\n",
       "      <td>-0.003480</td>\n",
       "      <td>-0.002099</td>\n",
       "      <td>0.003942</td>\n",
       "      <td>-0.000038</td>\n",
       "      <td>0.037607</td>\n",
       "      <td>0.028690</td>\n",
       "      <td>0.016201</td>\n",
       "    </tr>\n",
       "    <tr>\n",
       "      <th>adstats_sendtofriend</th>\n",
       "      <td>-0.069852</td>\n",
       "      <td>0.002638</td>\n",
       "      <td>0.004587</td>\n",
       "      <td>-0.093685</td>\n",
       "      <td>-0.038831</td>\n",
       "      <td>-0.012937</td>\n",
       "      <td>-0.006741</td>\n",
       "      <td>0.010306</td>\n",
       "      <td>-0.043784</td>\n",
       "      <td>0.000742</td>\n",
       "      <td>...</td>\n",
       "      <td>0.067747</td>\n",
       "      <td>-0.004945</td>\n",
       "      <td>0.025340</td>\n",
       "      <td>0.017008</td>\n",
       "      <td>-0.008498</td>\n",
       "      <td>0.003501</td>\n",
       "      <td>0.000942</td>\n",
       "      <td>0.037713</td>\n",
       "      <td>0.032298</td>\n",
       "      <td>0.022663</td>\n",
       "    </tr>\n",
       "    <tr>\n",
       "      <th>adstats_savedasfavorite</th>\n",
       "      <td>-0.026681</td>\n",
       "      <td>-0.002882</td>\n",
       "      <td>0.069832</td>\n",
       "      <td>-0.173732</td>\n",
       "      <td>-0.050552</td>\n",
       "      <td>-0.047675</td>\n",
       "      <td>-0.011302</td>\n",
       "      <td>-0.006917</td>\n",
       "      <td>-0.040923</td>\n",
       "      <td>0.000327</td>\n",
       "      <td>...</td>\n",
       "      <td>0.107574</td>\n",
       "      <td>-0.021854</td>\n",
       "      <td>0.044149</td>\n",
       "      <td>0.026823</td>\n",
       "      <td>0.023173</td>\n",
       "      <td>0.001868</td>\n",
       "      <td>0.001796</td>\n",
       "      <td>0.080113</td>\n",
       "      <td>0.044749</td>\n",
       "      <td>0.030623</td>\n",
       "    </tr>\n",
       "    <tr>\n",
       "      <th>adstats_daysonmarket</th>\n",
       "      <td>-0.707307</td>\n",
       "      <td>-0.440553</td>\n",
       "      <td>-0.110083</td>\n",
       "      <td>0.305447</td>\n",
       "      <td>0.033922</td>\n",
       "      <td>0.096947</td>\n",
       "      <td>-0.002917</td>\n",
       "      <td>0.069936</td>\n",
       "      <td>0.033115</td>\n",
       "      <td>-0.005692</td>\n",
       "      <td>...</td>\n",
       "      <td>-0.036867</td>\n",
       "      <td>0.077612</td>\n",
       "      <td>-0.017892</td>\n",
       "      <td>-0.027327</td>\n",
       "      <td>-0.011733</td>\n",
       "      <td>0.008085</td>\n",
       "      <td>0.007318</td>\n",
       "      <td>-0.023075</td>\n",
       "      <td>-0.022760</td>\n",
       "      <td>-0.017214</td>\n",
       "    </tr>\n",
       "    <tr>\n",
       "      <th>adstats_contactsbyemail</th>\n",
       "      <td>-0.044455</td>\n",
       "      <td>-0.001318</td>\n",
       "      <td>0.195591</td>\n",
       "      <td>-0.089330</td>\n",
       "      <td>-0.034548</td>\n",
       "      <td>-0.077179</td>\n",
       "      <td>-0.021748</td>\n",
       "      <td>-0.017618</td>\n",
       "      <td>0.000829</td>\n",
       "      <td>0.001201</td>\n",
       "      <td>...</td>\n",
       "      <td>0.032354</td>\n",
       "      <td>-0.004711</td>\n",
       "      <td>0.029516</td>\n",
       "      <td>-0.012415</td>\n",
       "      <td>0.061182</td>\n",
       "      <td>0.002475</td>\n",
       "      <td>0.000329</td>\n",
       "      <td>0.047220</td>\n",
       "      <td>0.023352</td>\n",
       "      <td>0.011899</td>\n",
       "    </tr>\n",
       "    <tr>\n",
       "      <th>ad_hasgarden</th>\n",
       "      <td>0.003086</td>\n",
       "      <td>0.028571</td>\n",
       "      <td>-0.053024</td>\n",
       "      <td>-0.132281</td>\n",
       "      <td>0.018719</td>\n",
       "      <td>0.141450</td>\n",
       "      <td>0.017185</td>\n",
       "      <td>0.010882</td>\n",
       "      <td>-0.141379</td>\n",
       "      <td>-0.000526</td>\n",
       "      <td>...</td>\n",
       "      <td>0.334212</td>\n",
       "      <td>-0.019289</td>\n",
       "      <td>0.044065</td>\n",
       "      <td>0.235701</td>\n",
       "      <td>-0.002354</td>\n",
       "      <td>0.010782</td>\n",
       "      <td>0.010419</td>\n",
       "      <td>-0.005423</td>\n",
       "      <td>0.122926</td>\n",
       "      <td>0.121279</td>\n",
       "    </tr>\n",
       "    <tr>\n",
       "      <th>ad_hasterrace</th>\n",
       "      <td>0.045196</td>\n",
       "      <td>0.034314</td>\n",
       "      <td>-0.049121</td>\n",
       "      <td>-0.180172</td>\n",
       "      <td>0.140512</td>\n",
       "      <td>0.090411</td>\n",
       "      <td>0.021070</td>\n",
       "      <td>0.003466</td>\n",
       "      <td>-0.070568</td>\n",
       "      <td>0.008397</td>\n",
       "      <td>...</td>\n",
       "      <td>1.000000</td>\n",
       "      <td>-0.019883</td>\n",
       "      <td>0.090929</td>\n",
       "      <td>0.236772</td>\n",
       "      <td>0.011339</td>\n",
       "      <td>0.010460</td>\n",
       "      <td>-0.001610</td>\n",
       "      <td>0.059023</td>\n",
       "      <td>0.131960</td>\n",
       "      <td>0.113330</td>\n",
       "    </tr>\n",
       "    <tr>\n",
       "      <th>ad_hashotwater</th>\n",
       "      <td>-0.038801</td>\n",
       "      <td>-0.086359</td>\n",
       "      <td>0.118116</td>\n",
       "      <td>0.038648</td>\n",
       "      <td>-0.012920</td>\n",
       "      <td>-0.020822</td>\n",
       "      <td>-0.008418</td>\n",
       "      <td>-0.008835</td>\n",
       "      <td>0.003218</td>\n",
       "      <td>0.008656</td>\n",
       "      <td>...</td>\n",
       "      <td>-0.019883</td>\n",
       "      <td>1.000000</td>\n",
       "      <td>0.217153</td>\n",
       "      <td>0.119082</td>\n",
       "      <td>-0.001685</td>\n",
       "      <td>-0.000210</td>\n",
       "      <td>-0.000240</td>\n",
       "      <td>-0.006884</td>\n",
       "      <td>-0.008657</td>\n",
       "      <td>-0.006753</td>\n",
       "    </tr>\n",
       "    <tr>\n",
       "      <th>ad_hasheating</th>\n",
       "      <td>0.028228</td>\n",
       "      <td>-0.001224</td>\n",
       "      <td>0.097524</td>\n",
       "      <td>-0.110049</td>\n",
       "      <td>-0.037524</td>\n",
       "      <td>-0.015749</td>\n",
       "      <td>0.002215</td>\n",
       "      <td>-0.030006</td>\n",
       "      <td>-0.009828</td>\n",
       "      <td>0.001805</td>\n",
       "      <td>...</td>\n",
       "      <td>0.090929</td>\n",
       "      <td>0.217153</td>\n",
       "      <td>1.000000</td>\n",
       "      <td>0.270575</td>\n",
       "      <td>0.012312</td>\n",
       "      <td>-0.000763</td>\n",
       "      <td>-0.000571</td>\n",
       "      <td>0.105963</td>\n",
       "      <td>0.224639</td>\n",
       "      <td>0.166904</td>\n",
       "    </tr>\n",
       "    <tr>\n",
       "      <th>ad_hasairconditioning</th>\n",
       "      <td>0.033420</td>\n",
       "      <td>0.027689</td>\n",
       "      <td>0.046039</td>\n",
       "      <td>-0.208580</td>\n",
       "      <td>0.018706</td>\n",
       "      <td>0.072416</td>\n",
       "      <td>0.024331</td>\n",
       "      <td>-0.070947</td>\n",
       "      <td>-0.010352</td>\n",
       "      <td>0.015696</td>\n",
       "      <td>...</td>\n",
       "      <td>0.236772</td>\n",
       "      <td>0.119082</td>\n",
       "      <td>0.270575</td>\n",
       "      <td>1.000000</td>\n",
       "      <td>-0.001236</td>\n",
       "      <td>0.008759</td>\n",
       "      <td>-0.001473</td>\n",
       "      <td>0.070357</td>\n",
       "      <td>0.176527</td>\n",
       "      <td>0.138643</td>\n",
       "    </tr>\n",
       "    <tr>\n",
       "      <th>ad_minimalStay</th>\n",
       "      <td>0.016082</td>\n",
       "      <td>-0.005605</td>\n",
       "      <td>0.075029</td>\n",
       "      <td>0.039376</td>\n",
       "      <td>-0.006563</td>\n",
       "      <td>-0.014320</td>\n",
       "      <td>-0.005104</td>\n",
       "      <td>-0.004383</td>\n",
       "      <td>0.004589</td>\n",
       "      <td>-0.000228</td>\n",
       "      <td>...</td>\n",
       "      <td>0.011339</td>\n",
       "      <td>-0.001685</td>\n",
       "      <td>0.012312</td>\n",
       "      <td>-0.001236</td>\n",
       "      <td>1.000000</td>\n",
       "      <td>-0.000107</td>\n",
       "      <td>-0.000167</td>\n",
       "      <td>0.010770</td>\n",
       "      <td>-0.004397</td>\n",
       "      <td>-0.003430</td>\n",
       "    </tr>\n",
       "    <tr>\n",
       "      <th>ad_energyperformance</th>\n",
       "      <td>-0.006548</td>\n",
       "      <td>0.001022</td>\n",
       "      <td>-0.001421</td>\n",
       "      <td>-0.001255</td>\n",
       "      <td>-0.000818</td>\n",
       "      <td>0.000171</td>\n",
       "      <td>0.000023</td>\n",
       "      <td>0.000317</td>\n",
       "      <td>-0.001437</td>\n",
       "      <td>-0.000051</td>\n",
       "      <td>...</td>\n",
       "      <td>0.010460</td>\n",
       "      <td>-0.000210</td>\n",
       "      <td>-0.000763</td>\n",
       "      <td>0.008759</td>\n",
       "      <td>-0.000107</td>\n",
       "      <td>1.000000</td>\n",
       "      <td>-0.000021</td>\n",
       "      <td>-0.000435</td>\n",
       "      <td>-0.000548</td>\n",
       "      <td>-0.000427</td>\n",
       "    </tr>\n",
       "    <tr>\n",
       "      <th>ad_communitycosts</th>\n",
       "      <td>-0.007092</td>\n",
       "      <td>0.001368</td>\n",
       "      <td>-0.001896</td>\n",
       "      <td>-0.003239</td>\n",
       "      <td>-0.001283</td>\n",
       "      <td>0.003314</td>\n",
       "      <td>0.000640</td>\n",
       "      <td>-0.002569</td>\n",
       "      <td>-0.001461</td>\n",
       "      <td>-0.000077</td>\n",
       "      <td>...</td>\n",
       "      <td>-0.001610</td>\n",
       "      <td>-0.000240</td>\n",
       "      <td>-0.000571</td>\n",
       "      <td>-0.001473</td>\n",
       "      <td>-0.000167</td>\n",
       "      <td>-0.000021</td>\n",
       "      <td>1.000000</td>\n",
       "      <td>0.029062</td>\n",
       "      <td>-0.000492</td>\n",
       "      <td>-0.000365</td>\n",
       "    </tr>\n",
       "    <tr>\n",
       "      <th>ad_isintopfloor</th>\n",
       "      <td>0.022840</td>\n",
       "      <td>0.017282</td>\n",
       "      <td>0.007125</td>\n",
       "      <td>-0.079786</td>\n",
       "      <td>-0.026815</td>\n",
       "      <td>-0.011710</td>\n",
       "      <td>0.000619</td>\n",
       "      <td>-0.020678</td>\n",
       "      <td>0.011940</td>\n",
       "      <td>-0.000146</td>\n",
       "      <td>...</td>\n",
       "      <td>0.059023</td>\n",
       "      <td>-0.006884</td>\n",
       "      <td>0.105963</td>\n",
       "      <td>0.070357</td>\n",
       "      <td>0.010770</td>\n",
       "      <td>-0.000435</td>\n",
       "      <td>0.029062</td>\n",
       "      <td>1.000000</td>\n",
       "      <td>0.039361</td>\n",
       "      <td>0.022411</td>\n",
       "    </tr>\n",
       "    <tr>\n",
       "      <th>ad_hashandicapadaptedaccess</th>\n",
       "      <td>0.019731</td>\n",
       "      <td>0.014758</td>\n",
       "      <td>-0.005028</td>\n",
       "      <td>-0.089672</td>\n",
       "      <td>-0.028727</td>\n",
       "      <td>0.010078</td>\n",
       "      <td>0.002810</td>\n",
       "      <td>-0.021293</td>\n",
       "      <td>0.014999</td>\n",
       "      <td>-0.001258</td>\n",
       "      <td>...</td>\n",
       "      <td>0.131960</td>\n",
       "      <td>-0.008657</td>\n",
       "      <td>0.224639</td>\n",
       "      <td>0.176527</td>\n",
       "      <td>-0.004397</td>\n",
       "      <td>-0.000548</td>\n",
       "      <td>-0.000492</td>\n",
       "      <td>0.039361</td>\n",
       "      <td>1.000000</td>\n",
       "      <td>0.566438</td>\n",
       "    </tr>\n",
       "    <tr>\n",
       "      <th>ad_hashandicapadapteduse</th>\n",
       "      <td>0.010447</td>\n",
       "      <td>0.015906</td>\n",
       "      <td>-0.010672</td>\n",
       "      <td>-0.065792</td>\n",
       "      <td>-0.024719</td>\n",
       "      <td>0.017782</td>\n",
       "      <td>0.003502</td>\n",
       "      <td>-0.026914</td>\n",
       "      <td>0.009188</td>\n",
       "      <td>-0.000761</td>\n",
       "      <td>...</td>\n",
       "      <td>0.113330</td>\n",
       "      <td>-0.006753</td>\n",
       "      <td>0.166904</td>\n",
       "      <td>0.138643</td>\n",
       "      <td>-0.003430</td>\n",
       "      <td>-0.000427</td>\n",
       "      <td>-0.000365</td>\n",
       "      <td>0.022411</td>\n",
       "      <td>0.566438</td>\n",
       "      <td>1.000000</td>\n",
       "    </tr>\n",
       "  </tbody>\n",
       "</table>\n",
       "<p>41 rows × 41 columns</p>\n",
       "</div>"
      ],
      "text/plain": [
       "                                ad_id  ad_state  ad_operation  ad_typology  \\\n",
       "ad_id                        1.000000  0.157900      0.073641    -0.236835   \n",
       "ad_state                     0.157900  1.000000      0.036909    -0.234787   \n",
       "ad_operation                 0.073641  0.036909      1.000000    -0.069002   \n",
       "ad_typology                 -0.236835 -0.234787     -0.069002     1.000000   \n",
       "ad_propertytype              0.021470  0.012250     -0.080418    -0.056357   \n",
       "ad_price                    -0.072484 -0.067936     -0.190169     0.076759   \n",
       "ad_unitprice                 0.007614  0.008528     -0.067792    -0.044962   \n",
       "ad_latitude                 -0.063629 -0.060954     -0.051481     0.129520   \n",
       "ad_longitude                 0.000913 -0.044070     -0.037891     0.052572   \n",
       "ad_streetnumber              0.004676 -0.000270      0.008126    -0.001916   \n",
       "ad_addressvisible           -0.081510 -0.010679     -0.050627     0.030202   \n",
       "ad_subtypology              -0.070489 -0.048651     -0.073019     0.043712   \n",
       "ad_area                     -0.030084 -0.042712     -0.017024     0.074831   \n",
       "ad_builttype                 0.205537  0.142721      0.140132    -0.651962   \n",
       "ad_roomnumber                0.110196  0.127576     -0.079945    -0.593970   \n",
       "ad_bathnumber                0.067152  0.086292     -0.029317    -0.487110   \n",
       "ad_flatlocation             -0.018591  0.035834     -0.135204    -0.153930   \n",
       "ad_haslift                   0.093300  0.072835      0.081075    -0.336065   \n",
       "ad_hasparkingspace           0.030275  0.056640     -0.038070    -0.252649   \n",
       "ad_hasboxroom                0.048246  0.045395     -0.050124    -0.208503   \n",
       "ad_hasswimmingpool          -0.002331  0.018912     -0.053267    -0.115414   \n",
       "newdevelopment_fromprice    -0.004108 -0.010546     -0.022374     0.135346   \n",
       "newdevelopment_averageprice -0.006687 -0.020489     -0.024024     0.146170   \n",
       "ad_isAuction                      NaN       NaN           NaN          NaN   \n",
       "ad_constructionyear          0.139537  0.090000     -0.044625    -0.337297   \n",
       "adstats_visits              -0.127273 -0.155393     -0.016486    -0.047127   \n",
       "adstats_sendtofriend        -0.069852  0.002638      0.004587    -0.093685   \n",
       "adstats_savedasfavorite     -0.026681 -0.002882      0.069832    -0.173732   \n",
       "adstats_daysonmarket        -0.707307 -0.440553     -0.110083     0.305447   \n",
       "adstats_contactsbyemail     -0.044455 -0.001318      0.195591    -0.089330   \n",
       "ad_hasgarden                 0.003086  0.028571     -0.053024    -0.132281   \n",
       "ad_hasterrace                0.045196  0.034314     -0.049121    -0.180172   \n",
       "ad_hashotwater              -0.038801 -0.086359      0.118116     0.038648   \n",
       "ad_hasheating                0.028228 -0.001224      0.097524    -0.110049   \n",
       "ad_hasairconditioning        0.033420  0.027689      0.046039    -0.208580   \n",
       "ad_minimalStay               0.016082 -0.005605      0.075029     0.039376   \n",
       "ad_energyperformance        -0.006548  0.001022     -0.001421    -0.001255   \n",
       "ad_communitycosts           -0.007092  0.001368     -0.001896    -0.003239   \n",
       "ad_isintopfloor              0.022840  0.017282      0.007125    -0.079786   \n",
       "ad_hashandicapadaptedaccess  0.019731  0.014758     -0.005028    -0.089672   \n",
       "ad_hashandicapadapteduse     0.010447  0.015906     -0.010672    -0.065792   \n",
       "\n",
       "                             ad_propertytype  ad_price  ad_unitprice  \\\n",
       "ad_id                               0.021470 -0.072484      0.007614   \n",
       "ad_state                            0.012250 -0.067936      0.008528   \n",
       "ad_operation                       -0.080418 -0.190169     -0.067792   \n",
       "ad_typology                        -0.056357  0.076759     -0.044962   \n",
       "ad_propertytype                     1.000000  0.051758      0.040594   \n",
       "ad_price                            0.051758  1.000000      0.079405   \n",
       "ad_unitprice                        0.040594  0.079405      1.000000   \n",
       "ad_latitude                        -0.019797 -0.057777     -0.026517   \n",
       "ad_longitude                       -0.004429 -0.097075     -0.008619   \n",
       "ad_streetnumber                     0.003946 -0.000973     -0.000140   \n",
       "ad_addressvisible                  -0.122979  0.025813      0.002216   \n",
       "ad_subtypology                      0.000875  0.111288     -0.006432   \n",
       "ad_area                            -0.010931  0.152146     -0.008095   \n",
       "ad_builttype                       -0.289288 -0.020199      0.021416   \n",
       "ad_roomnumber                      -0.000068  0.200854      0.032756   \n",
       "ad_bathnumber                       0.052772  0.235017      0.039261   \n",
       "ad_flatlocation                    -0.069101  0.156570      0.003485   \n",
       "ad_haslift                          0.304828 -0.008082      0.034283   \n",
       "ad_hasparkingspace                  0.215074  0.112364      0.029093   \n",
       "ad_hasboxroom                       0.046020  0.056563      0.012974   \n",
       "ad_hasswimmingpool                  0.160093  0.163640      0.026211   \n",
       "newdevelopment_fromprice            0.255818 -0.020229     -0.010044   \n",
       "newdevelopment_averageprice         0.276277 -0.019962     -0.010848   \n",
       "ad_isAuction                             NaN       NaN           NaN   \n",
       "ad_constructionyear                -0.171282 -0.047324      0.002542   \n",
       "adstats_visits                     -0.006748  0.007112     -0.010767   \n",
       "adstats_sendtofriend               -0.038831 -0.012937     -0.006741   \n",
       "adstats_savedasfavorite            -0.050552 -0.047675     -0.011302   \n",
       "adstats_daysonmarket                0.033922  0.096947     -0.002917   \n",
       "adstats_contactsbyemail            -0.034548 -0.077179     -0.021748   \n",
       "ad_hasgarden                        0.018719  0.141450      0.017185   \n",
       "ad_hasterrace                       0.140512  0.090411      0.021070   \n",
       "ad_hashotwater                     -0.012920 -0.020822     -0.008418   \n",
       "ad_hasheating                      -0.037524 -0.015749      0.002215   \n",
       "ad_hasairconditioning               0.018706  0.072416      0.024331   \n",
       "ad_minimalStay                     -0.006563 -0.014320     -0.005104   \n",
       "ad_energyperformance               -0.000818  0.000171      0.000023   \n",
       "ad_communitycosts                  -0.001283  0.003314      0.000640   \n",
       "ad_isintopfloor                    -0.026815 -0.011710      0.000619   \n",
       "ad_hashandicapadaptedaccess        -0.028727  0.010078      0.002810   \n",
       "ad_hashandicapadapteduse           -0.024719  0.017782      0.003502   \n",
       "\n",
       "                             ad_latitude  ad_longitude  ad_streetnumber  ...  \\\n",
       "ad_id                          -0.063629      0.000913         0.004676  ...   \n",
       "ad_state                       -0.060954     -0.044070        -0.000270  ...   \n",
       "ad_operation                   -0.051481     -0.037891         0.008126  ...   \n",
       "ad_typology                     0.129520      0.052572        -0.001916  ...   \n",
       "ad_propertytype                -0.019797     -0.004429         0.003946  ...   \n",
       "ad_price                       -0.057777     -0.097075        -0.000973  ...   \n",
       "ad_unitprice                   -0.026517     -0.008619        -0.000140  ...   \n",
       "ad_latitude                     1.000000     -0.283709        -0.001630  ...   \n",
       "ad_longitude                   -0.283709      1.000000         0.002777  ...   \n",
       "ad_streetnumber                -0.001630      0.002777         1.000000  ...   \n",
       "ad_addressvisible               0.002385     -0.036792        -0.035720  ...   \n",
       "ad_subtypology                  0.059285      0.017121        -0.001394  ...   \n",
       "ad_area                         0.006416      0.037979        -0.000480  ...   \n",
       "ad_builttype                   -0.140005     -0.033140         0.000344  ...   \n",
       "ad_roomnumber                  -0.050222     -0.093748         0.005141  ...   \n",
       "ad_bathnumber                  -0.056271     -0.140588         0.004230  ...   \n",
       "ad_flatlocation                 0.092043     -0.109026        -0.002874  ...   \n",
       "ad_haslift                     -0.084952     -0.015000         0.011161  ...   \n",
       "ad_hasparkingspace             -0.019597     -0.085419         0.011168  ...   \n",
       "ad_hasboxroom                   0.003991     -0.078722         0.014480  ...   \n",
       "ad_hasswimmingpool             -0.031719     -0.113021         0.000583  ...   \n",
       "newdevelopment_fromprice       -0.004431     -0.020236         0.000738  ...   \n",
       "newdevelopment_averageprice    -0.005854     -0.014202         0.000810  ...   \n",
       "ad_isAuction                         NaN           NaN              NaN  ...   \n",
       "ad_constructionyear            -0.046301      0.016932         0.001800  ...   \n",
       "adstats_visits                  0.048189     -0.014573        -0.000497  ...   \n",
       "adstats_sendtofriend            0.010306     -0.043784         0.000742  ...   \n",
       "adstats_savedasfavorite        -0.006917     -0.040923         0.000327  ...   \n",
       "adstats_daysonmarket            0.069936      0.033115        -0.005692  ...   \n",
       "adstats_contactsbyemail        -0.017618      0.000829         0.001201  ...   \n",
       "ad_hasgarden                    0.010882     -0.141379        -0.000526  ...   \n",
       "ad_hasterrace                   0.003466     -0.070568         0.008397  ...   \n",
       "ad_hashotwater                 -0.008835      0.003218         0.008656  ...   \n",
       "ad_hasheating                  -0.030006     -0.009828         0.001805  ...   \n",
       "ad_hasairconditioning          -0.070947     -0.010352         0.015696  ...   \n",
       "ad_minimalStay                 -0.004383      0.004589        -0.000228  ...   \n",
       "ad_energyperformance            0.000317     -0.001437        -0.000051  ...   \n",
       "ad_communitycosts              -0.002569     -0.001461        -0.000077  ...   \n",
       "ad_isintopfloor                -0.020678      0.011940        -0.000146  ...   \n",
       "ad_hashandicapadaptedaccess    -0.021293      0.014999        -0.001258  ...   \n",
       "ad_hashandicapadapteduse       -0.026914      0.009188        -0.000761  ...   \n",
       "\n",
       "                             ad_hasterrace  ad_hashotwater  ad_hasheating  \\\n",
       "ad_id                             0.045196       -0.038801       0.028228   \n",
       "ad_state                          0.034314       -0.086359      -0.001224   \n",
       "ad_operation                     -0.049121        0.118116       0.097524   \n",
       "ad_typology                      -0.180172        0.038648      -0.110049   \n",
       "ad_propertytype                   0.140512       -0.012920      -0.037524   \n",
       "ad_price                          0.090411       -0.020822      -0.015749   \n",
       "ad_unitprice                      0.021070       -0.008418       0.002215   \n",
       "ad_latitude                       0.003466       -0.008835      -0.030006   \n",
       "ad_longitude                     -0.070568        0.003218      -0.009828   \n",
       "ad_streetnumber                   0.008397        0.008656       0.001805   \n",
       "ad_addressvisible                -0.022337       -0.064314      -0.084408   \n",
       "ad_subtypology                    0.170767       -0.021332      -0.039880   \n",
       "ad_area                          -0.013405       -0.002774      -0.009209   \n",
       "ad_builttype                      0.094053        0.030879       0.104600   \n",
       "ad_roomnumber                     0.254741       -0.063300       0.040306   \n",
       "ad_bathnumber                     0.288344        0.027700       0.076449   \n",
       "ad_flatlocation                   0.229682       -0.026912      -0.096507   \n",
       "ad_haslift                        0.083390        0.080652       0.235647   \n",
       "ad_hasparkingspace                0.332775       -0.006861       0.182629   \n",
       "ad_hasboxroom                     0.260404       -0.021079       0.159663   \n",
       "ad_hasswimmingpool                0.260343       -0.016065       0.030930   \n",
       "newdevelopment_fromprice         -0.019813       -0.003305      -0.012018   \n",
       "newdevelopment_averageprice      -0.021397       -0.003569      -0.012979   \n",
       "ad_isAuction                           NaN             NaN            NaN   \n",
       "ad_constructionyear               0.101541       -0.009239       0.116741   \n",
       "adstats_visits                    0.064561        0.001281       0.008969   \n",
       "adstats_sendtofriend              0.067747       -0.004945       0.025340   \n",
       "adstats_savedasfavorite           0.107574       -0.021854       0.044149   \n",
       "adstats_daysonmarket             -0.036867        0.077612      -0.017892   \n",
       "adstats_contactsbyemail           0.032354       -0.004711       0.029516   \n",
       "ad_hasgarden                      0.334212       -0.019289       0.044065   \n",
       "ad_hasterrace                     1.000000       -0.019883       0.090929   \n",
       "ad_hashotwater                   -0.019883        1.000000       0.217153   \n",
       "ad_hasheating                     0.090929        0.217153       1.000000   \n",
       "ad_hasairconditioning             0.236772        0.119082       0.270575   \n",
       "ad_minimalStay                    0.011339       -0.001685       0.012312   \n",
       "ad_energyperformance              0.010460       -0.000210      -0.000763   \n",
       "ad_communitycosts                -0.001610       -0.000240      -0.000571   \n",
       "ad_isintopfloor                   0.059023       -0.006884       0.105963   \n",
       "ad_hashandicapadaptedaccess       0.131960       -0.008657       0.224639   \n",
       "ad_hashandicapadapteduse          0.113330       -0.006753       0.166904   \n",
       "\n",
       "                             ad_hasairconditioning  ad_minimalStay  \\\n",
       "ad_id                                     0.033420        0.016082   \n",
       "ad_state                                  0.027689       -0.005605   \n",
       "ad_operation                              0.046039        0.075029   \n",
       "ad_typology                              -0.208580        0.039376   \n",
       "ad_propertytype                           0.018706       -0.006563   \n",
       "ad_price                                  0.072416       -0.014320   \n",
       "ad_unitprice                              0.024331       -0.005104   \n",
       "ad_latitude                              -0.070947       -0.004383   \n",
       "ad_longitude                             -0.010352        0.004589   \n",
       "ad_streetnumber                           0.015696       -0.000228   \n",
       "ad_addressvisible                        -0.003847       -0.017793   \n",
       "ad_subtypology                            0.035371        0.004006   \n",
       "ad_area                                  -0.018681       -0.001452   \n",
       "ad_builttype                              0.174991       -0.060126   \n",
       "ad_roomnumber                             0.188613        0.030757   \n",
       "ad_bathnumber                             0.271956        0.008001   \n",
       "ad_flatlocation                           0.082932       -0.013670   \n",
       "ad_haslift                                0.277129        0.001752   \n",
       "ad_hasparkingspace                        0.330347       -0.014119   \n",
       "ad_hasboxroom                             0.244056       -0.010707   \n",
       "ad_hasswimmingpool                        0.225596       -0.008160   \n",
       "newdevelopment_fromprice                 -0.023649       -0.001679   \n",
       "newdevelopment_averageprice              -0.025540       -0.001813   \n",
       "ad_isAuction                                   NaN             NaN   \n",
       "ad_constructionyear                       0.111784       -0.022352   \n",
       "adstats_visits                           -0.003480       -0.002099   \n",
       "adstats_sendtofriend                      0.017008       -0.008498   \n",
       "adstats_savedasfavorite                   0.026823        0.023173   \n",
       "adstats_daysonmarket                     -0.027327       -0.011733   \n",
       "adstats_contactsbyemail                  -0.012415        0.061182   \n",
       "ad_hasgarden                              0.235701       -0.002354   \n",
       "ad_hasterrace                             0.236772        0.011339   \n",
       "ad_hashotwater                            0.119082       -0.001685   \n",
       "ad_hasheating                             0.270575        0.012312   \n",
       "ad_hasairconditioning                     1.000000       -0.001236   \n",
       "ad_minimalStay                           -0.001236        1.000000   \n",
       "ad_energyperformance                      0.008759       -0.000107   \n",
       "ad_communitycosts                        -0.001473       -0.000167   \n",
       "ad_isintopfloor                           0.070357        0.010770   \n",
       "ad_hashandicapadaptedaccess               0.176527       -0.004397   \n",
       "ad_hashandicapadapteduse                  0.138643       -0.003430   \n",
       "\n",
       "                             ad_energyperformance  ad_communitycosts  \\\n",
       "ad_id                                   -0.006548          -0.007092   \n",
       "ad_state                                 0.001022           0.001368   \n",
       "ad_operation                            -0.001421          -0.001896   \n",
       "ad_typology                             -0.001255          -0.003239   \n",
       "ad_propertytype                         -0.000818          -0.001283   \n",
       "ad_price                                 0.000171           0.003314   \n",
       "ad_unitprice                             0.000023           0.000640   \n",
       "ad_latitude                              0.000317          -0.002569   \n",
       "ad_longitude                            -0.001437          -0.001461   \n",
       "ad_streetnumber                         -0.000051          -0.000077   \n",
       "ad_addressvisible                        0.001848           0.002033   \n",
       "ad_subtypology                           0.005793           0.006681   \n",
       "ad_area                                 -0.000167          -0.000250   \n",
       "ad_builttype                             0.001992           0.003068   \n",
       "ad_roomnumber                            0.006069           0.006593   \n",
       "ad_bathnumber                            0.006029           0.004562   \n",
       "ad_flatlocation                          0.007637          -0.000004   \n",
       "ad_haslift                              -0.002075           0.005856   \n",
       "ad_hasparkingspace                       0.007474           0.007254   \n",
       "ad_hasboxroom                            0.009865          -0.001256   \n",
       "ad_hasswimmingpool                      -0.001017           0.012493   \n",
       "newdevelopment_fromprice                -0.000209          -0.000328   \n",
       "newdevelopment_averageprice             -0.000226          -0.000355   \n",
       "ad_isAuction                                  NaN                NaN   \n",
       "ad_constructionyear                     -0.002721          -0.002878   \n",
       "adstats_visits                           0.003942          -0.000038   \n",
       "adstats_sendtofriend                     0.003501           0.000942   \n",
       "adstats_savedasfavorite                  0.001868           0.001796   \n",
       "adstats_daysonmarket                     0.008085           0.007318   \n",
       "adstats_contactsbyemail                  0.002475           0.000329   \n",
       "ad_hasgarden                             0.010782           0.010419   \n",
       "ad_hasterrace                            0.010460          -0.001610   \n",
       "ad_hashotwater                          -0.000210          -0.000240   \n",
       "ad_hasheating                           -0.000763          -0.000571   \n",
       "ad_hasairconditioning                    0.008759          -0.001473   \n",
       "ad_minimalStay                          -0.000107          -0.000167   \n",
       "ad_energyperformance                     1.000000          -0.000021   \n",
       "ad_communitycosts                       -0.000021           1.000000   \n",
       "ad_isintopfloor                         -0.000435           0.029062   \n",
       "ad_hashandicapadaptedaccess             -0.000548          -0.000492   \n",
       "ad_hashandicapadapteduse                -0.000427          -0.000365   \n",
       "\n",
       "                             ad_isintopfloor  ad_hashandicapadaptedaccess  \\\n",
       "ad_id                               0.022840                     0.019731   \n",
       "ad_state                            0.017282                     0.014758   \n",
       "ad_operation                        0.007125                    -0.005028   \n",
       "ad_typology                        -0.079786                    -0.089672   \n",
       "ad_propertytype                    -0.026815                    -0.028727   \n",
       "ad_price                           -0.011710                     0.010078   \n",
       "ad_unitprice                        0.000619                     0.002810   \n",
       "ad_latitude                        -0.020678                    -0.021293   \n",
       "ad_longitude                        0.011940                     0.014999   \n",
       "ad_streetnumber                    -0.000146                    -0.001258   \n",
       "ad_addressvisible                  -0.033928                    -0.031721   \n",
       "ad_subtypology                      0.024864                     0.020129   \n",
       "ad_area                            -0.004410                    -0.005732   \n",
       "ad_builttype                        0.057623                     0.077437   \n",
       "ad_roomnumber                       0.045981                     0.091055   \n",
       "ad_bathnumber                       0.027042                     0.092468   \n",
       "ad_flatlocation                    -0.055568                     0.024629   \n",
       "ad_haslift                          0.057721                     0.146568   \n",
       "ad_hasparkingspace                  0.035784                     0.197452   \n",
       "ad_hasboxroom                       0.053470                     0.141898   \n",
       "ad_hasswimmingpool                 -0.005494                     0.092022   \n",
       "newdevelopment_fromprice           -0.006860                    -0.008626   \n",
       "newdevelopment_averageprice        -0.007408                    -0.009316   \n",
       "ad_isAuction                             NaN                          NaN   \n",
       "ad_constructionyear                 0.075998                     0.131546   \n",
       "adstats_visits                      0.037607                     0.028690   \n",
       "adstats_sendtofriend                0.037713                     0.032298   \n",
       "adstats_savedasfavorite             0.080113                     0.044749   \n",
       "adstats_daysonmarket               -0.023075                    -0.022760   \n",
       "adstats_contactsbyemail             0.047220                     0.023352   \n",
       "ad_hasgarden                       -0.005423                     0.122926   \n",
       "ad_hasterrace                       0.059023                     0.131960   \n",
       "ad_hashotwater                     -0.006884                    -0.008657   \n",
       "ad_hasheating                       0.105963                     0.224639   \n",
       "ad_hasairconditioning               0.070357                     0.176527   \n",
       "ad_minimalStay                      0.010770                    -0.004397   \n",
       "ad_energyperformance               -0.000435                    -0.000548   \n",
       "ad_communitycosts                   0.029062                    -0.000492   \n",
       "ad_isintopfloor                     1.000000                     0.039361   \n",
       "ad_hashandicapadaptedaccess         0.039361                     1.000000   \n",
       "ad_hashandicapadapteduse            0.022411                     0.566438   \n",
       "\n",
       "                             ad_hashandicapadapteduse  \n",
       "ad_id                                        0.010447  \n",
       "ad_state                                     0.015906  \n",
       "ad_operation                                -0.010672  \n",
       "ad_typology                                 -0.065792  \n",
       "ad_propertytype                             -0.024719  \n",
       "ad_price                                     0.017782  \n",
       "ad_unitprice                                 0.003502  \n",
       "ad_latitude                                 -0.026914  \n",
       "ad_longitude                                 0.009188  \n",
       "ad_streetnumber                             -0.000761  \n",
       "ad_addressvisible                           -0.026347  \n",
       "ad_subtypology                               0.040345  \n",
       "ad_area                                     -0.004766  \n",
       "ad_builttype                                 0.061528  \n",
       "ad_roomnumber                                0.085207  \n",
       "ad_bathnumber                                0.089670  \n",
       "ad_flatlocation                              0.049130  \n",
       "ad_haslift                                   0.095318  \n",
       "ad_hasparkingspace                           0.170231  \n",
       "ad_hasboxroom                                0.121229  \n",
       "ad_hasswimmingpool                           0.095619  \n",
       "newdevelopment_fromprice                    -0.006729  \n",
       "newdevelopment_averageprice                 -0.007268  \n",
       "ad_isAuction                                      NaN  \n",
       "ad_constructionyear                          0.106315  \n",
       "adstats_visits                               0.016201  \n",
       "adstats_sendtofriend                         0.022663  \n",
       "adstats_savedasfavorite                      0.030623  \n",
       "adstats_daysonmarket                        -0.017214  \n",
       "adstats_contactsbyemail                      0.011899  \n",
       "ad_hasgarden                                 0.121279  \n",
       "ad_hasterrace                                0.113330  \n",
       "ad_hashotwater                              -0.006753  \n",
       "ad_hasheating                                0.166904  \n",
       "ad_hasairconditioning                        0.138643  \n",
       "ad_minimalStay                              -0.003430  \n",
       "ad_energyperformance                        -0.000427  \n",
       "ad_communitycosts                           -0.000365  \n",
       "ad_isintopfloor                              0.022411  \n",
       "ad_hashandicapadaptedaccess                  0.566438  \n",
       "ad_hashandicapadapteduse                     1.000000  \n",
       "\n",
       "[41 rows x 41 columns]"
      ]
     },
     "execution_count": 15,
     "metadata": {},
     "output_type": "execute_result"
    }
   ],
   "source": [
    "df1.corr()"
   ]
  },
  {
   "cell_type": "markdown",
   "id": "49b561ee",
   "metadata": {},
   "source": [
    "## Finding Outliers"
   ]
  },
  {
   "cell_type": "markdown",
   "id": "1657f174",
   "metadata": {},
   "source": [
    "An outlier is an observation that lies an abnormal distance from other values in a random sample from a population\n",
    "- In this we have to check whether if our dataset contains outliers or not?"
   ]
  },
  {
   "cell_type": "code",
   "execution_count": 16,
   "id": "57620a8f",
   "metadata": {},
   "outputs": [
    {
     "data": {
      "text/plain": [
       "<seaborn.axisgrid.JointGrid at 0x1a5860c9ca0>"
      ]
     },
     "execution_count": 16,
     "metadata": {},
     "output_type": "execute_result"
    },
    {
     "data": {
      "image/png": "[encoded data removed]",
      "text/plain": [
       "<Figure size 432x432 with 3 Axes>"
      ]
     },
     "metadata": {
      "needs_background": "light"
     },
     "output_type": "display_data"
    }
   ],
   "source": [
    "sns.jointplot(x ='ad_typology', y ='ad_price', data = df1)\n"
   ]
  },
  {
   "cell_type": "code",
   "execution_count": 17,
   "id": "fb0ab122",
   "metadata": {},
   "outputs": [
    {
     "data": {
      "text/plain": [
       "<seaborn.axisgrid.JointGrid at 0x1a5860c9a60>"
      ]
     },
     "execution_count": 17,
     "metadata": {},
     "output_type": "execute_result"
    },
    {
     "data": {
      "image/png": "[encoded data removed]",
      "text/plain": [
       "<Figure size 432x432 with 3 Axes>"
      ]
     },
     "metadata": {
      "needs_background": "light"
     },
     "output_type": "display_data"
    }
   ],
   "source": [
    "sns.jointplot(x ='ad_bathnumber', y ='ad_price', data = df1)\n"
   ]
  },
  {
   "cell_type": "code",
   "execution_count": 18,
   "id": "0b5df120",
   "metadata": {},
   "outputs": [
    {
     "data": {
      "text/plain": [
       "<AxesSubplot:xlabel='ad_bathnumber', ylabel='ad_price'>"
      ]
     },
     "execution_count": 18,
     "metadata": {},
     "output_type": "execute_result"
    },
    {
     "data": {
      "image/png": "[encoded data removed]",
      "text/plain": [
       "<Figure size 432x288 with 1 Axes>"
      ]
     },
     "metadata": {
      "needs_background": "light"
     },
     "output_type": "display_data"
    }
   ],
   "source": [
    "sns.boxplot(x ='ad_bathnumber', y ='ad_price', data = df1)\n"
   ]
  },
  {
   "cell_type": "code",
   "execution_count": 19,
   "id": "d3b94ec2",
   "metadata": {},
   "outputs": [
    {
     "data": {
      "text/plain": [
       "Index(['ad_id', 'ad_state', 'ad_operation', 'ad_typology', 'ad_propertytype',\n",
       "       'ad_price', 'ad_unitprice', 'ad_activationdate', 'ad_deactivationdate',\n",
       "       'ad_modificationdate', 'ad_latitude', 'ad_longitude',\n",
       "       'ad_layerlocation', 'ad_province', 'ad_town', 'ad_district',\n",
       "       'ad_neighbourhood', 'ad_postalcode', 'ad_streettype', 'ad_streetname',\n",
       "       'ad_streetnumber', 'ad_floornumber', 'ad_addressvisible',\n",
       "       'ad_subtypology', 'ad_area', 'ad_builttype', 'ad_roomnumber',\n",
       "       'ad_bathnumber', 'ad_flatlocation', 'ad_haslift', 'ad_hasparkingspace',\n",
       "       'ad_hasboxroom', 'ad_hasswimmingpool', 'ad_urlactive', 'ad_urlinactive',\n",
       "       'ad_urlimg1', 'ad_urlimg2', 'newdevelopment_commercialname',\n",
       "       'newdevelopment_fromprice', 'newdevelopment_averageprice',\n",
       "       'ad_commercialname', 'ad_isAuction', 'ad_constructionyear',\n",
       "       'adstats_visits', 'adstats_sendtofriend', 'adstats_savedasfavorite',\n",
       "       'adstats_daysonmarket', 'adstats_contactsbyemail', 'ad_pricechanges',\n",
       "       'ad_hasgarden', 'ad_hasterrace', 'ad_hashotwater', 'ad_hasheating',\n",
       "       'ad_hasairconditioning', 'ad_minimalStay', 'ad_newOccupation',\n",
       "       'ad_energycertification', 'ad_energylegislation',\n",
       "       'ad_energyperformance', 'ad_orientations', 'ad_communitycosts',\n",
       "       'ad_heatingtype', 'ad_isintopfloor', 'ad_hashandicapadaptedaccess',\n",
       "       'ad_hashandicapadapteduse', 'ad_comment'],\n",
       "      dtype='object')"
      ]
     },
     "execution_count": 19,
     "metadata": {},
     "output_type": "execute_result"
    }
   ],
   "source": [
    "df1.columns\n"
   ]
  },
  {
   "cell_type": "code",
   "execution_count": 20,
   "id": "6e7bab8f",
   "metadata": {},
   "outputs": [
    {
     "data": {
      "text/plain": [
       "430882.8448079863"
      ]
     },
     "execution_count": 20,
     "metadata": {},
     "output_type": "execute_result"
    }
   ],
   "source": [
    "df1['ad_price'].mean()"
   ]
  },
  {
   "cell_type": "code",
   "execution_count": 21,
   "id": "8bcf6367",
   "metadata": {},
   "outputs": [
    {
     "data": {
      "text/plain": [
       "221000.0"
      ]
     },
     "execution_count": 21,
     "metadata": {},
     "output_type": "execute_result"
    }
   ],
   "source": [
    "df1['ad_price'].median()"
   ]
  },
  {
   "cell_type": "code",
   "execution_count": 22,
   "id": "15142912",
   "metadata": {},
   "outputs": [
    {
     "data": {
      "text/html": [
       "<div>\n",
       "<style scoped>\n",
       "    .dataframe tbody tr th:only-of-type {\n",
       "        vertical-align: middle;\n",
       "    }\n",
       "\n",
       "    .dataframe tbody tr th {\n",
       "        vertical-align: top;\n",
       "    }\n",
       "\n",
       "    .dataframe thead th {\n",
       "        text-align: right;\n",
       "    }\n",
       "</style>\n",
       "<table border=\"1\" class=\"dataframe\">\n",
       "  <thead>\n",
       "    <tr style=\"text-align: right;\">\n",
       "      <th></th>\n",
       "      <th>ad_id</th>\n",
       "      <th>ad_state</th>\n",
       "      <th>ad_operation</th>\n",
       "      <th>ad_typology</th>\n",
       "      <th>ad_propertytype</th>\n",
       "      <th>ad_price</th>\n",
       "      <th>ad_unitprice</th>\n",
       "      <th>ad_activationdate</th>\n",
       "      <th>ad_deactivationdate</th>\n",
       "      <th>ad_modificationdate</th>\n",
       "      <th>...</th>\n",
       "      <th>ad_energycertification</th>\n",
       "      <th>ad_energylegislation</th>\n",
       "      <th>ad_energyperformance</th>\n",
       "      <th>ad_orientations</th>\n",
       "      <th>ad_communitycosts</th>\n",
       "      <th>ad_heatingtype</th>\n",
       "      <th>ad_isintopfloor</th>\n",
       "      <th>ad_hashandicapadaptedaccess</th>\n",
       "      <th>ad_hashandicapadapteduse</th>\n",
       "      <th>ad_comment</th>\n",
       "    </tr>\n",
       "    <tr>\n",
       "      <th>id</th>\n",
       "      <th></th>\n",
       "      <th></th>\n",
       "      <th></th>\n",
       "      <th></th>\n",
       "      <th></th>\n",
       "      <th></th>\n",
       "      <th></th>\n",
       "      <th></th>\n",
       "      <th></th>\n",
       "      <th></th>\n",
       "      <th></th>\n",
       "      <th></th>\n",
       "      <th></th>\n",
       "      <th></th>\n",
       "      <th></th>\n",
       "      <th></th>\n",
       "      <th></th>\n",
       "      <th></th>\n",
       "      <th></th>\n",
       "      <th></th>\n",
       "      <th></th>\n",
       "    </tr>\n",
       "  </thead>\n",
       "  <tbody>\n",
       "    <tr>\n",
       "      <th>270022130</th>\n",
       "      <td>27002213</td>\n",
       "      <td>4</td>\n",
       "      <td>1</td>\n",
       "      <td>8</td>\n",
       "      <td>1</td>\n",
       "      <td>42500.0</td>\n",
       "      <td>6.071429</td>\n",
       "      <td>2014-06-04</td>\n",
       "      <td>2021-05-28</td>\n",
       "      <td>2021-05-28</td>\n",
       "      <td>...</td>\n",
       "      <td>0</td>\n",
       "      <td>0</td>\n",
       "      <td>0.0</td>\n",
       "      <td>0</td>\n",
       "      <td>0.0</td>\n",
       "      <td>0</td>\n",
       "      <td>0.0</td>\n",
       "      <td>0.0</td>\n",
       "      <td>0.0</td>\n",
       "      <td>Espectacular terreno com belas paisagens de mo...</td>\n",
       "    </tr>\n",
       "    <tr>\n",
       "      <th>270205980</th>\n",
       "      <td>27020598</td>\n",
       "      <td>4</td>\n",
       "      <td>1</td>\n",
       "      <td>2</td>\n",
       "      <td>1</td>\n",
       "      <td>400000.0</td>\n",
       "      <td>1000.000000</td>\n",
       "      <td>2017-05-05</td>\n",
       "      <td>2021-06-25</td>\n",
       "      <td>2021-06-25</td>\n",
       "      <td>...</td>\n",
       "      <td>C</td>\n",
       "      <td>PORTUGAL_DEFAULT</td>\n",
       "      <td>0.0</td>\n",
       "      <td>0</td>\n",
       "      <td>0.0</td>\n",
       "      <td>0</td>\n",
       "      <td>0.0</td>\n",
       "      <td>0.0</td>\n",
       "      <td>0.0</td>\n",
       "      <td>MOR_1744\\n\\nVendo linda moradia de 6 assoalhad...</td>\n",
       "    </tr>\n",
       "    <tr>\n",
       "      <th>270221480</th>\n",
       "      <td>27022148</td>\n",
       "      <td>4</td>\n",
       "      <td>2</td>\n",
       "      <td>6</td>\n",
       "      <td>1</td>\n",
       "      <td>300.0</td>\n",
       "      <td>16.304348</td>\n",
       "      <td>2020-12-17</td>\n",
       "      <td>2022-04-01</td>\n",
       "      <td>2022-04-01</td>\n",
       "      <td>...</td>\n",
       "      <td>D</td>\n",
       "      <td>PORTUGAL_DEFAULT</td>\n",
       "      <td>0.0</td>\n",
       "      <td>0</td>\n",
       "      <td>0.0</td>\n",
       "      <td>0</td>\n",
       "      <td>0.0</td>\n",
       "      <td>0.0</td>\n",
       "      <td>0.0</td>\n",
       "      <td>Loja situada no Centro Comercial de São Marcos...</td>\n",
       "    </tr>\n",
       "    <tr>\n",
       "      <th>270375630</th>\n",
       "      <td>27037563</td>\n",
       "      <td>4</td>\n",
       "      <td>1</td>\n",
       "      <td>6</td>\n",
       "      <td>1</td>\n",
       "      <td>85000.0</td>\n",
       "      <td>1319.875776</td>\n",
       "      <td>2020-08-21</td>\n",
       "      <td>2021-10-11</td>\n",
       "      <td>2021-10-11</td>\n",
       "      <td>...</td>\n",
       "      <td>C</td>\n",
       "      <td>PORTUGAL_DEFAULT</td>\n",
       "      <td>0.0</td>\n",
       "      <td>0</td>\n",
       "      <td>0.0</td>\n",
       "      <td>0</td>\n",
       "      <td>0.0</td>\n",
       "      <td>0.0</td>\n",
       "      <td>0.0</td>\n",
       "      <td>Loja- com 56m2 com saída de fumos, wc´s com 2m...</td>\n",
       "    </tr>\n",
       "    <tr>\n",
       "      <th>270376230</th>\n",
       "      <td>27037623</td>\n",
       "      <td>3</td>\n",
       "      <td>1</td>\n",
       "      <td>6</td>\n",
       "      <td>1</td>\n",
       "      <td>90000.0</td>\n",
       "      <td>873.786408</td>\n",
       "      <td>2020-04-20</td>\n",
       "      <td>2019-01-10</td>\n",
       "      <td>2022-02-25</td>\n",
       "      <td>...</td>\n",
       "      <td>B</td>\n",
       "      <td>PORTUGAL_DEFAULT</td>\n",
       "      <td>0.0</td>\n",
       "      <td>0</td>\n",
       "      <td>56.0</td>\n",
       "      <td>0</td>\n",
       "      <td>0.0</td>\n",
       "      <td>0.0</td>\n",
       "      <td>0.0</td>\n",
       "      <td>Oportunidade de Investimento imóvel arrendado....</td>\n",
       "    </tr>\n",
       "  </tbody>\n",
       "</table>\n",
       "<p>5 rows × 66 columns</p>\n",
       "</div>"
      ],
      "text/plain": [
       "              ad_id  ad_state  ad_operation  ad_typology  ad_propertytype  \\\n",
       "id                                                                          \n",
       "270022130  27002213         4             1            8                1   \n",
       "270205980  27020598         4             1            2                1   \n",
       "270221480  27022148         4             2            6                1   \n",
       "270375630  27037563         4             1            6                1   \n",
       "270376230  27037623         3             1            6                1   \n",
       "\n",
       "           ad_price  ad_unitprice ad_activationdate ad_deactivationdate  \\\n",
       "id                                                                        \n",
       "270022130   42500.0      6.071429        2014-06-04          2021-05-28   \n",
       "270205980  400000.0   1000.000000        2017-05-05          2021-06-25   \n",
       "270221480     300.0     16.304348        2020-12-17          2022-04-01   \n",
       "270375630   85000.0   1319.875776        2020-08-21          2021-10-11   \n",
       "270376230   90000.0    873.786408        2020-04-20          2019-01-10   \n",
       "\n",
       "          ad_modificationdate  ...  ad_energycertification  \\\n",
       "id                             ...                           \n",
       "270022130          2021-05-28  ...                       0   \n",
       "270205980          2021-06-25  ...                       C   \n",
       "270221480          2022-04-01  ...                       D   \n",
       "270375630          2021-10-11  ...                       C   \n",
       "270376230          2022-02-25  ...                       B   \n",
       "\n",
       "           ad_energylegislation ad_energyperformance ad_orientations  \\\n",
       "id                                                                     \n",
       "270022130                     0                  0.0               0   \n",
       "270205980      PORTUGAL_DEFAULT                  0.0               0   \n",
       "270221480      PORTUGAL_DEFAULT                  0.0               0   \n",
       "270375630      PORTUGAL_DEFAULT                  0.0               0   \n",
       "270376230      PORTUGAL_DEFAULT                  0.0               0   \n",
       "\n",
       "          ad_communitycosts ad_heatingtype ad_isintopfloor  \\\n",
       "id                                                           \n",
       "270022130               0.0              0             0.0   \n",
       "270205980               0.0              0             0.0   \n",
       "270221480               0.0              0             0.0   \n",
       "270375630               0.0              0             0.0   \n",
       "270376230              56.0              0             0.0   \n",
       "\n",
       "          ad_hashandicapadaptedaccess ad_hashandicapadapteduse  \\\n",
       "id                                                               \n",
       "270022130                         0.0                      0.0   \n",
       "270205980                         0.0                      0.0   \n",
       "270221480                         0.0                      0.0   \n",
       "270375630                         0.0                      0.0   \n",
       "270376230                         0.0                      0.0   \n",
       "\n",
       "                                                  ad_comment  \n",
       "id                                                            \n",
       "270022130  Espectacular terreno com belas paisagens de mo...  \n",
       "270205980  MOR_1744\\n\\nVendo linda moradia de 6 assoalhad...  \n",
       "270221480  Loja situada no Centro Comercial de São Marcos...  \n",
       "270375630  Loja- com 56m2 com saída de fumos, wc´s com 2m...  \n",
       "270376230  Oportunidade de Investimento imóvel arrendado....  \n",
       "\n",
       "[5 rows x 66 columns]"
      ]
     },
     "execution_count": 22,
     "metadata": {},
     "output_type": "execute_result"
    }
   ],
   "source": [
    "df1.head()"
   ]
  },
  {
   "cell_type": "code",
   "execution_count": 23,
   "id": "48e4113a",
   "metadata": {},
   "outputs": [],
   "source": [
    "#sns.jointplot(x ='ad_typology', y ='ad_price', data = df1)\n"
   ]
  },
  {
   "cell_type": "code",
   "execution_count": 24,
   "id": "73c4fef3",
   "metadata": {},
   "outputs": [
    {
     "name": "stderr",
     "output_type": "stream",
     "text": [
      "C:\\Users\\hp\\anaconda3\\lib\\site-packages\\seaborn\\_decorators.py:36: FutureWarning: Pass the following variable as a keyword arg: x. From version 0.12, the only valid positional argument will be `data`, and passing other arguments without an explicit keyword will result in an error or misinterpretation.\n",
      "  warnings.warn(\n"
     ]
    },
    {
     "data": {
      "text/plain": [
       "<AxesSubplot:xlabel='ad_propertytype', ylabel='count'>"
      ]
     },
     "execution_count": 24,
     "metadata": {},
     "output_type": "execute_result"
    },
    {
     "data": {
      "image/png": "[encoded data removed]",
      "text/plain": [
       "<Figure size 432x288 with 1 Axes>"
      ]
     },
     "metadata": {
      "needs_background": "light"
     },
     "output_type": "display_data"
    }
   ],
   "source": [
    "sns.countplot('ad_propertytype', data = df1)\n"
   ]
  },
  {
   "cell_type": "code",
   "execution_count": 25,
   "id": "8accca29",
   "metadata": {},
   "outputs": [
    {
     "name": "stderr",
     "output_type": "stream",
     "text": [
      "C:\\Users\\hp\\anaconda3\\lib\\site-packages\\seaborn\\_decorators.py:36: FutureWarning: Pass the following variable as a keyword arg: x. From version 0.12, the only valid positional argument will be `data`, and passing other arguments without an explicit keyword will result in an error or misinterpretation.\n",
      "  warnings.warn(\n"
     ]
    },
    {
     "data": {
      "text/plain": [
       "<AxesSubplot:xlabel='ad_operation', ylabel='count'>"
      ]
     },
     "execution_count": 25,
     "metadata": {},
     "output_type": "execute_result"
    },
    {
     "data": {
      "image/png": "[encoded data removed]",
      "text/plain": [
       "<Figure size 432x288 with 1 Axes>"
      ]
     },
     "metadata": {
      "needs_background": "light"
     },
     "output_type": "display_data"
    }
   ],
   "source": [
    "sns.countplot('ad_operation', data = df1)\n"
   ]
  },
  {
   "cell_type": "code",
   "execution_count": 26,
   "id": "f5d7fa40",
   "metadata": {},
   "outputs": [
    {
     "name": "stderr",
     "output_type": "stream",
     "text": [
      "C:\\Users\\hp\\anaconda3\\lib\\site-packages\\seaborn\\_decorators.py:36: FutureWarning: Pass the following variables as keyword args: x, y. From version 0.12, the only valid positional argument will be `data`, and passing other arguments without an explicit keyword will result in an error or misinterpretation.\n",
      "  warnings.warn(\n"
     ]
    },
    {
     "data": {
      "image/png": "[encoded data removed]",
      "text/plain": [
       "<Figure size 432x288 with 1 Axes>"
      ]
     },
     "metadata": {
      "needs_background": "light"
     },
     "output_type": "display_data"
    }
   ],
   "source": [
    "sns.boxplot(\"ad_typology\",\"ad_price\",data = df1)\n",
    "plt.show()"
   ]
  },
  {
   "cell_type": "code",
   "execution_count": 27,
   "id": "f404ec8d",
   "metadata": {},
   "outputs": [
    {
     "name": "stderr",
     "output_type": "stream",
     "text": [
      "C:\\Users\\hp\\anaconda3\\lib\\site-packages\\seaborn\\_decorators.py:36: FutureWarning: Pass the following variables as keyword args: x, y. From version 0.12, the only valid positional argument will be `data`, and passing other arguments without an explicit keyword will result in an error or misinterpretation.\n",
      "  warnings.warn(\n"
     ]
    },
    {
     "data": {
      "image/png": "[encoded data removed]",
      "text/plain": [
       "<Figure size 432x288 with 1 Axes>"
      ]
     },
     "metadata": {
      "needs_background": "light"
     },
     "output_type": "display_data"
    }
   ],
   "source": [
    "sns.boxplot(\"ad_typology\",\"ad_price\",data = df1)\n",
    "plt.show()"
   ]
  },
  {
   "cell_type": "code",
   "execution_count": 28,
   "id": "c480f477",
   "metadata": {},
   "outputs": [
    {
     "data": {
      "text/html": [
       "<div>\n",
       "<style scoped>\n",
       "    .dataframe tbody tr th:only-of-type {\n",
       "        vertical-align: middle;\n",
       "    }\n",
       "\n",
       "    .dataframe tbody tr th {\n",
       "        vertical-align: top;\n",
       "    }\n",
       "\n",
       "    .dataframe thead th {\n",
       "        text-align: right;\n",
       "    }\n",
       "</style>\n",
       "<table border=\"1\" class=\"dataframe\">\n",
       "  <thead>\n",
       "    <tr style=\"text-align: right;\">\n",
       "      <th></th>\n",
       "      <th>ad_id</th>\n",
       "      <th>ad_state</th>\n",
       "      <th>ad_operation</th>\n",
       "      <th>ad_typology</th>\n",
       "      <th>ad_propertytype</th>\n",
       "      <th>ad_price</th>\n",
       "      <th>ad_unitprice</th>\n",
       "      <th>ad_latitude</th>\n",
       "      <th>ad_longitude</th>\n",
       "      <th>ad_streetnumber</th>\n",
       "      <th>...</th>\n",
       "      <th>ad_hasterrace</th>\n",
       "      <th>ad_hashotwater</th>\n",
       "      <th>ad_hasheating</th>\n",
       "      <th>ad_hasairconditioning</th>\n",
       "      <th>ad_minimalStay</th>\n",
       "      <th>ad_energyperformance</th>\n",
       "      <th>ad_communitycosts</th>\n",
       "      <th>ad_isintopfloor</th>\n",
       "      <th>ad_hashandicapadaptedaccess</th>\n",
       "      <th>ad_hashandicapadapteduse</th>\n",
       "    </tr>\n",
       "  </thead>\n",
       "  <tbody>\n",
       "    <tr>\n",
       "      <th>count</th>\n",
       "      <td>7.653100e+04</td>\n",
       "      <td>76531.000000</td>\n",
       "      <td>76531.000000</td>\n",
       "      <td>76531.000000</td>\n",
       "      <td>76531.000000</td>\n",
       "      <td>7.653100e+04</td>\n",
       "      <td>7.653100e+04</td>\n",
       "      <td>76531.000000</td>\n",
       "      <td>76531.000000</td>\n",
       "      <td>76531.000000</td>\n",
       "      <td>...</td>\n",
       "      <td>76531.000000</td>\n",
       "      <td>76531.000000</td>\n",
       "      <td>76531.000000</td>\n",
       "      <td>76531.000000</td>\n",
       "      <td>76531.00000</td>\n",
       "      <td>7.653100e+04</td>\n",
       "      <td>7.653100e+04</td>\n",
       "      <td>76531.000000</td>\n",
       "      <td>76531.000000</td>\n",
       "      <td>76531.000000</td>\n",
       "    </tr>\n",
       "    <tr>\n",
       "      <th>mean</th>\n",
       "      <td>3.045182e+07</td>\n",
       "      <td>3.927180</td>\n",
       "      <td>1.131960</td>\n",
       "      <td>3.011407</td>\n",
       "      <td>1.047915</td>\n",
       "      <td>4.308828e+05</td>\n",
       "      <td>2.284114e+03</td>\n",
       "      <td>38.752161</td>\n",
       "      <td>-9.181728</td>\n",
       "      <td>3.223831</td>\n",
       "      <td>...</td>\n",
       "      <td>0.106493</td>\n",
       "      <td>0.003306</td>\n",
       "      <td>0.042009</td>\n",
       "      <td>0.145157</td>\n",
       "      <td>0.00341</td>\n",
       "      <td>2.346187e+03</td>\n",
       "      <td>2.644573e+01</td>\n",
       "      <td>0.014086</td>\n",
       "      <td>0.022096</td>\n",
       "      <td>0.013563</td>\n",
       "    </tr>\n",
       "    <tr>\n",
       "      <th>std</th>\n",
       "      <td>6.011050e+05</td>\n",
       "      <td>0.259843</td>\n",
       "      <td>0.338449</td>\n",
       "      <td>2.963309</td>\n",
       "      <td>0.213588</td>\n",
       "      <td>8.793676e+05</td>\n",
       "      <td>1.305044e+04</td>\n",
       "      <td>0.135723</td>\n",
       "      <td>0.140443</td>\n",
       "      <td>229.901483</td>\n",
       "      <td>...</td>\n",
       "      <td>0.308469</td>\n",
       "      <td>0.057402</td>\n",
       "      <td>0.200611</td>\n",
       "      <td>0.352261</td>\n",
       "      <td>0.11658</td>\n",
       "      <td>6.434592e+05</td>\n",
       "      <td>4.623492e+03</td>\n",
       "      <td>0.117846</td>\n",
       "      <td>0.146996</td>\n",
       "      <td>0.115669</td>\n",
       "    </tr>\n",
       "    <tr>\n",
       "      <th>min</th>\n",
       "      <td>2.700221e+07</td>\n",
       "      <td>3.000000</td>\n",
       "      <td>1.000000</td>\n",
       "      <td>1.000000</td>\n",
       "      <td>1.000000</td>\n",
       "      <td>0.000000e+00</td>\n",
       "      <td>0.000000e+00</td>\n",
       "      <td>38.472134</td>\n",
       "      <td>-9.496231</td>\n",
       "      <td>0.000000</td>\n",
       "      <td>...</td>\n",
       "      <td>0.000000</td>\n",
       "      <td>0.000000</td>\n",
       "      <td>0.000000</td>\n",
       "      <td>0.000000</td>\n",
       "      <td>0.00000</td>\n",
       "      <td>0.000000e+00</td>\n",
       "      <td>0.000000e+00</td>\n",
       "      <td>0.000000</td>\n",
       "      <td>0.000000</td>\n",
       "      <td>0.000000</td>\n",
       "    </tr>\n",
       "    <tr>\n",
       "      <th>25%</th>\n",
       "      <td>3.028508e+07</td>\n",
       "      <td>4.000000</td>\n",
       "      <td>1.000000</td>\n",
       "      <td>1.000000</td>\n",
       "      <td>1.000000</td>\n",
       "      <td>8.900000e+04</td>\n",
       "      <td>3.582165e+02</td>\n",
       "      <td>38.698923</td>\n",
       "      <td>-9.277970</td>\n",
       "      <td>0.000000</td>\n",
       "      <td>...</td>\n",
       "      <td>0.000000</td>\n",
       "      <td>0.000000</td>\n",
       "      <td>0.000000</td>\n",
       "      <td>0.000000</td>\n",
       "      <td>0.00000</td>\n",
       "      <td>0.000000e+00</td>\n",
       "      <td>0.000000e+00</td>\n",
       "      <td>0.000000</td>\n",
       "      <td>0.000000</td>\n",
       "      <td>0.000000</td>\n",
       "    </tr>\n",
       "    <tr>\n",
       "      <th>50%</th>\n",
       "      <td>3.067392e+07</td>\n",
       "      <td>4.000000</td>\n",
       "      <td>1.000000</td>\n",
       "      <td>1.000000</td>\n",
       "      <td>1.000000</td>\n",
       "      <td>2.210000e+05</td>\n",
       "      <td>1.636364e+03</td>\n",
       "      <td>38.722532</td>\n",
       "      <td>-9.163160</td>\n",
       "      <td>0.000000</td>\n",
       "      <td>...</td>\n",
       "      <td>0.000000</td>\n",
       "      <td>0.000000</td>\n",
       "      <td>0.000000</td>\n",
       "      <td>0.000000</td>\n",
       "      <td>0.00000</td>\n",
       "      <td>0.000000e+00</td>\n",
       "      <td>0.000000e+00</td>\n",
       "      <td>0.000000</td>\n",
       "      <td>0.000000</td>\n",
       "      <td>0.000000</td>\n",
       "    </tr>\n",
       "    <tr>\n",
       "      <th>75%</th>\n",
       "      <td>3.084735e+07</td>\n",
       "      <td>4.000000</td>\n",
       "      <td>1.000000</td>\n",
       "      <td>6.000000</td>\n",
       "      <td>1.000000</td>\n",
       "      <td>4.750000e+05</td>\n",
       "      <td>3.142857e+03</td>\n",
       "      <td>38.773402</td>\n",
       "      <td>-9.120061</td>\n",
       "      <td>0.000000</td>\n",
       "      <td>...</td>\n",
       "      <td>0.000000</td>\n",
       "      <td>0.000000</td>\n",
       "      <td>0.000000</td>\n",
       "      <td>0.000000</td>\n",
       "      <td>0.00000</td>\n",
       "      <td>0.000000e+00</td>\n",
       "      <td>0.000000e+00</td>\n",
       "      <td>0.000000</td>\n",
       "      <td>0.000000</td>\n",
       "      <td>0.000000</td>\n",
       "    </tr>\n",
       "    <tr>\n",
       "      <th>max</th>\n",
       "      <td>3.170523e+07</td>\n",
       "      <td>4.000000</td>\n",
       "      <td>2.000000</td>\n",
       "      <td>13.000000</td>\n",
       "      <td>2.000000</td>\n",
       "      <td>4.200000e+07</td>\n",
       "      <td>3.000000e+06</td>\n",
       "      <td>39.307200</td>\n",
       "      <td>-8.557175</td>\n",
       "      <td>44601.000000</td>\n",
       "      <td>...</td>\n",
       "      <td>1.000000</td>\n",
       "      <td>1.000000</td>\n",
       "      <td>1.000000</td>\n",
       "      <td>1.000000</td>\n",
       "      <td>6.00000</td>\n",
       "      <td>1.780015e+08</td>\n",
       "      <td>1.231000e+06</td>\n",
       "      <td>1.000000</td>\n",
       "      <td>1.000000</td>\n",
       "      <td>1.000000</td>\n",
       "    </tr>\n",
       "  </tbody>\n",
       "</table>\n",
       "<p>8 rows × 41 columns</p>\n",
       "</div>"
      ],
      "text/plain": [
       "              ad_id      ad_state  ad_operation   ad_typology  \\\n",
       "count  7.653100e+04  76531.000000  76531.000000  76531.000000   \n",
       "mean   3.045182e+07      3.927180      1.131960      3.011407   \n",
       "std    6.011050e+05      0.259843      0.338449      2.963309   \n",
       "min    2.700221e+07      3.000000      1.000000      1.000000   \n",
       "25%    3.028508e+07      4.000000      1.000000      1.000000   \n",
       "50%    3.067392e+07      4.000000      1.000000      1.000000   \n",
       "75%    3.084735e+07      4.000000      1.000000      6.000000   \n",
       "max    3.170523e+07      4.000000      2.000000     13.000000   \n",
       "\n",
       "       ad_propertytype      ad_price  ad_unitprice   ad_latitude  \\\n",
       "count     76531.000000  7.653100e+04  7.653100e+04  76531.000000   \n",
       "mean          1.047915  4.308828e+05  2.284114e+03     38.752161   \n",
       "std           0.213588  8.793676e+05  1.305044e+04      0.135723   \n",
       "min           1.000000  0.000000e+00  0.000000e+00     38.472134   \n",
       "25%           1.000000  8.900000e+04  3.582165e+02     38.698923   \n",
       "50%           1.000000  2.210000e+05  1.636364e+03     38.722532   \n",
       "75%           1.000000  4.750000e+05  3.142857e+03     38.773402   \n",
       "max           2.000000  4.200000e+07  3.000000e+06     39.307200   \n",
       "\n",
       "       ad_longitude  ad_streetnumber  ...  ad_hasterrace  ad_hashotwater  \\\n",
       "count  76531.000000     76531.000000  ...   76531.000000    76531.000000   \n",
       "mean      -9.181728         3.223831  ...       0.106493        0.003306   \n",
       "std        0.140443       229.901483  ...       0.308469        0.057402   \n",
       "min       -9.496231         0.000000  ...       0.000000        0.000000   \n",
       "25%       -9.277970         0.000000  ...       0.000000        0.000000   \n",
       "50%       -9.163160         0.000000  ...       0.000000        0.000000   \n",
       "75%       -9.120061         0.000000  ...       0.000000        0.000000   \n",
       "max       -8.557175     44601.000000  ...       1.000000        1.000000   \n",
       "\n",
       "       ad_hasheating  ad_hasairconditioning  ad_minimalStay  \\\n",
       "count   76531.000000           76531.000000     76531.00000   \n",
       "mean        0.042009               0.145157         0.00341   \n",
       "std         0.200611               0.352261         0.11658   \n",
       "min         0.000000               0.000000         0.00000   \n",
       "25%         0.000000               0.000000         0.00000   \n",
       "50%         0.000000               0.000000         0.00000   \n",
       "75%         0.000000               0.000000         0.00000   \n",
       "max         1.000000               1.000000         6.00000   \n",
       "\n",
       "       ad_energyperformance  ad_communitycosts  ad_isintopfloor  \\\n",
       "count          7.653100e+04       7.653100e+04     76531.000000   \n",
       "mean           2.346187e+03       2.644573e+01         0.014086   \n",
       "std            6.434592e+05       4.623492e+03         0.117846   \n",
       "min            0.000000e+00       0.000000e+00         0.000000   \n",
       "25%            0.000000e+00       0.000000e+00         0.000000   \n",
       "50%            0.000000e+00       0.000000e+00         0.000000   \n",
       "75%            0.000000e+00       0.000000e+00         0.000000   \n",
       "max            1.780015e+08       1.231000e+06         1.000000   \n",
       "\n",
       "       ad_hashandicapadaptedaccess  ad_hashandicapadapteduse  \n",
       "count                 76531.000000              76531.000000  \n",
       "mean                      0.022096                  0.013563  \n",
       "std                       0.146996                  0.115669  \n",
       "min                       0.000000                  0.000000  \n",
       "25%                       0.000000                  0.000000  \n",
       "50%                       0.000000                  0.000000  \n",
       "75%                       0.000000                  0.000000  \n",
       "max                       1.000000                  1.000000  \n",
       "\n",
       "[8 rows x 41 columns]"
      ]
     },
     "execution_count": 28,
     "metadata": {},
     "output_type": "execute_result"
    }
   ],
   "source": [
    "df1.describe()"
   ]
  },
  {
   "cell_type": "markdown",
   "id": "57f3429a",
   "metadata": {},
   "source": [
    "## FEATURE ENGINEERING"
   ]
  },
  {
   "cell_type": "markdown",
   "id": "7961fbb8",
   "metadata": {},
   "source": [
    "- Do feature Engineering so that we can improve accuracy of our predicted model"
   ]
  },
  {
   "cell_type": "code",
   "execution_count": 29,
   "id": "4379ff6c",
   "metadata": {},
   "outputs": [
    {
     "data": {
      "text/plain": [
       "id\n",
       "270022130      42500.0\n",
       "270205980     400000.0\n",
       "270221480        300.0\n",
       "270375630      85000.0\n",
       "270376230      90000.0\n",
       "               ...    \n",
       "317051990     840000.0\n",
       "317052080    1550000.0\n",
       "317052090    1650000.0\n",
       "317052230    1250000.0\n",
       "317052260    1625000.0\n",
       "Name: ad_price, Length: 76531, dtype: float64"
      ]
     },
     "execution_count": 29,
     "metadata": {},
     "output_type": "execute_result"
    }
   ],
   "source": [
    "value=df1['ad_price']\n",
    "df1['ad_price']=value.replace(',', '.')\n",
    "df1['ad_price']"
   ]
  },
  {
   "cell_type": "code",
   "execution_count": 30,
   "id": "15124c5d",
   "metadata": {},
   "outputs": [
    {
     "data": {
      "text/plain": [
       "(475000.0, 89000.0)"
      ]
     },
     "execution_count": 30,
     "metadata": {},
     "output_type": "execute_result"
    }
   ],
   "source": [
    "# iqr \n",
    "q1 = df1.ad_price.quantile(0.25)\n",
    "q3 = df1.ad_price.quantile(0.75)\n",
    "q3,q1"
   ]
  },
  {
   "cell_type": "code",
   "execution_count": 31,
   "id": "0d9e63b4",
   "metadata": {},
   "outputs": [
    {
     "data": {
      "text/plain": [
       "386000.0"
      ]
     },
     "execution_count": 31,
     "metadata": {},
     "output_type": "execute_result"
    }
   ],
   "source": [
    "IQR = q3-q1\n",
    "IQR"
   ]
  },
  {
   "cell_type": "code",
   "execution_count": 32,
   "id": "84666dbc",
   "metadata": {},
   "outputs": [
    {
     "data": {
      "text/plain": [
       "(-490000.0, 1054000.0)"
      ]
     },
     "execution_count": 32,
     "metadata": {},
     "output_type": "execute_result"
    }
   ],
   "source": [
    "lower_limit = q1 -1.5*IQR\n",
    "upper_limit = q3 +1.5*IQR\n",
    "lower_limit,upper_limit"
   ]
  },
  {
   "cell_type": "code",
   "execution_count": 33,
   "id": "687c08b8",
   "metadata": {},
   "outputs": [
    {
     "data": {
      "text/html": [
       "<div>\n",
       "<style scoped>\n",
       "    .dataframe tbody tr th:only-of-type {\n",
       "        vertical-align: middle;\n",
       "    }\n",
       "\n",
       "    .dataframe tbody tr th {\n",
       "        vertical-align: top;\n",
       "    }\n",
       "\n",
       "    .dataframe thead th {\n",
       "        text-align: right;\n",
       "    }\n",
       "</style>\n",
       "<table border=\"1\" class=\"dataframe\">\n",
       "  <thead>\n",
       "    <tr style=\"text-align: right;\">\n",
       "      <th></th>\n",
       "      <th>ad_id</th>\n",
       "      <th>ad_state</th>\n",
       "      <th>ad_operation</th>\n",
       "      <th>ad_typology</th>\n",
       "      <th>ad_propertytype</th>\n",
       "      <th>ad_price</th>\n",
       "      <th>ad_unitprice</th>\n",
       "      <th>ad_activationdate</th>\n",
       "      <th>ad_deactivationdate</th>\n",
       "      <th>ad_modificationdate</th>\n",
       "      <th>...</th>\n",
       "      <th>ad_energycertification</th>\n",
       "      <th>ad_energylegislation</th>\n",
       "      <th>ad_energyperformance</th>\n",
       "      <th>ad_orientations</th>\n",
       "      <th>ad_communitycosts</th>\n",
       "      <th>ad_heatingtype</th>\n",
       "      <th>ad_isintopfloor</th>\n",
       "      <th>ad_hashandicapadaptedaccess</th>\n",
       "      <th>ad_hashandicapadapteduse</th>\n",
       "      <th>ad_comment</th>\n",
       "    </tr>\n",
       "    <tr>\n",
       "      <th>id</th>\n",
       "      <th></th>\n",
       "      <th></th>\n",
       "      <th></th>\n",
       "      <th></th>\n",
       "      <th></th>\n",
       "      <th></th>\n",
       "      <th></th>\n",
       "      <th></th>\n",
       "      <th></th>\n",
       "      <th></th>\n",
       "      <th></th>\n",
       "      <th></th>\n",
       "      <th></th>\n",
       "      <th></th>\n",
       "      <th></th>\n",
       "      <th></th>\n",
       "      <th></th>\n",
       "      <th></th>\n",
       "      <th></th>\n",
       "      <th></th>\n",
       "      <th></th>\n",
       "    </tr>\n",
       "  </thead>\n",
       "  <tbody>\n",
       "    <tr>\n",
       "      <th>270022130</th>\n",
       "      <td>27002213</td>\n",
       "      <td>4</td>\n",
       "      <td>1</td>\n",
       "      <td>8</td>\n",
       "      <td>1</td>\n",
       "      <td>42500.0</td>\n",
       "      <td>6.071429</td>\n",
       "      <td>2014-06-04</td>\n",
       "      <td>2021-05-28</td>\n",
       "      <td>2021-05-28</td>\n",
       "      <td>...</td>\n",
       "      <td>0</td>\n",
       "      <td>0</td>\n",
       "      <td>0.0</td>\n",
       "      <td>0</td>\n",
       "      <td>0.0</td>\n",
       "      <td>0</td>\n",
       "      <td>0.0</td>\n",
       "      <td>0.0</td>\n",
       "      <td>0.0</td>\n",
       "      <td>Espectacular terreno com belas paisagens de mo...</td>\n",
       "    </tr>\n",
       "    <tr>\n",
       "      <th>270205980</th>\n",
       "      <td>27020598</td>\n",
       "      <td>4</td>\n",
       "      <td>1</td>\n",
       "      <td>2</td>\n",
       "      <td>1</td>\n",
       "      <td>400000.0</td>\n",
       "      <td>1000.000000</td>\n",
       "      <td>2017-05-05</td>\n",
       "      <td>2021-06-25</td>\n",
       "      <td>2021-06-25</td>\n",
       "      <td>...</td>\n",
       "      <td>C</td>\n",
       "      <td>PORTUGAL_DEFAULT</td>\n",
       "      <td>0.0</td>\n",
       "      <td>0</td>\n",
       "      <td>0.0</td>\n",
       "      <td>0</td>\n",
       "      <td>0.0</td>\n",
       "      <td>0.0</td>\n",
       "      <td>0.0</td>\n",
       "      <td>MOR_1744\\n\\nVendo linda moradia de 6 assoalhad...</td>\n",
       "    </tr>\n",
       "    <tr>\n",
       "      <th>270221480</th>\n",
       "      <td>27022148</td>\n",
       "      <td>4</td>\n",
       "      <td>2</td>\n",
       "      <td>6</td>\n",
       "      <td>1</td>\n",
       "      <td>300.0</td>\n",
       "      <td>16.304348</td>\n",
       "      <td>2020-12-17</td>\n",
       "      <td>2022-04-01</td>\n",
       "      <td>2022-04-01</td>\n",
       "      <td>...</td>\n",
       "      <td>D</td>\n",
       "      <td>PORTUGAL_DEFAULT</td>\n",
       "      <td>0.0</td>\n",
       "      <td>0</td>\n",
       "      <td>0.0</td>\n",
       "      <td>0</td>\n",
       "      <td>0.0</td>\n",
       "      <td>0.0</td>\n",
       "      <td>0.0</td>\n",
       "      <td>Loja situada no Centro Comercial de São Marcos...</td>\n",
       "    </tr>\n",
       "    <tr>\n",
       "      <th>270375630</th>\n",
       "      <td>27037563</td>\n",
       "      <td>4</td>\n",
       "      <td>1</td>\n",
       "      <td>6</td>\n",
       "      <td>1</td>\n",
       "      <td>85000.0</td>\n",
       "      <td>1319.875776</td>\n",
       "      <td>2020-08-21</td>\n",
       "      <td>2021-10-11</td>\n",
       "      <td>2021-10-11</td>\n",
       "      <td>...</td>\n",
       "      <td>C</td>\n",
       "      <td>PORTUGAL_DEFAULT</td>\n",
       "      <td>0.0</td>\n",
       "      <td>0</td>\n",
       "      <td>0.0</td>\n",
       "      <td>0</td>\n",
       "      <td>0.0</td>\n",
       "      <td>0.0</td>\n",
       "      <td>0.0</td>\n",
       "      <td>Loja- com 56m2 com saída de fumos, wc´s com 2m...</td>\n",
       "    </tr>\n",
       "    <tr>\n",
       "      <th>270376230</th>\n",
       "      <td>27037623</td>\n",
       "      <td>3</td>\n",
       "      <td>1</td>\n",
       "      <td>6</td>\n",
       "      <td>1</td>\n",
       "      <td>90000.0</td>\n",
       "      <td>873.786408</td>\n",
       "      <td>2020-04-20</td>\n",
       "      <td>2019-01-10</td>\n",
       "      <td>2022-02-25</td>\n",
       "      <td>...</td>\n",
       "      <td>B</td>\n",
       "      <td>PORTUGAL_DEFAULT</td>\n",
       "      <td>0.0</td>\n",
       "      <td>0</td>\n",
       "      <td>56.0</td>\n",
       "      <td>0</td>\n",
       "      <td>0.0</td>\n",
       "      <td>0.0</td>\n",
       "      <td>0.0</td>\n",
       "      <td>Oportunidade de Investimento imóvel arrendado....</td>\n",
       "    </tr>\n",
       "    <tr>\n",
       "      <th>...</th>\n",
       "      <td>...</td>\n",
       "      <td>...</td>\n",
       "      <td>...</td>\n",
       "      <td>...</td>\n",
       "      <td>...</td>\n",
       "      <td>...</td>\n",
       "      <td>...</td>\n",
       "      <td>...</td>\n",
       "      <td>...</td>\n",
       "      <td>...</td>\n",
       "      <td>...</td>\n",
       "      <td>...</td>\n",
       "      <td>...</td>\n",
       "      <td>...</td>\n",
       "      <td>...</td>\n",
       "      <td>...</td>\n",
       "      <td>...</td>\n",
       "      <td>...</td>\n",
       "      <td>...</td>\n",
       "      <td>...</td>\n",
       "      <td>...</td>\n",
       "    </tr>\n",
       "    <tr>\n",
       "      <th>317049220</th>\n",
       "      <td>31704922</td>\n",
       "      <td>3</td>\n",
       "      <td>1</td>\n",
       "      <td>1</td>\n",
       "      <td>2</td>\n",
       "      <td>765000.0</td>\n",
       "      <td>6769.911504</td>\n",
       "      <td>2020-12-14</td>\n",
       "      <td>2020-12-01</td>\n",
       "      <td>2022-05-24</td>\n",
       "      <td>...</td>\n",
       "      <td>UNKNOWN</td>\n",
       "      <td>0</td>\n",
       "      <td>0.0</td>\n",
       "      <td>0</td>\n",
       "      <td>0.0</td>\n",
       "      <td>0</td>\n",
       "      <td>0.0</td>\n",
       "      <td>0.0</td>\n",
       "      <td>0.0</td>\n",
       "      <td>Imagine viver numa das localizações mais desej...</td>\n",
       "    </tr>\n",
       "    <tr>\n",
       "      <th>317049440</th>\n",
       "      <td>31704944</td>\n",
       "      <td>3</td>\n",
       "      <td>1</td>\n",
       "      <td>1</td>\n",
       "      <td>2</td>\n",
       "      <td>720000.0</td>\n",
       "      <td>7272.727273</td>\n",
       "      <td>2020-12-14</td>\n",
       "      <td>2020-12-01</td>\n",
       "      <td>2022-05-24</td>\n",
       "      <td>...</td>\n",
       "      <td>UNKNOWN</td>\n",
       "      <td>0</td>\n",
       "      <td>0.0</td>\n",
       "      <td>0</td>\n",
       "      <td>0.0</td>\n",
       "      <td>0</td>\n",
       "      <td>0.0</td>\n",
       "      <td>0.0</td>\n",
       "      <td>0.0</td>\n",
       "      <td>Imagine viver numa das localizações mais desej...</td>\n",
       "    </tr>\n",
       "    <tr>\n",
       "      <th>317051750</th>\n",
       "      <td>31705175</td>\n",
       "      <td>4</td>\n",
       "      <td>1</td>\n",
       "      <td>1</td>\n",
       "      <td>2</td>\n",
       "      <td>350000.0</td>\n",
       "      <td>6250.000000</td>\n",
       "      <td>2020-12-14</td>\n",
       "      <td>2022-02-21</td>\n",
       "      <td>2022-02-21</td>\n",
       "      <td>...</td>\n",
       "      <td>UNKNOWN</td>\n",
       "      <td>0</td>\n",
       "      <td>0.0</td>\n",
       "      <td>0</td>\n",
       "      <td>0.0</td>\n",
       "      <td>0</td>\n",
       "      <td>0.0</td>\n",
       "      <td>0.0</td>\n",
       "      <td>0.0</td>\n",
       "      <td>Imagine viver numa das localizações mais desej...</td>\n",
       "    </tr>\n",
       "    <tr>\n",
       "      <th>317051820</th>\n",
       "      <td>31705182</td>\n",
       "      <td>4</td>\n",
       "      <td>1</td>\n",
       "      <td>1</td>\n",
       "      <td>2</td>\n",
       "      <td>980000.0</td>\n",
       "      <td>6577.181208</td>\n",
       "      <td>2020-12-14</td>\n",
       "      <td>2022-05-02</td>\n",
       "      <td>2022-05-02</td>\n",
       "      <td>...</td>\n",
       "      <td>UNKNOWN</td>\n",
       "      <td>0</td>\n",
       "      <td>0.0</td>\n",
       "      <td>0</td>\n",
       "      <td>0.0</td>\n",
       "      <td>0</td>\n",
       "      <td>0.0</td>\n",
       "      <td>0.0</td>\n",
       "      <td>0.0</td>\n",
       "      <td>Imagine viver numa das localizações mais desej...</td>\n",
       "    </tr>\n",
       "    <tr>\n",
       "      <th>317051990</th>\n",
       "      <td>31705199</td>\n",
       "      <td>4</td>\n",
       "      <td>1</td>\n",
       "      <td>1</td>\n",
       "      <td>2</td>\n",
       "      <td>840000.0</td>\n",
       "      <td>7777.777778</td>\n",
       "      <td>2020-12-14</td>\n",
       "      <td>2022-05-24</td>\n",
       "      <td>2022-05-24</td>\n",
       "      <td>...</td>\n",
       "      <td>UNKNOWN</td>\n",
       "      <td>0</td>\n",
       "      <td>0.0</td>\n",
       "      <td>0</td>\n",
       "      <td>0.0</td>\n",
       "      <td>0</td>\n",
       "      <td>0.0</td>\n",
       "      <td>0.0</td>\n",
       "      <td>0.0</td>\n",
       "      <td>Imagine viver numa das localizações mais desej...</td>\n",
       "    </tr>\n",
       "  </tbody>\n",
       "</table>\n",
       "<p>69965 rows × 66 columns</p>\n",
       "</div>"
      ],
      "text/plain": [
       "              ad_id  ad_state  ad_operation  ad_typology  ad_propertytype  \\\n",
       "id                                                                          \n",
       "270022130  27002213         4             1            8                1   \n",
       "270205980  27020598         4             1            2                1   \n",
       "270221480  27022148         4             2            6                1   \n",
       "270375630  27037563         4             1            6                1   \n",
       "270376230  27037623         3             1            6                1   \n",
       "...             ...       ...           ...          ...              ...   \n",
       "317049220  31704922         3             1            1                2   \n",
       "317049440  31704944         3             1            1                2   \n",
       "317051750  31705175         4             1            1                2   \n",
       "317051820  31705182         4             1            1                2   \n",
       "317051990  31705199         4             1            1                2   \n",
       "\n",
       "           ad_price  ad_unitprice ad_activationdate ad_deactivationdate  \\\n",
       "id                                                                        \n",
       "270022130   42500.0      6.071429        2014-06-04          2021-05-28   \n",
       "270205980  400000.0   1000.000000        2017-05-05          2021-06-25   \n",
       "270221480     300.0     16.304348        2020-12-17          2022-04-01   \n",
       "270375630   85000.0   1319.875776        2020-08-21          2021-10-11   \n",
       "270376230   90000.0    873.786408        2020-04-20          2019-01-10   \n",
       "...             ...           ...               ...                 ...   \n",
       "317049220  765000.0   6769.911504        2020-12-14          2020-12-01   \n",
       "317049440  720000.0   7272.727273        2020-12-14          2020-12-01   \n",
       "317051750  350000.0   6250.000000        2020-12-14          2022-02-21   \n",
       "317051820  980000.0   6577.181208        2020-12-14          2022-05-02   \n",
       "317051990  840000.0   7777.777778        2020-12-14          2022-05-24   \n",
       "\n",
       "          ad_modificationdate  ...  ad_energycertification  \\\n",
       "id                             ...                           \n",
       "270022130          2021-05-28  ...                       0   \n",
       "270205980          2021-06-25  ...                       C   \n",
       "270221480          2022-04-01  ...                       D   \n",
       "270375630          2021-10-11  ...                       C   \n",
       "270376230          2022-02-25  ...                       B   \n",
       "...                       ...  ...                     ...   \n",
       "317049220          2022-05-24  ...                 UNKNOWN   \n",
       "317049440          2022-05-24  ...                 UNKNOWN   \n",
       "317051750          2022-02-21  ...                 UNKNOWN   \n",
       "317051820          2022-05-02  ...                 UNKNOWN   \n",
       "317051990          2022-05-24  ...                 UNKNOWN   \n",
       "\n",
       "           ad_energylegislation ad_energyperformance ad_orientations  \\\n",
       "id                                                                     \n",
       "270022130                     0                  0.0               0   \n",
       "270205980      PORTUGAL_DEFAULT                  0.0               0   \n",
       "270221480      PORTUGAL_DEFAULT                  0.0               0   \n",
       "270375630      PORTUGAL_DEFAULT                  0.0               0   \n",
       "270376230      PORTUGAL_DEFAULT                  0.0               0   \n",
       "...                         ...                  ...             ...   \n",
       "317049220                     0                  0.0               0   \n",
       "317049440                     0                  0.0               0   \n",
       "317051750                     0                  0.0               0   \n",
       "317051820                     0                  0.0               0   \n",
       "317051990                     0                  0.0               0   \n",
       "\n",
       "          ad_communitycosts ad_heatingtype ad_isintopfloor  \\\n",
       "id                                                           \n",
       "270022130               0.0              0             0.0   \n",
       "270205980               0.0              0             0.0   \n",
       "270221480               0.0              0             0.0   \n",
       "270375630               0.0              0             0.0   \n",
       "270376230              56.0              0             0.0   \n",
       "...                     ...            ...             ...   \n",
       "317049220               0.0              0             0.0   \n",
       "317049440               0.0              0             0.0   \n",
       "317051750               0.0              0             0.0   \n",
       "317051820               0.0              0             0.0   \n",
       "317051990               0.0              0             0.0   \n",
       "\n",
       "          ad_hashandicapadaptedaccess ad_hashandicapadapteduse  \\\n",
       "id                                                               \n",
       "270022130                         0.0                      0.0   \n",
       "270205980                         0.0                      0.0   \n",
       "270221480                         0.0                      0.0   \n",
       "270375630                         0.0                      0.0   \n",
       "270376230                         0.0                      0.0   \n",
       "...                               ...                      ...   \n",
       "317049220                         0.0                      0.0   \n",
       "317049440                         0.0                      0.0   \n",
       "317051750                         0.0                      0.0   \n",
       "317051820                         0.0                      0.0   \n",
       "317051990                         0.0                      0.0   \n",
       "\n",
       "                                                  ad_comment  \n",
       "id                                                            \n",
       "270022130  Espectacular terreno com belas paisagens de mo...  \n",
       "270205980  MOR_1744\\n\\nVendo linda moradia de 6 assoalhad...  \n",
       "270221480  Loja situada no Centro Comercial de São Marcos...  \n",
       "270375630  Loja- com 56m2 com saída de fumos, wc´s com 2m...  \n",
       "270376230  Oportunidade de Investimento imóvel arrendado....  \n",
       "...                                                      ...  \n",
       "317049220  Imagine viver numa das localizações mais desej...  \n",
       "317049440  Imagine viver numa das localizações mais desej...  \n",
       "317051750  Imagine viver numa das localizações mais desej...  \n",
       "317051820  Imagine viver numa das localizações mais desej...  \n",
       "317051990  Imagine viver numa das localizações mais desej...  \n",
       "\n",
       "[69965 rows x 66 columns]"
      ]
     },
     "execution_count": 33,
     "metadata": {},
     "output_type": "execute_result"
    }
   ],
   "source": [
    "df_without_outliers = df1[(df1.ad_price>lower_limit)&(df1.ad_price<upper_limit)]\n",
    "df_without_outliers"
   ]
  },
  {
   "cell_type": "code",
   "execution_count": 34,
   "id": "2a1cba8b",
   "metadata": {},
   "outputs": [
    {
     "name": "stderr",
     "output_type": "stream",
     "text": [
      "C:\\Users\\hp\\anaconda3\\lib\\site-packages\\seaborn\\_decorators.py:36: FutureWarning: Pass the following variables as keyword args: x, y. From version 0.12, the only valid positional argument will be `data`, and passing other arguments without an explicit keyword will result in an error or misinterpretation.\n",
      "  warnings.warn(\n"
     ]
    },
    {
     "data": {
      "image/png": "[encoded data removed]",
      "text/plain": [
       "<Figure size 432x288 with 1 Axes>"
      ]
     },
     "metadata": {
      "needs_background": "light"
     },
     "output_type": "display_data"
    }
   ],
   "source": [
    "plt.figure(figsize=(6,4))\n",
    "sns.boxplot(\"ad_typology\",\"ad_price\",data = df_without_outliers)\n",
    "plt.show()"
   ]
  },
  {
   "cell_type": "code",
   "execution_count": 35,
   "id": "0949d0b2",
   "metadata": {},
   "outputs": [
    {
     "data": {
      "text/plain": [
       "id\n",
       "270022130      42500.0\n",
       "270205980     400000.0\n",
       "270221480        300.0\n",
       "270375630      85000.0\n",
       "270376230      90000.0\n",
       "               ...    \n",
       "317051990     840000.0\n",
       "317052080    1550000.0\n",
       "317052090    1650000.0\n",
       "317052230    1250000.0\n",
       "317052260    1625000.0\n",
       "Name: ad_price, Length: 76531, dtype: float64"
      ]
     },
     "execution_count": 35,
     "metadata": {},
     "output_type": "execute_result"
    }
   ],
   "source": [
    "df1['ad_price']"
   ]
  },
  {
   "cell_type": "code",
   "execution_count": 36,
   "id": "ac26e904",
   "metadata": {},
   "outputs": [
    {
     "name": "stderr",
     "output_type": "stream",
     "text": [
      "C:\\Users\\hp\\anaconda3\\lib\\site-packages\\seaborn\\_decorators.py:36: FutureWarning: Pass the following variables as keyword args: x, y. From version 0.12, the only valid positional argument will be `data`, and passing other arguments without an explicit keyword will result in an error or misinterpretation.\n",
      "  warnings.warn(\n"
     ]
    },
    {
     "data": {
      "image/png": "[encoded data removed]",
      "text/plain": [
       "<Figure size 432x288 with 1 Axes>"
      ]
     },
     "metadata": {
      "needs_background": "light"
     },
     "output_type": "display_data"
    }
   ],
   "source": [
    "sns.boxplot(\"ad_bathnumber\",\"ad_price\",data = df_without_outliers)\n",
    "plt.show()"
   ]
  },
  {
   "cell_type": "code",
   "execution_count": 37,
   "id": "96394ce8",
   "metadata": {},
   "outputs": [
    {
     "data": {
      "text/plain": [
       "array([ 8,  2,  6,  5,  4,  1,  3, 10, 11, 13, 12,  7], dtype=int64)"
      ]
     },
     "execution_count": 37,
     "metadata": {},
     "output_type": "execute_result"
    }
   ],
   "source": [
    "df['ad_typology'].unique()"
   ]
  },
  {
   "cell_type": "code",
   "execution_count": 38,
   "id": "afa09b29",
   "metadata": {},
   "outputs": [],
   "source": [
    "df2 = df_without_outliers[df_without_outliers['ad_typology']==1]"
   ]
  },
  {
   "cell_type": "code",
   "execution_count": 39,
   "id": "6823b62e",
   "metadata": {},
   "outputs": [
    {
     "name": "stderr",
     "output_type": "stream",
     "text": [
      "C:\\Users\\hp\\anaconda3\\lib\\site-packages\\seaborn\\_decorators.py:36: FutureWarning: Pass the following variables as keyword args: x, y. From version 0.12, the only valid positional argument will be `data`, and passing other arguments without an explicit keyword will result in an error or misinterpretation.\n",
      "  warnings.warn(\n"
     ]
    },
    {
     "data": {
      "image/png": "[encoded data removed]",
      "text/plain": [
       "<Figure size 432x288 with 1 Axes>"
      ]
     },
     "metadata": {
      "needs_background": "light"
     },
     "output_type": "display_data"
    }
   ],
   "source": [
    "sns.boxplot(\"ad_typology\",\"ad_price\",data = df2)\n",
    "plt.show()"
   ]
  },
  {
   "cell_type": "code",
   "execution_count": 40,
   "id": "4f8225c7",
   "metadata": {},
   "outputs": [],
   "source": [
    "df2 = df_without_outliers[df_without_outliers['ad_typology']==2]"
   ]
  },
  {
   "cell_type": "code",
   "execution_count": 41,
   "id": "0c91c69b",
   "metadata": {},
   "outputs": [
    {
     "name": "stderr",
     "output_type": "stream",
     "text": [
      "C:\\Users\\hp\\anaconda3\\lib\\site-packages\\seaborn\\_decorators.py:36: FutureWarning: Pass the following variables as keyword args: x, y. From version 0.12, the only valid positional argument will be `data`, and passing other arguments without an explicit keyword will result in an error or misinterpretation.\n",
      "  warnings.warn(\n"
     ]
    },
    {
     "data": {
      "image/png": "[encoded data removed]",
      "text/plain": [
       "<Figure size 432x288 with 1 Axes>"
      ]
     },
     "metadata": {
      "needs_background": "light"
     },
     "output_type": "display_data"
    }
   ],
   "source": [
    "sns.boxplot(\"ad_typology\",\"ad_price\",data = df2)\n",
    "plt.show()"
   ]
  },
  {
   "cell_type": "code",
   "execution_count": 42,
   "id": "76f28448",
   "metadata": {},
   "outputs": [],
   "source": [
    "df3= df_without_outliers[df_without_outliers['ad_typology']==13]"
   ]
  },
  {
   "cell_type": "code",
   "execution_count": 43,
   "id": "4082933f",
   "metadata": {},
   "outputs": [
    {
     "name": "stderr",
     "output_type": "stream",
     "text": [
      "C:\\Users\\hp\\anaconda3\\lib\\site-packages\\seaborn\\_decorators.py:36: FutureWarning: Pass the following variables as keyword args: x, y. From version 0.12, the only valid positional argument will be `data`, and passing other arguments without an explicit keyword will result in an error or misinterpretation.\n",
      "  warnings.warn(\n"
     ]
    },
    {
     "data": {
      "image/png": "[encoded data removed]",
      "text/plain": [
       "<Figure size 432x288 with 1 Axes>"
      ]
     },
     "metadata": {
      "needs_background": "light"
     },
     "output_type": "display_data"
    }
   ],
   "source": [
    "sns.boxplot(\"ad_typology\",\"ad_price\",data = df3)\n",
    "plt.show()"
   ]
  },
  {
   "cell_type": "code",
   "execution_count": 44,
   "id": "14061669",
   "metadata": {},
   "outputs": [],
   "source": [
    "df4 = df_without_outliers[df_without_outliers['ad_typology']==6]"
   ]
  },
  {
   "cell_type": "code",
   "execution_count": 45,
   "id": "425a6f02",
   "metadata": {},
   "outputs": [
    {
     "name": "stderr",
     "output_type": "stream",
     "text": [
      "C:\\Users\\hp\\anaconda3\\lib\\site-packages\\seaborn\\_decorators.py:36: FutureWarning: Pass the following variables as keyword args: x, y. From version 0.12, the only valid positional argument will be `data`, and passing other arguments without an explicit keyword will result in an error or misinterpretation.\n",
      "  warnings.warn(\n"
     ]
    },
    {
     "data": {
      "image/png": "[encoded data removed]",
      "text/plain": [
       "<Figure size 432x288 with 1 Axes>"
      ]
     },
     "metadata": {
      "needs_background": "light"
     },
     "output_type": "display_data"
    }
   ],
   "source": [
    "sns.boxplot(\"ad_typology\",\"ad_price\",data = df4)\n",
    "plt.show()"
   ]
  },
  {
   "cell_type": "code",
   "execution_count": 46,
   "id": "b3f51ed0",
   "metadata": {},
   "outputs": [
    {
     "data": {
      "text/plain": [
       "array([0, 'Cacém', 'Idanha', 'Bairro do Liceu - Vanicelos',\n",
       "       'Bairro de São Carlos', 'Centro', 'Centro de Queijas',\n",
       "       'Largo do Rato - Santa Isabel - Estrela', 'São João de Brito',\n",
       "       'São Jorge de Arroios', 'Manteigadas - Cachofarra - Vila Maria',\n",
       "       'Campo Grande', 'Campo Pequeno - Nossa Senhora de Fátima',\n",
       "       'São Martinho - Vila de Sintra', 'Alto do Seixalinho',\n",
       "       'Santo André', 'Cascais', 'Santos-o-Velho - Madragoa', 'Tires',\n",
       "       'Centro Histórico', 'Abrunheira - Manique', 'Expo Norte',\n",
       "       'Zambujeiro - Cabreiro', 'Anjos',\n",
       "       'Av. da Liberdade - Marquês de Pombal', 'Miraflores', 'Chiado',\n",
       "       'Carriche - Hospital das Forças Armadas',\n",
       "       'Pombais - Patameiras - Sr. Roubado', 'Estoril',\n",
       "       'Castelo - Mouraria', 'Centro da Charneca da Caparica',\n",
       "       'Bairro dos Actores - Barão Sabrosa', 'Campinas',\n",
       "       'A-da-Beja - Moinho do Guizo', 'Cova da Piedade', 'São Marcos',\n",
       "       'Laranjeiras', 'Pendão', 'Linda-a-Velha', 'Alto dos Moinhos',\n",
       "       'São Vicente de Fora', 'Corte Esteval', 'Centro do Montijo',\n",
       "       'Pocinho - Colinas do Oriente',\n",
       "       'Zona Histórica do Seixal - Frente Ribeirinha', 'Entrecampos',\n",
       "       'Graça', 'Baixa da Banheira', 'Adroana', 'Casais de Mem Martins',\n",
       "       'Seixalinho - Bela Colónia', 'Bairro do Areias', 'Bonfim',\n",
       "       'Centro de Belas - Quinta da Samaritana - Quinta da Fonteireira',\n",
       "       'Outeirinho - Fonte Boa dos Nabos - Pinhal dos Frades',\n",
       "       'Lourel - Cabriz', 'Amoreiras', 'Expo Central',\n",
       "       'Baixa - Centro Histórico', 'Reboleira - Atalaia', 'Rinchoa',\n",
       "       'Botequim - Regateira - Palhais', 'Alto de Santo Amaro',\n",
       "       'Telheiras', 'Bairro Alentejano',\n",
       "       'Centro de Sintra - Portela de Sintra ', 'Arangues - Pinheirinhos',\n",
       "       'Alto do Índio', 'Vale Fetal - Vale Rosal',\n",
       "       'Centro - Parque Central', 'Lapa', 'Brejos de Azeitão',\n",
       "       'Breijoeira - Pinhal de Negreiros', 'Parque Natural da Arrábida',\n",
       "       'Cacilhas', 'Alvide - Abuxarda', 'Carcavelos Centro',\n",
       "       'Vendas de Azeitão - Salmoura - Brejos de Clérigo',\n",
       "       'Nova Carnaxide', 'Pragal',\n",
       "       'Alto do Lumiar - Quinta das Conchas - Quinta do Lambert',\n",
       "       'Linda-a-Pastora - Nova Queijas', 'Manique', 'Bicesse',\n",
       "       'Marco Cabaço - Vale Cavala', 'Beloura - Penha Longa',\n",
       "       'Centro de Queluz - Monte Abraão', 'Damaia de Baixo',\n",
       "       'Portas da Cidade - Alto das Vinhas Grandes', 'Amoreira',\n",
       "       'Principe Real - Praça da Alegria', 'Alverca',\n",
       "       'Alto da Mira - Moinhos da Funcheira - Carenque',\n",
       "       'Penha Longa - Linhó - Atrozela', 'Vila Nogueira de Azeitão',\n",
       "       'Vale de Choupos - Choilo - Galeotas', 'Massamá Norte', 'Arneiro',\n",
       "       'São Sebastião da Pedreira',\n",
       "       'Quinta do Torneiro - Quinta da Fonte', 'Corte das Cheias',\n",
       "       'Alvalade', 'Abóboda - Conceição da Abóboda', 'Unhos', 'Camarate',\n",
       "       'Quintinhas', 'Alcoitão', 'Centro de Arrentela',\n",
       "       'Parque dos Poetas - Hospital da Luz', 'Prazeres',\n",
       "       'Mem Martins Poente', 'Figueirinha - Augusto Castro',\n",
       "       'Trajouce - Mato Cheirinhos', 'Parede', 'Pinhal Vidal',\n",
       "       'Malveira da Serra', 'Centro da Vila', 'Santa Marta do Pinhal',\n",
       "       'Alfama - Sé', 'Bairro Calçada dos Mestres',\n",
       "       'Calçada da Ajuda - Belém', 'Expo Sul', 'Belas Clube Campo',\n",
       "       'Algueirão', 'Centro - Nova Campolide', 'Chiado - Pç. de Camões',\n",
       "       'Centro - Santo Amaro', 'Vale de Milhaços', 'Palácio da Ajuda',\n",
       "       'Pena', 'Centro de Carnaxide', 'Bica - Santa Catarina',\n",
       "       'Bairro Alto', 'Polima - Cabeço do Mouro - Outeiro de Polima',\n",
       "       'Mem Martins', 'Mercês', 'Aroeira',\n",
       "       'Miratejo - Q.ta do Brasileiro - Q.ta do Rouxinol', 'Afonseiro',\n",
       "       'Algueirão-Velho - Baratã - Casal da Mata', 'Caparide', 'Arneiros',\n",
       "       'Rebelva', 'Serra de Carnaxide - Parque de Santa Cruz',\n",
       "       'Zambujal - Madorna', 'Fogueteiro', 'Quinta das Laranjeiras',\n",
       "       'Chapim - Quinta do Mendes - Quinta Nova', 'Algés',\n",
       "       'Santa Engrácia', 'Paço de Arcos - Terrugem',\n",
       "       'Jardins da Parede - Bairro de Santa Teresinha',\n",
       "       'Qta das Palmeiras - Qta do Marquês - Nova Oeiras',\n",
       "       'Casal do Cotão', 'Lombos Sul - Alto dos Lombos', 'Cruz de Pau',\n",
       "       'Monte Belo Norte', 'Serra de Casal de Cambra - Serra da Silveira',\n",
       "       'Centro de Sobreda', 'Restelo', 'Rato - Amoreiras', 'Verderena',\n",
       "       'Pinhal do General', 'Agualva', 'Sassoeiros',\n",
       "       'Camarinha - Peixe Frito', 'Pedralvas',\n",
       "       'Vale da Romeira - Vale de Carros - Cavadas',\n",
       "       'Casal da Carregueira - Tala - Venda Seca',\n",
       "       'Vale Flores - Quinta do Chiado', 'Damaia de Cima',\n",
       "       'Quinta da Lobateira', 'Alto de São João - Alto do Varejão',\n",
       "       'Alto do Moinho', 'Marisol - Valadares - Quinta da Queimada',\n",
       "       'Cais do Sodré - Santos', 'Centro da Amadora',\n",
       "       'Pinhal de Frades - Quinta das Laranjeiras', 'Azeda',\n",
       "       'Oleiros - Aldeia de Irmãos - Quinta do Picão',\n",
       "       'Casal de São Brás - Vila Chã', 'Prazeres - Maria Pia',\n",
       "       'Gare do Oriente - Zona Sul', 'Murches', 'Arroja',\n",
       "       'Casal do Marco', 'Zona Ribeirinha', 'Quinta dos Alcoutins',\n",
       "       'Fonte Nova -  Calhariz', 'Estrada de Benfica',\n",
       "       'Avenida do Uruguai',\n",
       "       'Aldeia de Paio Pires - Alto dos Bonecos - Vale da Abelha',\n",
       "       'Francos - Vale Mourão', 'Serra de Carnaxide - Quinta do Borel',\n",
       "       'Laveiras - Caxias - Murganhal', 'São Gabriel - Varzinha',\n",
       "       'Albarraque', 'Baixa', 'Moinho das Antas',\n",
       "       'Bairro Azul - Parque Eduardo VII', 'Mercado de Benfica',\n",
       "       'Afonso Costa - Fonte do Lavra', 'Bom Sucesso - Arcena',\n",
       "       'Paço do Lumiar', 'Buraca',\n",
       "       'Bairro da Conceição - Bairro Santo Nicolau',\n",
       "       'Pinhal do Conde da Cunha', 'Vale Figueira - Carcereira',\n",
       "       'Colinas do Cruzeiro', 'Casais de Mem Martins - Serra das Minas',\n",
       "       'Quinta de São Gonçalo', 'Junqueira',\n",
       "       'Largo do Calvário - Lx Factory',\n",
       "       'Reboreda - Alves da Silva - Anunciada', 'Penedo - Matarraque',\n",
       "       'Dafundo', 'Campo de Santana - Santa Marta', 'Sete Rios',\n",
       "       'Centro do Feijó', 'Almada', 'Foros de Amora',\n",
       "       'São Pedro de Penaferrim', 'Príncipe Real - São Bento',\n",
       "       'Quinta da Morgadinha', 'Rossio - Martim Moniz',\n",
       "       'Rio Seco - Casalinho', 'Bairro Novo - Quinta Dona Maria',\n",
       "       'Apelação', 'Centro - Torre de Belém', 'Pedrouços',\n",
       "       'Alvito - Quinta do Jacinto', 'Caramão da Ajuda', 'Alto da Barra',\n",
       "       'Bela Vista - Lanchoa - Tetra', 'Tapada do Mocho - Nova Morada',\n",
       "       'Praça de Espanha - Sete Rios', 'Bairro de Santa Cruz', 'Rana',\n",
       "       'Bacelos de Gaio - Farinheiras', 'Verdizela', 'Belverde',\n",
       "       'Redondos', 'Colaride - Monte da Tapada',\n",
       "       'Monte Belo Sul - Jardins do Sado', 'Vale da Amoreira', 'Boa Hora',\n",
       "       'Torre da Marinha - Fogueteiro', 'Ouressa',\n",
       "       'Igreja de Benfica - Calçada do Tojal', 'Sobralinho',\n",
       "       'Murtal - Madorna', 'Paivas', 'Quinta da Bela Vista - Arneiro',\n",
       "       'Montalvão',\n",
       "       'Praia do Sul - Quinta da Baleia - Fonte Boa da Brincosa',\n",
       "       'São Miguel das Encostas - Silveiras', 'Junqueiro',\n",
       "       'Bairro da Coopalme', 'Charquinho', 'Ribeirada',\n",
       "       'Quinta da Alagoa - Quinta do Barão', 'Anta', 'Reboleira',\n",
       "       'Outurela - Portela', 'Quinta da Trindade',\n",
       "       'Parque da Paz - Alfeite',\n",
       "       'Quinta da Fidalga - Quinta do Outeiro - Murtinheira',\n",
       "       'Pai do Vento', 'Codivel', 'Alto da Ajuda', 'Centro de Laranjeiro',\n",
       "       'Marisol', 'Cruz Quebrada', 'Cavaleira',\n",
       "       \"São Sebastião - Ribeira d'Ilhas\", 'Linhó', 'Malvarosa', 'Talaíde',\n",
       "       'Caselas', 'Vale do Cobro', 'Quinta da Fidalga',\n",
       "       'Santa Apolónia - Cruz da Pedra', 'Monteverde', 'Mira-Sintra',\n",
       "       'Bairro da Serafina'], dtype=object)"
      ]
     },
     "execution_count": 46,
     "metadata": {},
     "output_type": "execute_result"
    }
   ],
   "source": [
    "df_without_outliers['ad_district'].unique()"
   ]
  },
  {
   "cell_type": "code",
   "execution_count": 47,
   "id": "43dde24e",
   "metadata": {},
   "outputs": [
    {
     "data": {
      "text/plain": [
       "id\n",
       "270022130           0\n",
       "270205980           0\n",
       "270221480       Cacém\n",
       "270375630      Idanha\n",
       "270376230           0\n",
       "               ...   \n",
       "317049220    Expo Sul\n",
       "317049440    Expo Sul\n",
       "317051750    Expo Sul\n",
       "317051820    Expo Sul\n",
       "317051990    Expo Sul\n",
       "Name: ad_district, Length: 69965, dtype: object"
      ]
     },
     "execution_count": 47,
     "metadata": {},
     "output_type": "execute_result"
    }
   ],
   "source": [
    "df_without_outliers['ad_district']"
   ]
  },
  {
   "cell_type": "code",
   "execution_count": 48,
   "id": "0d80be91",
   "metadata": {},
   "outputs": [
    {
     "data": {
      "text/plain": [
       "Index(['ad_id', 'ad_state', 'ad_operation', 'ad_typology', 'ad_propertytype',\n",
       "       'ad_price', 'ad_unitprice', 'ad_activationdate', 'ad_deactivationdate',\n",
       "       'ad_modificationdate', 'ad_latitude', 'ad_longitude',\n",
       "       'ad_layerlocation', 'ad_province', 'ad_town', 'ad_district',\n",
       "       'ad_neighbourhood', 'ad_postalcode', 'ad_streettype', 'ad_streetname',\n",
       "       'ad_streetnumber', 'ad_floornumber', 'ad_addressvisible',\n",
       "       'ad_subtypology', 'ad_area', 'ad_builttype', 'ad_roomnumber',\n",
       "       'ad_bathnumber', 'ad_flatlocation', 'ad_haslift', 'ad_hasparkingspace',\n",
       "       'ad_hasboxroom', 'ad_hasswimmingpool', 'ad_urlactive', 'ad_urlinactive',\n",
       "       'ad_urlimg1', 'ad_urlimg2', 'newdevelopment_commercialname',\n",
       "       'newdevelopment_fromprice', 'newdevelopment_averageprice',\n",
       "       'ad_commercialname', 'ad_isAuction', 'ad_constructionyear',\n",
       "       'adstats_visits', 'adstats_sendtofriend', 'adstats_savedasfavorite',\n",
       "       'adstats_daysonmarket', 'adstats_contactsbyemail', 'ad_pricechanges',\n",
       "       'ad_hasgarden', 'ad_hasterrace', 'ad_hashotwater', 'ad_hasheating',\n",
       "       'ad_hasairconditioning', 'ad_minimalStay', 'ad_newOccupation',\n",
       "       'ad_energycertification', 'ad_energylegislation',\n",
       "       'ad_energyperformance', 'ad_orientations', 'ad_communitycosts',\n",
       "       'ad_heatingtype', 'ad_isintopfloor', 'ad_hashandicapadaptedaccess',\n",
       "       'ad_hashandicapadapteduse', 'ad_comment'],\n",
       "      dtype='object')"
      ]
     },
     "execution_count": 48,
     "metadata": {},
     "output_type": "execute_result"
    }
   ],
   "source": [
    "df_without_outliers.columns"
   ]
  },
  {
   "cell_type": "code",
   "execution_count": 49,
   "id": "e59c5b2d",
   "metadata": {},
   "outputs": [],
   "source": [
    "df_new = df_without_outliers[['ad_id']]"
   ]
  },
  {
   "cell_type": "code",
   "execution_count": 50,
   "id": "b5a70fcd",
   "metadata": {},
   "outputs": [
    {
     "data": {
      "text/plain": [
       "array([1, 2], dtype=int64)"
      ]
     },
     "execution_count": 50,
     "metadata": {},
     "output_type": "execute_result"
    }
   ],
   "source": [
    "df_without_outliers['ad_propertytype'].unique()"
   ]
  },
  {
   "cell_type": "code",
   "execution_count": 51,
   "id": "608db241",
   "metadata": {},
   "outputs": [
    {
     "name": "stderr",
     "output_type": "stream",
     "text": [
      "C:\\Users\\hp\\anaconda3\\lib\\site-packages\\seaborn\\_decorators.py:36: FutureWarning: Pass the following variables as keyword args: x, y. From version 0.12, the only valid positional argument will be `data`, and passing other arguments without an explicit keyword will result in an error or misinterpretation.\n",
      "  warnings.warn(\n"
     ]
    },
    {
     "data": {
      "image/png": "[encoded data removed]",
      "text/plain": [
       "<Figure size 432x288 with 1 Axes>"
      ]
     },
     "metadata": {
      "needs_background": "light"
     },
     "output_type": "display_data"
    }
   ],
   "source": [
    "sns.boxplot(\"ad_propertytype\",\"ad_price\",data = df_without_outliers)\n",
    "plt.show()"
   ]
  },
  {
   "cell_type": "code",
   "execution_count": 52,
   "id": "13f77e2c",
   "metadata": {},
   "outputs": [
    {
     "data": {
      "text/plain": [
       "id\n",
       "270022130       6.071429\n",
       "270205980    1000.000000\n",
       "270221480      16.304348\n",
       "270375630    1319.875776\n",
       "270376230     873.786408\n",
       "                ...     \n",
       "317049220    6769.911504\n",
       "317049440    7272.727273\n",
       "317051750    6250.000000\n",
       "317051820    6577.181208\n",
       "317051990    7777.777778\n",
       "Name: ad_unitprice, Length: 69965, dtype: float64"
      ]
     },
     "execution_count": 52,
     "metadata": {},
     "output_type": "execute_result"
    }
   ],
   "source": [
    "df_without_outliers['ad_unitprice'] # price square per feet"
   ]
  },
  {
   "cell_type": "code",
   "execution_count": 53,
   "id": "0778b2b5",
   "metadata": {},
   "outputs": [
    {
     "data": {
      "text/plain": [
       "id\n",
       "270022130    7000.0\n",
       "270205980     400.0\n",
       "270221480      18.4\n",
       "270375630      64.4\n",
       "270376230     103.0\n",
       "              ...  \n",
       "317049220     113.0\n",
       "317049440      99.0\n",
       "317051750      56.0\n",
       "317051820     149.0\n",
       "317051990     108.0\n",
       "Name: ad_area, Length: 69965, dtype: float64"
      ]
     },
     "execution_count": 53,
     "metadata": {},
     "output_type": "execute_result"
    }
   ],
   "source": [
    "df_without_outliers['ad_area'] # total sqft"
   ]
  },
  {
   "cell_type": "code",
   "execution_count": 54,
   "id": "c07655d6",
   "metadata": {},
   "outputs": [
    {
     "data": {
      "text/plain": [
       "array([ 0.,  5.,  2.,  4.,  1.,  8.,  6.,  3.,  7., 12., 13., 10., 15.,\n",
       "       11., 16.,  9., 21., 14., 20., 24., 17.])"
      ]
     },
     "execution_count": 54,
     "metadata": {},
     "output_type": "execute_result"
    }
   ],
   "source": [
    "df_without_outliers['ad_roomnumber'].unique()"
   ]
  },
  {
   "cell_type": "code",
   "execution_count": 55,
   "id": "ffa9ad28",
   "metadata": {},
   "outputs": [
    {
     "data": {
      "text/plain": [
       "id\n",
       "270022130     42500.0\n",
       "270205980    400000.0\n",
       "270221480       300.0\n",
       "270375630     85000.0\n",
       "270376230     90000.0\n",
       "270377370     28000.0\n",
       "270379340    206993.0\n",
       "270379830    185000.0\n",
       "270383350    275000.0\n",
       "270385700     68000.0\n",
       "Name: ad_price, dtype: float64"
      ]
     },
     "execution_count": 55,
     "metadata": {},
     "output_type": "execute_result"
    }
   ],
   "source": [
    "df_without_outliers['ad_price'].head(10)"
   ]
  },
  {
   "cell_type": "code",
   "execution_count": 56,
   "id": "0bb357bf",
   "metadata": {},
   "outputs": [
    {
     "data": {
      "text/html": [
       "<div>\n",
       "<style scoped>\n",
       "    .dataframe tbody tr th:only-of-type {\n",
       "        vertical-align: middle;\n",
       "    }\n",
       "\n",
       "    .dataframe tbody tr th {\n",
       "        vertical-align: top;\n",
       "    }\n",
       "\n",
       "    .dataframe thead th {\n",
       "        text-align: right;\n",
       "    }\n",
       "</style>\n",
       "<table border=\"1\" class=\"dataframe\">\n",
       "  <thead>\n",
       "    <tr style=\"text-align: right;\">\n",
       "      <th></th>\n",
       "      <th>ad_id</th>\n",
       "      <th>ad_state</th>\n",
       "      <th>ad_operation</th>\n",
       "      <th>ad_typology</th>\n",
       "      <th>ad_propertytype</th>\n",
       "      <th>ad_price</th>\n",
       "      <th>ad_unitprice</th>\n",
       "      <th>ad_activationdate</th>\n",
       "      <th>ad_deactivationdate</th>\n",
       "      <th>ad_modificationdate</th>\n",
       "      <th>...</th>\n",
       "      <th>ad_energycertification</th>\n",
       "      <th>ad_energylegislation</th>\n",
       "      <th>ad_energyperformance</th>\n",
       "      <th>ad_orientations</th>\n",
       "      <th>ad_communitycosts</th>\n",
       "      <th>ad_heatingtype</th>\n",
       "      <th>ad_isintopfloor</th>\n",
       "      <th>ad_hashandicapadaptedaccess</th>\n",
       "      <th>ad_hashandicapadapteduse</th>\n",
       "      <th>ad_comment</th>\n",
       "    </tr>\n",
       "    <tr>\n",
       "      <th>id</th>\n",
       "      <th></th>\n",
       "      <th></th>\n",
       "      <th></th>\n",
       "      <th></th>\n",
       "      <th></th>\n",
       "      <th></th>\n",
       "      <th></th>\n",
       "      <th></th>\n",
       "      <th></th>\n",
       "      <th></th>\n",
       "      <th></th>\n",
       "      <th></th>\n",
       "      <th></th>\n",
       "      <th></th>\n",
       "      <th></th>\n",
       "      <th></th>\n",
       "      <th></th>\n",
       "      <th></th>\n",
       "      <th></th>\n",
       "      <th></th>\n",
       "      <th></th>\n",
       "    </tr>\n",
       "  </thead>\n",
       "  <tbody>\n",
       "    <tr>\n",
       "      <th>270205980</th>\n",
       "      <td>27020598</td>\n",
       "      <td>4</td>\n",
       "      <td>1</td>\n",
       "      <td>2</td>\n",
       "      <td>1</td>\n",
       "      <td>400000.0</td>\n",
       "      <td>1000.000000</td>\n",
       "      <td>2017-05-05</td>\n",
       "      <td>2021-06-25</td>\n",
       "      <td>2021-06-25</td>\n",
       "      <td>...</td>\n",
       "      <td>C</td>\n",
       "      <td>PORTUGAL_DEFAULT</td>\n",
       "      <td>0.0</td>\n",
       "      <td>0</td>\n",
       "      <td>0.0</td>\n",
       "      <td>0</td>\n",
       "      <td>0.0</td>\n",
       "      <td>0.0</td>\n",
       "      <td>0.0</td>\n",
       "      <td>MOR_1744\\n\\nVendo linda moradia de 6 assoalhad...</td>\n",
       "    </tr>\n",
       "    <tr>\n",
       "      <th>270517380</th>\n",
       "      <td>27051738</td>\n",
       "      <td>4</td>\n",
       "      <td>1</td>\n",
       "      <td>2</td>\n",
       "      <td>1</td>\n",
       "      <td>350000.0</td>\n",
       "      <td>1914.137271</td>\n",
       "      <td>2015-08-07</td>\n",
       "      <td>2021-07-07</td>\n",
       "      <td>2021-07-07</td>\n",
       "      <td>...</td>\n",
       "      <td>C</td>\n",
       "      <td>PORTUGAL_DEFAULT</td>\n",
       "      <td>0.0</td>\n",
       "      <td>0</td>\n",
       "      <td>0.0</td>\n",
       "      <td>0</td>\n",
       "      <td>0.0</td>\n",
       "      <td>0.0</td>\n",
       "      <td>0.0</td>\n",
       "      <td>Moradia V2 composta por 2 pisos, muito bem loc...</td>\n",
       "    </tr>\n",
       "    <tr>\n",
       "      <th>270746220</th>\n",
       "      <td>27074622</td>\n",
       "      <td>4</td>\n",
       "      <td>2</td>\n",
       "      <td>1</td>\n",
       "      <td>1</td>\n",
       "      <td>1500.0</td>\n",
       "      <td>15.000000</td>\n",
       "      <td>2019-10-08</td>\n",
       "      <td>2021-10-14</td>\n",
       "      <td>2021-10-14</td>\n",
       "      <td>...</td>\n",
       "      <td>C</td>\n",
       "      <td>0</td>\n",
       "      <td>0.0</td>\n",
       "      <td>EAST,SOUTH</td>\n",
       "      <td>0.0</td>\n",
       "      <td>0</td>\n",
       "      <td>0.0</td>\n",
       "      <td>0.0</td>\n",
       "      <td>0.0</td>\n",
       "      <td>Entre o Largo do Rato e o Jardim da Estrela Lu...</td>\n",
       "    </tr>\n",
       "    <tr>\n",
       "      <th>270746700</th>\n",
       "      <td>27074670</td>\n",
       "      <td>4</td>\n",
       "      <td>2</td>\n",
       "      <td>1</td>\n",
       "      <td>1</td>\n",
       "      <td>1400.0</td>\n",
       "      <td>9.722222</td>\n",
       "      <td>2019-04-10</td>\n",
       "      <td>2021-10-14</td>\n",
       "      <td>2021-10-14</td>\n",
       "      <td>...</td>\n",
       "      <td>C</td>\n",
       "      <td>0</td>\n",
       "      <td>0.0</td>\n",
       "      <td>NORTH,EAST,SOUTH</td>\n",
       "      <td>0.0</td>\n",
       "      <td>0</td>\n",
       "      <td>0.0</td>\n",
       "      <td>0.0</td>\n",
       "      <td>0.0</td>\n",
       "      <td>Alvalade - Rua Marquesa de Alorna Luminoso! T3...</td>\n",
       "    </tr>\n",
       "    <tr>\n",
       "      <th>270936250</th>\n",
       "      <td>27093625</td>\n",
       "      <td>4</td>\n",
       "      <td>2</td>\n",
       "      <td>1</td>\n",
       "      <td>1</td>\n",
       "      <td>1150.0</td>\n",
       "      <td>20.175439</td>\n",
       "      <td>2019-01-16</td>\n",
       "      <td>2021-10-14</td>\n",
       "      <td>2021-10-14</td>\n",
       "      <td>...</td>\n",
       "      <td>C</td>\n",
       "      <td>PORTUGAL_DEFAULT</td>\n",
       "      <td>0.0</td>\n",
       "      <td>NORTH,WEST,SOUTH</td>\n",
       "      <td>0.0</td>\n",
       "      <td>CENTRAL</td>\n",
       "      <td>0.0</td>\n",
       "      <td>0.0</td>\n",
       "      <td>1.0</td>\n",
       "      <td>Entrecampos. Próximo ao Jardim do Campo Grande...</td>\n",
       "    </tr>\n",
       "  </tbody>\n",
       "</table>\n",
       "<p>5 rows × 66 columns</p>\n",
       "</div>"
      ],
      "text/plain": [
       "              ad_id  ad_state  ad_operation  ad_typology  ad_propertytype  \\\n",
       "id                                                                          \n",
       "270205980  27020598         4             1            2                1   \n",
       "270517380  27051738         4             1            2                1   \n",
       "270746220  27074622         4             2            1                1   \n",
       "270746700  27074670         4             2            1                1   \n",
       "270936250  27093625         4             2            1                1   \n",
       "\n",
       "           ad_price  ad_unitprice ad_activationdate ad_deactivationdate  \\\n",
       "id                                                                        \n",
       "270205980  400000.0   1000.000000        2017-05-05          2021-06-25   \n",
       "270517380  350000.0   1914.137271        2015-08-07          2021-07-07   \n",
       "270746220    1500.0     15.000000        2019-10-08          2021-10-14   \n",
       "270746700    1400.0      9.722222        2019-04-10          2021-10-14   \n",
       "270936250    1150.0     20.175439        2019-01-16          2021-10-14   \n",
       "\n",
       "          ad_modificationdate  ...  ad_energycertification  \\\n",
       "id                             ...                           \n",
       "270205980          2021-06-25  ...                       C   \n",
       "270517380          2021-07-07  ...                       C   \n",
       "270746220          2021-10-14  ...                       C   \n",
       "270746700          2021-10-14  ...                       C   \n",
       "270936250          2021-10-14  ...                       C   \n",
       "\n",
       "           ad_energylegislation ad_energyperformance   ad_orientations  \\\n",
       "id                                                                       \n",
       "270205980      PORTUGAL_DEFAULT                  0.0                 0   \n",
       "270517380      PORTUGAL_DEFAULT                  0.0                 0   \n",
       "270746220                     0                  0.0        EAST,SOUTH   \n",
       "270746700                     0                  0.0  NORTH,EAST,SOUTH   \n",
       "270936250      PORTUGAL_DEFAULT                  0.0  NORTH,WEST,SOUTH   \n",
       "\n",
       "          ad_communitycosts ad_heatingtype ad_isintopfloor  \\\n",
       "id                                                           \n",
       "270205980               0.0              0             0.0   \n",
       "270517380               0.0              0             0.0   \n",
       "270746220               0.0              0             0.0   \n",
       "270746700               0.0              0             0.0   \n",
       "270936250               0.0        CENTRAL             0.0   \n",
       "\n",
       "          ad_hashandicapadaptedaccess ad_hashandicapadapteduse  \\\n",
       "id                                                               \n",
       "270205980                         0.0                      0.0   \n",
       "270517380                         0.0                      0.0   \n",
       "270746220                         0.0                      0.0   \n",
       "270746700                         0.0                      0.0   \n",
       "270936250                         0.0                      1.0   \n",
       "\n",
       "                                                  ad_comment  \n",
       "id                                                            \n",
       "270205980  MOR_1744\\n\\nVendo linda moradia de 6 assoalhad...  \n",
       "270517380  Moradia V2 composta por 2 pisos, muito bem loc...  \n",
       "270746220  Entre o Largo do Rato e o Jardim da Estrela Lu...  \n",
       "270746700  Alvalade - Rua Marquesa de Alorna Luminoso! T3...  \n",
       "270936250  Entrecampos. Próximo ao Jardim do Campo Grande...  \n",
       "\n",
       "[5 rows x 66 columns]"
      ]
     },
     "execution_count": 56,
     "metadata": {},
     "output_type": "execute_result"
    }
   ],
   "source": [
    "df_without_outliers[df_without_outliers.ad_area/df_without_outliers.ad_roomnumber<300].head()"
   ]
  },
  {
   "cell_type": "code",
   "execution_count": 57,
   "id": "4cb5e8af",
   "metadata": {},
   "outputs": [
    {
     "data": {
      "text/plain": [
       "(69965, 66)"
      ]
     },
     "execution_count": 57,
     "metadata": {},
     "output_type": "execute_result"
    }
   ],
   "source": [
    "df_without_outliers.shape"
   ]
  },
  {
   "cell_type": "code",
   "execution_count": 58,
   "id": "c1f9b665",
   "metadata": {},
   "outputs": [],
   "source": [
    "df5 = df_without_outliers[df_without_outliers.ad_area/df_without_outliers.ad_roomnumber<300]"
   ]
  },
  {
   "cell_type": "code",
   "execution_count": 59,
   "id": "967d61be",
   "metadata": {},
   "outputs": [
    {
     "data": {
      "text/plain": [
       "(48708, 66)"
      ]
     },
     "execution_count": 59,
     "metadata": {},
     "output_type": "execute_result"
    }
   ],
   "source": [
    "df5.shape"
   ]
  },
  {
   "cell_type": "code",
   "execution_count": 60,
   "id": "07e13804",
   "metadata": {},
   "outputs": [
    {
     "data": {
      "text/plain": [
       "id\n",
       "270022130    0.0\n",
       "270205980    5.0\n",
       "270221480    0.0\n",
       "270375630    0.0\n",
       "270376230    0.0\n",
       "            ... \n",
       "317049220    3.0\n",
       "317049440    2.0\n",
       "317051750    1.0\n",
       "317051820    3.0\n",
       "317051990    2.0\n",
       "Name: ad_roomnumber, Length: 69965, dtype: float64"
      ]
     },
     "execution_count": 60,
     "metadata": {},
     "output_type": "execute_result"
    }
   ],
   "source": [
    "df_without_outliers.ad_roomnumber"
   ]
  },
  {
   "cell_type": "code",
   "execution_count": null,
   "id": "19eafb49",
   "metadata": {},
   "outputs": [],
   "source": []
  },
  {
   "cell_type": "code",
   "execution_count": 61,
   "id": "aa5e9230",
   "metadata": {},
   "outputs": [
    {
     "data": {
      "image/png": "[encoded data removed]",
      "text/plain": [
       "<Figure size 432x288 with 1 Axes>"
      ]
     },
     "metadata": {
      "needs_background": "light"
     },
     "output_type": "display_data"
    }
   ],
   "source": [
    "sns.boxplot(x='ad_roomnumber',y='ad_price',data = df5)\n",
    "plt.show()"
   ]
  },
  {
   "cell_type": "code",
   "execution_count": 62,
   "id": "d2f8cd95",
   "metadata": {},
   "outputs": [
    {
     "name": "stderr",
     "output_type": "stream",
     "text": [
      "C:\\Users\\hp\\anaconda3\\lib\\site-packages\\seaborn\\_decorators.py:36: FutureWarning: Pass the following variables as keyword args: x, y. From version 0.12, the only valid positional argument will be `data`, and passing other arguments without an explicit keyword will result in an error or misinterpretation.\n",
      "  warnings.warn(\n"
     ]
    },
    {
     "data": {
      "image/png": "[encoded data removed]",
      "text/plain": [
       "<Figure size 432x288 with 1 Axes>"
      ]
     },
     "metadata": {
      "needs_background": "light"
     },
     "output_type": "display_data"
    }
   ],
   "source": [
    "sns.boxplot(\"ad_bathnumber\",\"ad_price\",data = df5)\n",
    "plt.show()"
   ]
  },
  {
   "cell_type": "code",
   "execution_count": 63,
   "id": "bce69ed1",
   "metadata": {},
   "outputs": [
    {
     "data": {
      "text/plain": [
       "count    48708.000000\n",
       "mean      2413.707309\n",
       "std       1916.836806\n",
       "min          0.800000\n",
       "25%       1242.636182\n",
       "50%       1980.000000\n",
       "75%       3316.138541\n",
       "max      21964.573269\n",
       "Name: ad_unitprice, dtype: float64"
      ]
     },
     "execution_count": 63,
     "metadata": {},
     "output_type": "execute_result"
    }
   ],
   "source": [
    "df5['ad_unitprice'].describe()"
   ]
  },
  {
   "cell_type": "code",
   "execution_count": 64,
   "id": "dddfe6dc",
   "metadata": {},
   "outputs": [
    {
     "data": {
      "text/plain": [
       "array(['Setúbal', 'Lisboa'], dtype=object)"
      ]
     },
     "execution_count": 64,
     "metadata": {},
     "output_type": "execute_result"
    }
   ],
   "source": [
    "df5['ad_province'].unique()"
   ]
  },
  {
   "cell_type": "code",
   "execution_count": 65,
   "id": "468e1a62",
   "metadata": {},
   "outputs": [
    {
     "name": "stderr",
     "output_type": "stream",
     "text": [
      "C:\\Users\\hp\\anaconda3\\lib\\site-packages\\seaborn\\_decorators.py:36: FutureWarning: Pass the following variable as a keyword arg: x. From version 0.12, the only valid positional argument will be `data`, and passing other arguments without an explicit keyword will result in an error or misinterpretation.\n",
      "  warnings.warn(\n"
     ]
    },
    {
     "data": {
      "text/plain": [
       "<AxesSubplot:xlabel='ad_province', ylabel='count'>"
      ]
     },
     "execution_count": 65,
     "metadata": {},
     "output_type": "execute_result"
    },
    {
     "data": {
      "image/png": "[encoded data removed]",
      "text/plain": [
       "<Figure size 432x288 with 1 Axes>"
      ]
     },
     "metadata": {
      "needs_background": "light"
     },
     "output_type": "display_data"
    }
   ],
   "source": [
    "sns.countplot('ad_province',data = df5)"
   ]
  },
  {
   "cell_type": "code",
   "execution_count": 66,
   "id": "af0778fd",
   "metadata": {},
   "outputs": [
    {
     "data": {
      "text/plain": [
       "Index(['ad_id', 'ad_state', 'ad_operation', 'ad_typology', 'ad_propertytype',\n",
       "       'ad_price', 'ad_unitprice', 'ad_activationdate', 'ad_deactivationdate',\n",
       "       'ad_modificationdate', 'ad_latitude', 'ad_longitude',\n",
       "       'ad_layerlocation', 'ad_province', 'ad_town', 'ad_district',\n",
       "       'ad_neighbourhood', 'ad_postalcode', 'ad_streettype', 'ad_streetname',\n",
       "       'ad_streetnumber', 'ad_floornumber', 'ad_addressvisible',\n",
       "       'ad_subtypology', 'ad_area', 'ad_builttype', 'ad_roomnumber',\n",
       "       'ad_bathnumber', 'ad_flatlocation', 'ad_haslift', 'ad_hasparkingspace',\n",
       "       'ad_hasboxroom', 'ad_hasswimmingpool', 'ad_urlactive', 'ad_urlinactive',\n",
       "       'ad_urlimg1', 'ad_urlimg2', 'newdevelopment_commercialname',\n",
       "       'newdevelopment_fromprice', 'newdevelopment_averageprice',\n",
       "       'ad_commercialname', 'ad_isAuction', 'ad_constructionyear',\n",
       "       'adstats_visits', 'adstats_sendtofriend', 'adstats_savedasfavorite',\n",
       "       'adstats_daysonmarket', 'adstats_contactsbyemail', 'ad_pricechanges',\n",
       "       'ad_hasgarden', 'ad_hasterrace', 'ad_hashotwater', 'ad_hasheating',\n",
       "       'ad_hasairconditioning', 'ad_minimalStay', 'ad_newOccupation',\n",
       "       'ad_energycertification', 'ad_energylegislation',\n",
       "       'ad_energyperformance', 'ad_orientations', 'ad_communitycosts',\n",
       "       'ad_heatingtype', 'ad_isintopfloor', 'ad_hashandicapadaptedaccess',\n",
       "       'ad_hashandicapadapteduse', 'ad_comment'],\n",
       "      dtype='object')"
      ]
     },
     "execution_count": 66,
     "metadata": {},
     "output_type": "execute_result"
    }
   ],
   "source": [
    "df5.columns"
   ]
  },
  {
   "cell_type": "code",
   "execution_count": 67,
   "id": "bcb09063",
   "metadata": {},
   "outputs": [
    {
     "data": {
      "text/plain": [
       "id\n",
       "270205980    0.0\n",
       "270517380    0.0\n",
       "270746220    0.0\n",
       "270746700    0.0\n",
       "270936250    0.0\n",
       "            ... \n",
       "317049220    0.0\n",
       "317049440    0.0\n",
       "317051750    0.0\n",
       "317051820    0.0\n",
       "317051990    0.0\n",
       "Name: ad_communitycosts, Length: 48708, dtype: float64"
      ]
     },
     "execution_count": 67,
     "metadata": {},
     "output_type": "execute_result"
    }
   ],
   "source": [
    "df5['ad_communitycosts']"
   ]
  },
  {
   "cell_type": "code",
   "execution_count": 68,
   "id": "95c0ca4f",
   "metadata": {},
   "outputs": [],
   "source": [
    "df6 = df5.drop(['ad_id', 'ad_state', 'ad_operation','ad_postalcode', 'ad_streettype','ad_layerlocation','ad_town', 'ad_district','ad_urlimg1', 'ad_urlimg2', 'newdevelopment_commercialname','ad_urlactive', 'ad_urlinactive','ad_communitycosts','ad_isintopfloor', 'ad_hashandicapadaptedaccess',\n",
    "       'ad_hashandicapadapteduse', 'ad_comment','ad_activationdate','ad_deactivationdate','ad_modificationdate','newdevelopment_fromprice', 'newdevelopment_averageprice','ad_hashotwater','ad_energylegislation','ad_energyperformance','ad_orientations','ad_pricechanges','ad_streetname', 'ad_streetnumber', 'ad_floornumber','ad_commercialname', 'ad_isAuction', 'ad_constructionyear','ad_energycertification','ad_heatingtype','ad_neighbourhood','ad_newOccupation','adstats_sendtofriend', 'adstats_savedasfavorite',\n",
    "       'adstats_daysonmarket', 'adstats_contactsbyemail', 'ad_hasgarden','ad_propertytype', 'adstats_visits', 'ad_minimalStay','ad_builttype','ad_flatlocation','ad_addressvisible', 'ad_subtypology',\n",
    "       'ad_hasterrace', 'ad_hasheating', 'ad_hasairconditioning'],axis =1)"
   ]
  },
  {
   "cell_type": "code",
   "execution_count": 69,
   "id": "17038446",
   "metadata": {},
   "outputs": [],
   "source": [
    "#df6 = df5[['ad_typology','ad_unitprice','ad_province','ad_area','ad_bathnumber','ad_roomnumber','ad_price','ad_latitude','ad_longitude','ad_propertytype','ad_hashandicapadaptedaccess',\n",
    "#'ad_hashandicapadapteduse','ad_hasboxroom','ad_isAuction','ad_constructionyear','ad_hasheating','ad_haslift,newdevelopment_averageprice,ad_hashotwater,ad_hasswimmingpool']]"
   ]
  },
  {
   "cell_type": "code",
   "execution_count": 70,
   "id": "34ef50fa",
   "metadata": {},
   "outputs": [
    {
     "data": {
      "text/plain": [
       "Index(['ad_typology', 'ad_price', 'ad_unitprice', 'ad_latitude',\n",
       "       'ad_longitude', 'ad_province', 'ad_area', 'ad_roomnumber',\n",
       "       'ad_bathnumber', 'ad_haslift', 'ad_hasparkingspace', 'ad_hasboxroom',\n",
       "       'ad_hasswimmingpool'],\n",
       "      dtype='object')"
      ]
     },
     "execution_count": 70,
     "metadata": {},
     "output_type": "execute_result"
    }
   ],
   "source": [
    "df6.columns"
   ]
  },
  {
   "cell_type": "code",
   "execution_count": 71,
   "id": "e6e4c6ee",
   "metadata": {},
   "outputs": [
    {
     "data": {
      "text/html": [
       "<div>\n",
       "<style scoped>\n",
       "    .dataframe tbody tr th:only-of-type {\n",
       "        vertical-align: middle;\n",
       "    }\n",
       "\n",
       "    .dataframe tbody tr th {\n",
       "        vertical-align: top;\n",
       "    }\n",
       "\n",
       "    .dataframe thead th {\n",
       "        text-align: right;\n",
       "    }\n",
       "</style>\n",
       "<table border=\"1\" class=\"dataframe\">\n",
       "  <thead>\n",
       "    <tr style=\"text-align: right;\">\n",
       "      <th></th>\n",
       "      <th>ad_typology</th>\n",
       "      <th>ad_price</th>\n",
       "      <th>ad_unitprice</th>\n",
       "      <th>ad_latitude</th>\n",
       "      <th>ad_longitude</th>\n",
       "      <th>ad_province</th>\n",
       "      <th>ad_area</th>\n",
       "      <th>ad_roomnumber</th>\n",
       "      <th>ad_bathnumber</th>\n",
       "      <th>ad_haslift</th>\n",
       "      <th>ad_hasparkingspace</th>\n",
       "      <th>ad_hasboxroom</th>\n",
       "      <th>ad_hasswimmingpool</th>\n",
       "    </tr>\n",
       "    <tr>\n",
       "      <th>id</th>\n",
       "      <th></th>\n",
       "      <th></th>\n",
       "      <th></th>\n",
       "      <th></th>\n",
       "      <th></th>\n",
       "      <th></th>\n",
       "      <th></th>\n",
       "      <th></th>\n",
       "      <th></th>\n",
       "      <th></th>\n",
       "      <th></th>\n",
       "      <th></th>\n",
       "      <th></th>\n",
       "    </tr>\n",
       "  </thead>\n",
       "  <tbody>\n",
       "    <tr>\n",
       "      <th>270205980</th>\n",
       "      <td>2</td>\n",
       "      <td>400000.0</td>\n",
       "      <td>1000.000000</td>\n",
       "      <td>38.596200</td>\n",
       "      <td>-8.926124</td>\n",
       "      <td>Setúbal</td>\n",
       "      <td>400.00</td>\n",
       "      <td>5.0</td>\n",
       "      <td>4.0</td>\n",
       "      <td>0.0</td>\n",
       "      <td>1.0</td>\n",
       "      <td>0.0</td>\n",
       "      <td>0.0</td>\n",
       "    </tr>\n",
       "    <tr>\n",
       "      <th>270517380</th>\n",
       "      <td>2</td>\n",
       "      <td>350000.0</td>\n",
       "      <td>1914.137271</td>\n",
       "      <td>38.713388</td>\n",
       "      <td>-9.340868</td>\n",
       "      <td>Lisboa</td>\n",
       "      <td>182.85</td>\n",
       "      <td>2.0</td>\n",
       "      <td>3.0</td>\n",
       "      <td>0.0</td>\n",
       "      <td>0.0</td>\n",
       "      <td>0.0</td>\n",
       "      <td>0.0</td>\n",
       "    </tr>\n",
       "    <tr>\n",
       "      <th>270746220</th>\n",
       "      <td>1</td>\n",
       "      <td>1500.0</td>\n",
       "      <td>15.000000</td>\n",
       "      <td>38.718295</td>\n",
       "      <td>-9.156669</td>\n",
       "      <td>Lisboa</td>\n",
       "      <td>100.00</td>\n",
       "      <td>2.0</td>\n",
       "      <td>1.0</td>\n",
       "      <td>1.0</td>\n",
       "      <td>1.0</td>\n",
       "      <td>0.0</td>\n",
       "      <td>0.0</td>\n",
       "    </tr>\n",
       "    <tr>\n",
       "      <th>270746700</th>\n",
       "      <td>1</td>\n",
       "      <td>1400.0</td>\n",
       "      <td>9.722222</td>\n",
       "      <td>38.753961</td>\n",
       "      <td>-9.141526</td>\n",
       "      <td>Lisboa</td>\n",
       "      <td>144.00</td>\n",
       "      <td>4.0</td>\n",
       "      <td>2.0</td>\n",
       "      <td>0.0</td>\n",
       "      <td>0.0</td>\n",
       "      <td>0.0</td>\n",
       "      <td>0.0</td>\n",
       "    </tr>\n",
       "    <tr>\n",
       "      <th>270936250</th>\n",
       "      <td>1</td>\n",
       "      <td>1150.0</td>\n",
       "      <td>20.175439</td>\n",
       "      <td>38.749564</td>\n",
       "      <td>-9.147286</td>\n",
       "      <td>Lisboa</td>\n",
       "      <td>57.00</td>\n",
       "      <td>1.0</td>\n",
       "      <td>1.0</td>\n",
       "      <td>1.0</td>\n",
       "      <td>1.0</td>\n",
       "      <td>1.0</td>\n",
       "      <td>1.0</td>\n",
       "    </tr>\n",
       "  </tbody>\n",
       "</table>\n",
       "</div>"
      ],
      "text/plain": [
       "           ad_typology  ad_price  ad_unitprice  ad_latitude  ad_longitude  \\\n",
       "id                                                                          \n",
       "270205980            2  400000.0   1000.000000    38.596200     -8.926124   \n",
       "270517380            2  350000.0   1914.137271    38.713388     -9.340868   \n",
       "270746220            1    1500.0     15.000000    38.718295     -9.156669   \n",
       "270746700            1    1400.0      9.722222    38.753961     -9.141526   \n",
       "270936250            1    1150.0     20.175439    38.749564     -9.147286   \n",
       "\n",
       "          ad_province  ad_area  ad_roomnumber  ad_bathnumber  ad_haslift  \\\n",
       "id                                                                         \n",
       "270205980     Setúbal   400.00            5.0            4.0         0.0   \n",
       "270517380      Lisboa   182.85            2.0            3.0         0.0   \n",
       "270746220      Lisboa   100.00            2.0            1.0         1.0   \n",
       "270746700      Lisboa   144.00            4.0            2.0         0.0   \n",
       "270936250      Lisboa    57.00            1.0            1.0         1.0   \n",
       "\n",
       "           ad_hasparkingspace  ad_hasboxroom  ad_hasswimmingpool  \n",
       "id                                                                \n",
       "270205980                 1.0            0.0                 0.0  \n",
       "270517380                 0.0            0.0                 0.0  \n",
       "270746220                 1.0            0.0                 0.0  \n",
       "270746700                 0.0            0.0                 0.0  \n",
       "270936250                 1.0            1.0                 1.0  "
      ]
     },
     "execution_count": 71,
     "metadata": {},
     "output_type": "execute_result"
    }
   ],
   "source": [
    "df6.head()"
   ]
  },
  {
   "cell_type": "code",
   "execution_count": 72,
   "id": "a08e0811",
   "metadata": {},
   "outputs": [
    {
     "data": {
      "text/plain": [
       "array([ 5.,  2.,  4.,  1.,  8.,  6.,  3.,  7., 12., 13., 10., 15., 11.,\n",
       "       16.,  9., 21., 14., 20., 24., 17.])"
      ]
     },
     "execution_count": 72,
     "metadata": {},
     "output_type": "execute_result"
    }
   ],
   "source": [
    "df6.ad_roomnumber.unique()"
   ]
  },
  {
   "cell_type": "code",
   "execution_count": 73,
   "id": "f31f5c97",
   "metadata": {},
   "outputs": [
    {
     "data": {
      "text/plain": [
       "array([ 0.,  5.,  2.,  4.,  1.,  8.,  6.,  3.,  7., 12., 13., 10., 15.,\n",
       "       11., 16.,  9., 21., 14., 20., 24., 17.])"
      ]
     },
     "execution_count": 73,
     "metadata": {},
     "output_type": "execute_result"
    }
   ],
   "source": [
    "df_without_outliers.ad_roomnumber.unique()"
   ]
  },
  {
   "cell_type": "markdown",
   "id": "12193756",
   "metadata": {},
   "source": [
    "## MODEL BUILDING "
   ]
  },
  {
   "cell_type": "code",
   "execution_count": 74,
   "id": "e89052e6",
   "metadata": {},
   "outputs": [
    {
     "name": "stderr",
     "output_type": "stream",
     "text": [
      "C:\\Users\\hp\\anaconda3\\lib\\site-packages\\seaborn\\_decorators.py:36: FutureWarning: Pass the following variables as keyword args: x, y. From version 0.12, the only valid positional argument will be `data`, and passing other arguments without an explicit keyword will result in an error or misinterpretation.\n",
      "  warnings.warn(\n"
     ]
    },
    {
     "data": {
      "image/png": "[encoded data removed]",
      "text/plain": [
       "<Figure size 432x288 with 1 Axes>"
      ]
     },
     "metadata": {
      "needs_background": "light"
     },
     "output_type": "display_data"
    }
   ],
   "source": [
    "sns.scatterplot(\"ad_price\",\"ad_area\", data = df6)\n",
    "plt.show()\n"
   ]
  },
  {
   "cell_type": "code",
   "execution_count": 75,
   "id": "49e87944",
   "metadata": {},
   "outputs": [
    {
     "data": {
      "text/html": [
       "<div>\n",
       "<style scoped>\n",
       "    .dataframe tbody tr th:only-of-type {\n",
       "        vertical-align: middle;\n",
       "    }\n",
       "\n",
       "    .dataframe tbody tr th {\n",
       "        vertical-align: top;\n",
       "    }\n",
       "\n",
       "    .dataframe thead th {\n",
       "        text-align: right;\n",
       "    }\n",
       "</style>\n",
       "<table border=\"1\" class=\"dataframe\">\n",
       "  <thead>\n",
       "    <tr style=\"text-align: right;\">\n",
       "      <th></th>\n",
       "      <th>ad_typology</th>\n",
       "      <th>ad_price</th>\n",
       "      <th>ad_unitprice</th>\n",
       "      <th>ad_latitude</th>\n",
       "      <th>ad_longitude</th>\n",
       "      <th>ad_area</th>\n",
       "      <th>ad_roomnumber</th>\n",
       "      <th>ad_bathnumber</th>\n",
       "      <th>ad_haslift</th>\n",
       "      <th>ad_hasparkingspace</th>\n",
       "      <th>ad_hasboxroom</th>\n",
       "      <th>ad_hasswimmingpool</th>\n",
       "    </tr>\n",
       "  </thead>\n",
       "  <tbody>\n",
       "    <tr>\n",
       "      <th>ad_typology</th>\n",
       "      <td>1.000000</td>\n",
       "      <td>0.142774</td>\n",
       "      <td>-0.172461</td>\n",
       "      <td>0.161903</td>\n",
       "      <td>-0.012689</td>\n",
       "      <td>0.448968</td>\n",
       "      <td>0.415972</td>\n",
       "      <td>0.377259</td>\n",
       "      <td>-0.319656</td>\n",
       "      <td>0.075523</td>\n",
       "      <td>0.024502</td>\n",
       "      <td>0.174436</td>\n",
       "    </tr>\n",
       "    <tr>\n",
       "      <th>ad_price</th>\n",
       "      <td>0.142774</td>\n",
       "      <td>1.000000</td>\n",
       "      <td>0.661115</td>\n",
       "      <td>-0.037144</td>\n",
       "      <td>-0.120795</td>\n",
       "      <td>0.413447</td>\n",
       "      <td>0.333826</td>\n",
       "      <td>0.470998</td>\n",
       "      <td>0.111157</td>\n",
       "      <td>0.274437</td>\n",
       "      <td>0.104069</td>\n",
       "      <td>0.250656</td>\n",
       "    </tr>\n",
       "    <tr>\n",
       "      <th>ad_unitprice</th>\n",
       "      <td>-0.172461</td>\n",
       "      <td>0.661115</td>\n",
       "      <td>1.000000</td>\n",
       "      <td>-0.117118</td>\n",
       "      <td>-0.042928</td>\n",
       "      <td>-0.198688</td>\n",
       "      <td>-0.185639</td>\n",
       "      <td>-0.042720</td>\n",
       "      <td>0.155208</td>\n",
       "      <td>0.061645</td>\n",
       "      <td>-0.020731</td>\n",
       "      <td>0.050123</td>\n",
       "    </tr>\n",
       "    <tr>\n",
       "      <th>ad_latitude</th>\n",
       "      <td>0.161903</td>\n",
       "      <td>-0.037144</td>\n",
       "      <td>-0.117118</td>\n",
       "      <td>1.000000</td>\n",
       "      <td>-0.304145</td>\n",
       "      <td>0.173645</td>\n",
       "      <td>0.077225</td>\n",
       "      <td>0.069780</td>\n",
       "      <td>-0.058428</td>\n",
       "      <td>0.032149</td>\n",
       "      <td>0.049645</td>\n",
       "      <td>-0.004485</td>\n",
       "    </tr>\n",
       "    <tr>\n",
       "      <th>ad_longitude</th>\n",
       "      <td>-0.012689</td>\n",
       "      <td>-0.120795</td>\n",
       "      <td>-0.042928</td>\n",
       "      <td>-0.304145</td>\n",
       "      <td>1.000000</td>\n",
       "      <td>-0.070524</td>\n",
       "      <td>-0.013295</td>\n",
       "      <td>-0.100718</td>\n",
       "      <td>-0.029889</td>\n",
       "      <td>-0.067421</td>\n",
       "      <td>-0.072995</td>\n",
       "      <td>-0.063290</td>\n",
       "    </tr>\n",
       "    <tr>\n",
       "      <th>ad_area</th>\n",
       "      <td>0.448968</td>\n",
       "      <td>0.413447</td>\n",
       "      <td>-0.198688</td>\n",
       "      <td>0.173645</td>\n",
       "      <td>-0.070524</td>\n",
       "      <td>1.000000</td>\n",
       "      <td>0.676292</td>\n",
       "      <td>0.669782</td>\n",
       "      <td>-0.094730</td>\n",
       "      <td>0.250277</td>\n",
       "      <td>0.134440</td>\n",
       "      <td>0.258706</td>\n",
       "    </tr>\n",
       "    <tr>\n",
       "      <th>ad_roomnumber</th>\n",
       "      <td>0.415972</td>\n",
       "      <td>0.333826</td>\n",
       "      <td>-0.185639</td>\n",
       "      <td>0.077225</td>\n",
       "      <td>-0.013295</td>\n",
       "      <td>0.676292</td>\n",
       "      <td>1.000000</td>\n",
       "      <td>0.671992</td>\n",
       "      <td>-0.124578</td>\n",
       "      <td>0.151115</td>\n",
       "      <td>0.100847</td>\n",
       "      <td>0.151139</td>\n",
       "    </tr>\n",
       "    <tr>\n",
       "      <th>ad_bathnumber</th>\n",
       "      <td>0.377259</td>\n",
       "      <td>0.470998</td>\n",
       "      <td>-0.042720</td>\n",
       "      <td>0.069780</td>\n",
       "      <td>-0.100718</td>\n",
       "      <td>0.669782</td>\n",
       "      <td>0.671992</td>\n",
       "      <td>1.000000</td>\n",
       "      <td>-0.011268</td>\n",
       "      <td>0.297390</td>\n",
       "      <td>0.157918</td>\n",
       "      <td>0.267935</td>\n",
       "    </tr>\n",
       "    <tr>\n",
       "      <th>ad_haslift</th>\n",
       "      <td>-0.319656</td>\n",
       "      <td>0.111157</td>\n",
       "      <td>0.155208</td>\n",
       "      <td>-0.058428</td>\n",
       "      <td>-0.029889</td>\n",
       "      <td>-0.094730</td>\n",
       "      <td>-0.124578</td>\n",
       "      <td>-0.011268</td>\n",
       "      <td>1.000000</td>\n",
       "      <td>0.290838</td>\n",
       "      <td>0.186431</td>\n",
       "      <td>0.029558</td>\n",
       "    </tr>\n",
       "    <tr>\n",
       "      <th>ad_hasparkingspace</th>\n",
       "      <td>0.075523</td>\n",
       "      <td>0.274437</td>\n",
       "      <td>0.061645</td>\n",
       "      <td>0.032149</td>\n",
       "      <td>-0.067421</td>\n",
       "      <td>0.250277</td>\n",
       "      <td>0.151115</td>\n",
       "      <td>0.297390</td>\n",
       "      <td>0.290838</td>\n",
       "      <td>1.000000</td>\n",
       "      <td>0.328651</td>\n",
       "      <td>0.259894</td>\n",
       "    </tr>\n",
       "    <tr>\n",
       "      <th>ad_hasboxroom</th>\n",
       "      <td>0.024502</td>\n",
       "      <td>0.104069</td>\n",
       "      <td>-0.020731</td>\n",
       "      <td>0.049645</td>\n",
       "      <td>-0.072995</td>\n",
       "      <td>0.134440</td>\n",
       "      <td>0.100847</td>\n",
       "      <td>0.157918</td>\n",
       "      <td>0.186431</td>\n",
       "      <td>0.328651</td>\n",
       "      <td>1.000000</td>\n",
       "      <td>0.163605</td>\n",
       "    </tr>\n",
       "    <tr>\n",
       "      <th>ad_hasswimmingpool</th>\n",
       "      <td>0.174436</td>\n",
       "      <td>0.250656</td>\n",
       "      <td>0.050123</td>\n",
       "      <td>-0.004485</td>\n",
       "      <td>-0.063290</td>\n",
       "      <td>0.258706</td>\n",
       "      <td>0.151139</td>\n",
       "      <td>0.267935</td>\n",
       "      <td>0.029558</td>\n",
       "      <td>0.259894</td>\n",
       "      <td>0.163605</td>\n",
       "      <td>1.000000</td>\n",
       "    </tr>\n",
       "  </tbody>\n",
       "</table>\n",
       "</div>"
      ],
      "text/plain": [
       "                    ad_typology  ad_price  ad_unitprice  ad_latitude  \\\n",
       "ad_typology            1.000000  0.142774     -0.172461     0.161903   \n",
       "ad_price               0.142774  1.000000      0.661115    -0.037144   \n",
       "ad_unitprice          -0.172461  0.661115      1.000000    -0.117118   \n",
       "ad_latitude            0.161903 -0.037144     -0.117118     1.000000   \n",
       "ad_longitude          -0.012689 -0.120795     -0.042928    -0.304145   \n",
       "ad_area                0.448968  0.413447     -0.198688     0.173645   \n",
       "ad_roomnumber          0.415972  0.333826     -0.185639     0.077225   \n",
       "ad_bathnumber          0.377259  0.470998     -0.042720     0.069780   \n",
       "ad_haslift            -0.319656  0.111157      0.155208    -0.058428   \n",
       "ad_hasparkingspace     0.075523  0.274437      0.061645     0.032149   \n",
       "ad_hasboxroom          0.024502  0.104069     -0.020731     0.049645   \n",
       "ad_hasswimmingpool     0.174436  0.250656      0.050123    -0.004485   \n",
       "\n",
       "                    ad_longitude   ad_area  ad_roomnumber  ad_bathnumber  \\\n",
       "ad_typology            -0.012689  0.448968       0.415972       0.377259   \n",
       "ad_price               -0.120795  0.413447       0.333826       0.470998   \n",
       "ad_unitprice           -0.042928 -0.198688      -0.185639      -0.042720   \n",
       "ad_latitude            -0.304145  0.173645       0.077225       0.069780   \n",
       "ad_longitude            1.000000 -0.070524      -0.013295      -0.100718   \n",
       "ad_area                -0.070524  1.000000       0.676292       0.669782   \n",
       "ad_roomnumber          -0.013295  0.676292       1.000000       0.671992   \n",
       "ad_bathnumber          -0.100718  0.669782       0.671992       1.000000   \n",
       "ad_haslift             -0.029889 -0.094730      -0.124578      -0.011268   \n",
       "ad_hasparkingspace     -0.067421  0.250277       0.151115       0.297390   \n",
       "ad_hasboxroom          -0.072995  0.134440       0.100847       0.157918   \n",
       "ad_hasswimmingpool     -0.063290  0.258706       0.151139       0.267935   \n",
       "\n",
       "                    ad_haslift  ad_hasparkingspace  ad_hasboxroom  \\\n",
       "ad_typology          -0.319656            0.075523       0.024502   \n",
       "ad_price              0.111157            0.274437       0.104069   \n",
       "ad_unitprice          0.155208            0.061645      -0.020731   \n",
       "ad_latitude          -0.058428            0.032149       0.049645   \n",
       "ad_longitude         -0.029889           -0.067421      -0.072995   \n",
       "ad_area              -0.094730            0.250277       0.134440   \n",
       "ad_roomnumber        -0.124578            0.151115       0.100847   \n",
       "ad_bathnumber        -0.011268            0.297390       0.157918   \n",
       "ad_haslift            1.000000            0.290838       0.186431   \n",
       "ad_hasparkingspace    0.290838            1.000000       0.328651   \n",
       "ad_hasboxroom         0.186431            0.328651       1.000000   \n",
       "ad_hasswimmingpool    0.029558            0.259894       0.163605   \n",
       "\n",
       "                    ad_hasswimmingpool  \n",
       "ad_typology                   0.174436  \n",
       "ad_price                      0.250656  \n",
       "ad_unitprice                  0.050123  \n",
       "ad_latitude                  -0.004485  \n",
       "ad_longitude                 -0.063290  \n",
       "ad_area                       0.258706  \n",
       "ad_roomnumber                 0.151139  \n",
       "ad_bathnumber                 0.267935  \n",
       "ad_haslift                    0.029558  \n",
       "ad_hasparkingspace            0.259894  \n",
       "ad_hasboxroom                 0.163605  \n",
       "ad_hasswimmingpool            1.000000  "
      ]
     },
     "execution_count": 75,
     "metadata": {},
     "output_type": "execute_result"
    }
   ],
   "source": [
    "df6.corr()"
   ]
  },
  {
   "cell_type": "code",
   "execution_count": 76,
   "id": "356e59a6",
   "metadata": {},
   "outputs": [
    {
     "data": {
      "text/plain": [
       "<AxesSubplot:>"
      ]
     },
     "execution_count": 76,
     "metadata": {},
     "output_type": "execute_result"
    },
    {
     "data": {
      "image/png": "[encoded data removed]",
      "text/plain": [
       "<Figure size 432x288 with 2 Axes>"
      ]
     },
     "metadata": {
      "needs_background": "light"
     },
     "output_type": "display_data"
    }
   ],
   "source": [
    "sns.heatmap(df6.corr(),cmap=\"YlGnBu\", annot=True)"
   ]
  },
  {
   "cell_type": "markdown",
   "id": "93fc6954",
   "metadata": {},
   "source": [
    "## ONE HOT ENCODING"
   ]
  },
  {
   "cell_type": "markdown",
   "id": "cb961090",
   "metadata": {},
   "source": [
    "One hot encoding is one method of converting data to prepare it for an algorithm and get a better prediction."
   ]
  },
  {
   "cell_type": "code",
   "execution_count": 77,
   "id": "892a322e",
   "metadata": {},
   "outputs": [],
   "source": [
    "df7 = df6.copy()\n",
    "df7.ad_province.replace(\n",
    "    {\n",
    "        'Setúbal': 0,\n",
    "        'Lisboa': 1\n",
    "    },\n",
    "    inplace=True)"
   ]
  },
  {
   "cell_type": "code",
   "execution_count": 78,
   "id": "9836908c",
   "metadata": {},
   "outputs": [
    {
     "data": {
      "text/html": [
       "<div>\n",
       "<style scoped>\n",
       "    .dataframe tbody tr th:only-of-type {\n",
       "        vertical-align: middle;\n",
       "    }\n",
       "\n",
       "    .dataframe tbody tr th {\n",
       "        vertical-align: top;\n",
       "    }\n",
       "\n",
       "    .dataframe thead th {\n",
       "        text-align: right;\n",
       "    }\n",
       "</style>\n",
       "<table border=\"1\" class=\"dataframe\">\n",
       "  <thead>\n",
       "    <tr style=\"text-align: right;\">\n",
       "      <th></th>\n",
       "      <th>ad_typology</th>\n",
       "      <th>ad_price</th>\n",
       "      <th>ad_unitprice</th>\n",
       "      <th>ad_latitude</th>\n",
       "      <th>ad_longitude</th>\n",
       "      <th>ad_province</th>\n",
       "      <th>ad_area</th>\n",
       "      <th>ad_roomnumber</th>\n",
       "      <th>ad_bathnumber</th>\n",
       "      <th>ad_haslift</th>\n",
       "      <th>ad_hasparkingspace</th>\n",
       "      <th>ad_hasboxroom</th>\n",
       "      <th>ad_hasswimmingpool</th>\n",
       "    </tr>\n",
       "    <tr>\n",
       "      <th>id</th>\n",
       "      <th></th>\n",
       "      <th></th>\n",
       "      <th></th>\n",
       "      <th></th>\n",
       "      <th></th>\n",
       "      <th></th>\n",
       "      <th></th>\n",
       "      <th></th>\n",
       "      <th></th>\n",
       "      <th></th>\n",
       "      <th></th>\n",
       "      <th></th>\n",
       "      <th></th>\n",
       "    </tr>\n",
       "  </thead>\n",
       "  <tbody>\n",
       "    <tr>\n",
       "      <th>270205980</th>\n",
       "      <td>2</td>\n",
       "      <td>400000.0</td>\n",
       "      <td>1000.000000</td>\n",
       "      <td>38.596200</td>\n",
       "      <td>-8.926124</td>\n",
       "      <td>0</td>\n",
       "      <td>400.00</td>\n",
       "      <td>5.0</td>\n",
       "      <td>4.0</td>\n",
       "      <td>0.0</td>\n",
       "      <td>1.0</td>\n",
       "      <td>0.0</td>\n",
       "      <td>0.0</td>\n",
       "    </tr>\n",
       "    <tr>\n",
       "      <th>270517380</th>\n",
       "      <td>2</td>\n",
       "      <td>350000.0</td>\n",
       "      <td>1914.137271</td>\n",
       "      <td>38.713388</td>\n",
       "      <td>-9.340868</td>\n",
       "      <td>1</td>\n",
       "      <td>182.85</td>\n",
       "      <td>2.0</td>\n",
       "      <td>3.0</td>\n",
       "      <td>0.0</td>\n",
       "      <td>0.0</td>\n",
       "      <td>0.0</td>\n",
       "      <td>0.0</td>\n",
       "    </tr>\n",
       "    <tr>\n",
       "      <th>270746220</th>\n",
       "      <td>1</td>\n",
       "      <td>1500.0</td>\n",
       "      <td>15.000000</td>\n",
       "      <td>38.718295</td>\n",
       "      <td>-9.156669</td>\n",
       "      <td>1</td>\n",
       "      <td>100.00</td>\n",
       "      <td>2.0</td>\n",
       "      <td>1.0</td>\n",
       "      <td>1.0</td>\n",
       "      <td>1.0</td>\n",
       "      <td>0.0</td>\n",
       "      <td>0.0</td>\n",
       "    </tr>\n",
       "    <tr>\n",
       "      <th>270746700</th>\n",
       "      <td>1</td>\n",
       "      <td>1400.0</td>\n",
       "      <td>9.722222</td>\n",
       "      <td>38.753961</td>\n",
       "      <td>-9.141526</td>\n",
       "      <td>1</td>\n",
       "      <td>144.00</td>\n",
       "      <td>4.0</td>\n",
       "      <td>2.0</td>\n",
       "      <td>0.0</td>\n",
       "      <td>0.0</td>\n",
       "      <td>0.0</td>\n",
       "      <td>0.0</td>\n",
       "    </tr>\n",
       "    <tr>\n",
       "      <th>270936250</th>\n",
       "      <td>1</td>\n",
       "      <td>1150.0</td>\n",
       "      <td>20.175439</td>\n",
       "      <td>38.749564</td>\n",
       "      <td>-9.147286</td>\n",
       "      <td>1</td>\n",
       "      <td>57.00</td>\n",
       "      <td>1.0</td>\n",
       "      <td>1.0</td>\n",
       "      <td>1.0</td>\n",
       "      <td>1.0</td>\n",
       "      <td>1.0</td>\n",
       "      <td>1.0</td>\n",
       "    </tr>\n",
       "  </tbody>\n",
       "</table>\n",
       "</div>"
      ],
      "text/plain": [
       "           ad_typology  ad_price  ad_unitprice  ad_latitude  ad_longitude  \\\n",
       "id                                                                          \n",
       "270205980            2  400000.0   1000.000000    38.596200     -8.926124   \n",
       "270517380            2  350000.0   1914.137271    38.713388     -9.340868   \n",
       "270746220            1    1500.0     15.000000    38.718295     -9.156669   \n",
       "270746700            1    1400.0      9.722222    38.753961     -9.141526   \n",
       "270936250            1    1150.0     20.175439    38.749564     -9.147286   \n",
       "\n",
       "           ad_province  ad_area  ad_roomnumber  ad_bathnumber  ad_haslift  \\\n",
       "id                                                                          \n",
       "270205980            0   400.00            5.0            4.0         0.0   \n",
       "270517380            1   182.85            2.0            3.0         0.0   \n",
       "270746220            1   100.00            2.0            1.0         1.0   \n",
       "270746700            1   144.00            4.0            2.0         0.0   \n",
       "270936250            1    57.00            1.0            1.0         1.0   \n",
       "\n",
       "           ad_hasparkingspace  ad_hasboxroom  ad_hasswimmingpool  \n",
       "id                                                                \n",
       "270205980                 1.0            0.0                 0.0  \n",
       "270517380                 0.0            0.0                 0.0  \n",
       "270746220                 1.0            0.0                 0.0  \n",
       "270746700                 0.0            0.0                 0.0  \n",
       "270936250                 1.0            1.0                 1.0  "
      ]
     },
     "execution_count": 78,
     "metadata": {},
     "output_type": "execute_result"
    }
   ],
   "source": [
    "df7.head()"
   ]
  },
  {
   "cell_type": "code",
   "execution_count": 79,
   "id": "af747f2f",
   "metadata": {},
   "outputs": [
    {
     "data": {
      "text/plain": [
       "Index(['ad_typology', 'ad_price', 'ad_unitprice', 'ad_latitude',\n",
       "       'ad_longitude', 'ad_province', 'ad_area', 'ad_roomnumber',\n",
       "       'ad_bathnumber', 'ad_haslift', 'ad_hasparkingspace', 'ad_hasboxroom',\n",
       "       'ad_hasswimmingpool'],\n",
       "      dtype='object')"
      ]
     },
     "execution_count": 79,
     "metadata": {},
     "output_type": "execute_result"
    }
   ],
   "source": [
    "df7.columns"
   ]
  },
  {
   "cell_type": "code",
   "execution_count": 80,
   "id": "7b28b7d6",
   "metadata": {},
   "outputs": [],
   "source": [
    "from sklearn.linear_model import LinearRegression\n",
    "from sklearn.model_selection import train_test_split"
   ]
  },
  {
   "cell_type": "code",
   "execution_count": 81,
   "id": "b7a46c83",
   "metadata": {},
   "outputs": [],
   "source": [
    "#X = df7.iloc[:, :-1].values\n",
    "#y = df7.iloc[:, 1].values"
   ]
  },
  {
   "cell_type": "code",
   "execution_count": 82,
   "id": "9724fbd7",
   "metadata": {},
   "outputs": [],
   "source": [
    "X = df7.drop(['ad_price'], axis = 1)\n",
    "y = df7['ad_price']"
   ]
  },
  {
   "cell_type": "code",
   "execution_count": 83,
   "id": "72024cdf",
   "metadata": {},
   "outputs": [
    {
     "data": {
      "text/plain": [
       "Index(['ad_typology', 'ad_unitprice', 'ad_latitude', 'ad_longitude',\n",
       "       'ad_province', 'ad_area', 'ad_roomnumber', 'ad_bathnumber',\n",
       "       'ad_haslift', 'ad_hasparkingspace', 'ad_hasboxroom',\n",
       "       'ad_hasswimmingpool'],\n",
       "      dtype='object')"
      ]
     },
     "execution_count": 83,
     "metadata": {},
     "output_type": "execute_result"
    }
   ],
   "source": [
    "X.columns"
   ]
  },
  {
   "cell_type": "code",
   "execution_count": 84,
   "id": "cb2c32d7",
   "metadata": {},
   "outputs": [
    {
     "data": {
      "text/plain": [
       "ad_typology             int64\n",
       "ad_price              float64\n",
       "ad_unitprice          float64\n",
       "ad_latitude           float64\n",
       "ad_longitude          float64\n",
       "ad_province             int64\n",
       "ad_area               float64\n",
       "ad_roomnumber         float64\n",
       "ad_bathnumber         float64\n",
       "ad_haslift            float64\n",
       "ad_hasparkingspace    float64\n",
       "ad_hasboxroom         float64\n",
       "ad_hasswimmingpool    float64\n",
       "dtype: object"
      ]
     },
     "execution_count": 84,
     "metadata": {},
     "output_type": "execute_result"
    }
   ],
   "source": [
    "df7.dtypes"
   ]
  },
  {
   "cell_type": "code",
   "execution_count": 85,
   "id": "950a3b58",
   "metadata": {},
   "outputs": [],
   "source": [
    "X_train, X_test, y_train,y_test = train_test_split(X,y,test_size=0.3, random_state=42)"
   ]
  },
  {
   "cell_type": "code",
   "execution_count": 86,
   "id": "d7c7d94f",
   "metadata": {},
   "outputs": [
    {
     "data": {
      "text/plain": [
       "(34095, 12)"
      ]
     },
     "execution_count": 86,
     "metadata": {},
     "output_type": "execute_result"
    }
   ],
   "source": [
    "X_train.shape\n"
   ]
  },
  {
   "cell_type": "code",
   "execution_count": 87,
   "id": "29b1eb67",
   "metadata": {},
   "outputs": [
    {
     "data": {
      "text/plain": [
       "(34095,)"
      ]
     },
     "execution_count": 87,
     "metadata": {},
     "output_type": "execute_result"
    }
   ],
   "source": [
    "y_train.shape"
   ]
  },
  {
   "cell_type": "markdown",
   "id": "27ae6001",
   "metadata": {},
   "source": [
    "## LINEAR REGRESSION"
   ]
  },
  {
   "cell_type": "markdown",
   "id": "73d7fa16",
   "metadata": {},
   "source": [
    "- Linear regression models use a straight line.\n",
    "- Simple linear regression is used to estimate the relationship between two quantitative variables."
   ]
  },
  {
   "cell_type": "code",
   "execution_count": 88,
   "id": "d105f01b",
   "metadata": {},
   "outputs": [
    {
     "data": {
      "text/plain": [
       "LinearRegression()"
      ]
     },
     "execution_count": 88,
     "metadata": {},
     "output_type": "execute_result"
    }
   ],
   "source": [
    "lr =LinearRegression()\n",
    "lr"
   ]
  },
  {
   "cell_type": "code",
   "execution_count": 89,
   "id": "b4db543c",
   "metadata": {},
   "outputs": [],
   "source": [
    "model = lr.fit(X_train,y_train)"
   ]
  },
  {
   "cell_type": "code",
   "execution_count": 90,
   "id": "e810a55b",
   "metadata": {},
   "outputs": [
    {
     "data": {
      "text/plain": [
       "array([ 4.57406774e+03,  9.52473051e+01, -9.93106112e+04, -1.00061974e+05,\n",
       "        2.10574497e+03,  8.37813213e+02,  2.29855345e+04,  3.77445427e+04,\n",
       "        1.45961335e+04,  3.07799303e+04,  2.70441350e+03,  3.80707128e+04])"
      ]
     },
     "execution_count": 90,
     "metadata": {},
     "output_type": "execute_result"
    }
   ],
   "source": [
    "model.coef_"
   ]
  },
  {
   "cell_type": "code",
   "execution_count": 91,
   "id": "70457945",
   "metadata": {},
   "outputs": [
    {
     "data": {
      "text/plain": [
       "2723573.6429272857"
      ]
     },
     "execution_count": 91,
     "metadata": {},
     "output_type": "execute_result"
    }
   ],
   "source": [
    "model.intercept_"
   ]
  },
  {
   "cell_type": "code",
   "execution_count": 92,
   "id": "42cdf6e0",
   "metadata": {},
   "outputs": [
    {
     "data": {
      "text/plain": [
       "0.7824740984139761"
      ]
     },
     "execution_count": 92,
     "metadata": {},
     "output_type": "execute_result"
    }
   ],
   "source": [
    "model.score(X_test,y_test)"
   ]
  },
  {
   "cell_type": "code",
   "execution_count": 93,
   "id": "71a1513c",
   "metadata": {},
   "outputs": [
    {
     "data": {
      "text/plain": [
       "array([742381.63774406, 265987.08413076,  79506.40052335, ...,\n",
       "        78987.78412134, 464619.55026497, 782825.82479035])"
      ]
     },
     "execution_count": 93,
     "metadata": {},
     "output_type": "execute_result"
    }
   ],
   "source": [
    "y_pred = model.predict(X_test)\n",
    "y_pred\n"
   ]
  },
  {
   "cell_type": "code",
   "execution_count": 94,
   "id": "1540eff0",
   "metadata": {},
   "outputs": [
    {
     "data": {
      "text/plain": [
       "id\n",
       "270205980    400000.0\n",
       "270517380    350000.0\n",
       "270746220      1500.0\n",
       "270746700      1400.0\n",
       "270936250      1150.0\n",
       "               ...   \n",
       "317049220    765000.0\n",
       "317049440    720000.0\n",
       "317051750    350000.0\n",
       "317051820    980000.0\n",
       "317051990    840000.0\n",
       "Name: ad_price, Length: 48708, dtype: float64"
      ]
     },
     "execution_count": 94,
     "metadata": {},
     "output_type": "execute_result"
    }
   ],
   "source": [
    "df7['ad_price']"
   ]
  },
  {
   "cell_type": "markdown",
   "id": "dd8e39cc",
   "metadata": {},
   "source": [
    "## RSME "
   ]
  },
  {
   "cell_type": "code",
   "execution_count": 95,
   "id": "3d0d50fc",
   "metadata": {},
   "outputs": [],
   "source": [
    "# errors\n",
    "from sklearn import metrics"
   ]
  },
  {
   "cell_type": "code",
   "execution_count": 96,
   "id": "0b904d83",
   "metadata": {},
   "outputs": [],
   "source": [
    "mse = round(metrics.mean_absolute_error(y_test,y_pred),2)"
   ]
  },
  {
   "cell_type": "code",
   "execution_count": 97,
   "id": "43bad246",
   "metadata": {},
   "outputs": [
    {
     "data": {
      "text/plain": [
       "73350.06"
      ]
     },
     "execution_count": 97,
     "metadata": {},
     "output_type": "execute_result"
    }
   ],
   "source": [
    "mse"
   ]
  },
  {
   "cell_type": "code",
   "execution_count": 98,
   "id": "35de29d8",
   "metadata": {},
   "outputs": [],
   "source": [
    "import numpy as np"
   ]
  },
  {
   "cell_type": "code",
   "execution_count": 99,
   "id": "2d63c172",
   "metadata": {},
   "outputs": [],
   "source": [
    "rmse = round(np.sqrt(metrics.mean_squared_error(y_test,y_pred)),2)"
   ]
  },
  {
   "cell_type": "code",
   "execution_count": 100,
   "id": "910e90f9",
   "metadata": {},
   "outputs": [
    {
     "data": {
      "text/plain": [
       "113739.22"
      ]
     },
     "execution_count": 100,
     "metadata": {},
     "output_type": "execute_result"
    }
   ],
   "source": [
    "rmse"
   ]
  },
  {
   "cell_type": "code",
   "execution_count": 101,
   "id": "873aed08",
   "metadata": {},
   "outputs": [],
   "source": [
    "mae = round(metrics.median_absolute_error(y_test,y_pred),2)"
   ]
  },
  {
   "cell_type": "code",
   "execution_count": 102,
   "id": "6517e3c6",
   "metadata": {},
   "outputs": [
    {
     "data": {
      "text/plain": [
       "43869.89"
      ]
     },
     "execution_count": 102,
     "metadata": {},
     "output_type": "execute_result"
    }
   ],
   "source": [
    "mae"
   ]
  },
  {
   "cell_type": "code",
   "execution_count": 103,
   "id": "c9ae7ff1",
   "metadata": {},
   "outputs": [],
   "source": [
    "vs = round(metrics.explained_variance_score(y_test,y_pred),2)"
   ]
  },
  {
   "cell_type": "code",
   "execution_count": 104,
   "id": "511c226e",
   "metadata": {},
   "outputs": [
    {
     "data": {
      "text/plain": [
       "0.78"
      ]
     },
     "execution_count": 104,
     "metadata": {},
     "output_type": "execute_result"
    }
   ],
   "source": [
    "vs"
   ]
  },
  {
   "cell_type": "code",
   "execution_count": 105,
   "id": "2e74cf88",
   "metadata": {},
   "outputs": [],
   "source": [
    "r2 = round(metrics.r2_score(y_test, y_pred), 2)"
   ]
  },
  {
   "cell_type": "code",
   "execution_count": 106,
   "id": "88f4d9b7",
   "metadata": {},
   "outputs": [
    {
     "data": {
      "text/plain": [
       "0.78"
      ]
     },
     "execution_count": 106,
     "metadata": {},
     "output_type": "execute_result"
    }
   ],
   "source": [
    "r2"
   ]
  },
  {
   "cell_type": "code",
   "execution_count": 107,
   "id": "5e861ae0",
   "metadata": {},
   "outputs": [
    {
     "data": {
      "text/plain": [
       "Index(['ad_id', 'ad_state', 'ad_operation', 'ad_typology', 'ad_propertytype',\n",
       "       'ad_price', 'ad_unitprice', 'ad_activationdate', 'ad_deactivationdate',\n",
       "       'ad_modificationdate', 'ad_latitude', 'ad_longitude',\n",
       "       'ad_layerlocation', 'ad_province', 'ad_town', 'ad_district',\n",
       "       'ad_neighbourhood', 'ad_postalcode', 'ad_streettype', 'ad_streetname',\n",
       "       'ad_streetnumber', 'ad_floornumber', 'ad_addressvisible',\n",
       "       'ad_subtypology', 'ad_area', 'ad_builttype', 'ad_roomnumber',\n",
       "       'ad_bathnumber', 'ad_flatlocation', 'ad_haslift', 'ad_hasparkingspace',\n",
       "       'ad_hasboxroom', 'ad_hasswimmingpool', 'ad_urlactive', 'ad_urlinactive',\n",
       "       'ad_urlimg1', 'ad_urlimg2', 'newdevelopment_commercialname',\n",
       "       'newdevelopment_fromprice', 'newdevelopment_averageprice',\n",
       "       'ad_commercialname', 'ad_isAuction', 'ad_constructionyear',\n",
       "       'adstats_visits', 'adstats_sendtofriend', 'adstats_savedasfavorite',\n",
       "       'adstats_daysonmarket', 'adstats_contactsbyemail', 'ad_pricechanges',\n",
       "       'ad_hasgarden', 'ad_hasterrace', 'ad_hashotwater', 'ad_hasheating',\n",
       "       'ad_hasairconditioning', 'ad_minimalStay', 'ad_newOccupation',\n",
       "       'ad_energycertification', 'ad_energylegislation',\n",
       "       'ad_energyperformance', 'ad_orientations', 'ad_communitycosts',\n",
       "       'ad_heatingtype', 'ad_isintopfloor', 'ad_hashandicapadaptedaccess',\n",
       "       'ad_hashandicapadapteduse', 'ad_comment'],\n",
       "      dtype='object')"
      ]
     },
     "execution_count": 107,
     "metadata": {},
     "output_type": "execute_result"
    }
   ],
   "source": [
    "df5.columns"
   ]
  },
  {
   "cell_type": "code",
   "execution_count": 108,
   "id": "b9e10315",
   "metadata": {},
   "outputs": [
    {
     "data": {
      "text/plain": [
       "ad_id                            int64\n",
       "ad_state                         int64\n",
       "ad_operation                     int64\n",
       "ad_typology                      int64\n",
       "ad_propertytype                  int64\n",
       "                                ...   \n",
       "ad_heatingtype                  object\n",
       "ad_isintopfloor                float64\n",
       "ad_hashandicapadaptedaccess    float64\n",
       "ad_hashandicapadapteduse       float64\n",
       "ad_comment                      object\n",
       "Length: 66, dtype: object"
      ]
     },
     "execution_count": 108,
     "metadata": {},
     "output_type": "execute_result"
    }
   ],
   "source": [
    "df5.dtypes"
   ]
  },
  {
   "cell_type": "markdown",
   "id": "3de91fb9",
   "metadata": {},
   "source": [
    "## Checking Skewness "
   ]
  },
  {
   "cell_type": "markdown",
   "id": "08b01989",
   "metadata": {},
   "source": [
    "- Skewness is the measure of how much the probability distribution of a random variable deviates from the normal distribution."
   ]
  },
  {
   "cell_type": "code",
   "execution_count": 109,
   "id": "e7411c4b",
   "metadata": {},
   "outputs": [],
   "source": [
    "from empiricaldist import Pmf, Cdf\n"
   ]
  },
  {
   "cell_type": "code",
   "execution_count": 110,
   "id": "91a4c95c",
   "metadata": {},
   "outputs": [
    {
     "name": "stdout",
     "output_type": "stream",
     "text": [
      "\n",
      "Skew in numerical features: \n",
      "\n"
     ]
    },
    {
     "data": {
      "text/html": [
       "<div>\n",
       "<style scoped>\n",
       "    .dataframe tbody tr th:only-of-type {\n",
       "        vertical-align: middle;\n",
       "    }\n",
       "\n",
       "    .dataframe tbody tr th {\n",
       "        vertical-align: top;\n",
       "    }\n",
       "\n",
       "    .dataframe thead th {\n",
       "        text-align: right;\n",
       "    }\n",
       "</style>\n",
       "<table border=\"1\" class=\"dataframe\">\n",
       "  <thead>\n",
       "    <tr style=\"text-align: right;\">\n",
       "      <th></th>\n",
       "      <th>Skew</th>\n",
       "    </tr>\n",
       "  </thead>\n",
       "  <tbody>\n",
       "    <tr>\n",
       "      <th>ad_typology</th>\n",
       "      <td>4.234134</td>\n",
       "    </tr>\n",
       "    <tr>\n",
       "      <th>ad_area</th>\n",
       "      <td>3.530833</td>\n",
       "    </tr>\n",
       "    <tr>\n",
       "      <th>ad_hasswimmingpool</th>\n",
       "      <td>3.144699</td>\n",
       "    </tr>\n",
       "    <tr>\n",
       "      <th>ad_roomnumber</th>\n",
       "      <td>2.102537</td>\n",
       "    </tr>\n",
       "    <tr>\n",
       "      <th>ad_bathnumber</th>\n",
       "      <td>1.994625</td>\n",
       "    </tr>\n",
       "    <tr>\n",
       "      <th>ad_hasboxroom</th>\n",
       "      <td>1.850542</td>\n",
       "    </tr>\n",
       "    <tr>\n",
       "      <th>ad_latitude</th>\n",
       "      <td>1.792646</td>\n",
       "    </tr>\n",
       "    <tr>\n",
       "      <th>ad_unitprice</th>\n",
       "      <td>1.240211</td>\n",
       "    </tr>\n",
       "    <tr>\n",
       "      <th>ad_hasparkingspace</th>\n",
       "      <td>1.196484</td>\n",
       "    </tr>\n",
       "    <tr>\n",
       "      <th>ad_price</th>\n",
       "      <td>0.938418</td>\n",
       "    </tr>\n",
       "  </tbody>\n",
       "</table>\n",
       "</div>"
      ],
      "text/plain": [
       "                        Skew\n",
       "ad_typology         4.234134\n",
       "ad_area             3.530833\n",
       "ad_hasswimmingpool  3.144699\n",
       "ad_roomnumber       2.102537\n",
       "ad_bathnumber       1.994625\n",
       "ad_hasboxroom       1.850542\n",
       "ad_latitude         1.792646\n",
       "ad_unitprice        1.240211\n",
       "ad_hasparkingspace  1.196484\n",
       "ad_price            0.938418"
      ]
     },
     "execution_count": 110,
     "metadata": {},
     "output_type": "execute_result"
    }
   ],
   "source": [
    "from scipy.stats import norm, skew \n",
    "numeric_feats = df6.dtypes[df6.dtypes != \"object\"].index\n",
    "\n",
    "# Check the skew of all numerical features\n",
    "skewed_feats = df6[numeric_feats].apply(lambda x: skew(x.dropna())).sort_values(ascending=False)\n",
    "print(\"\\nSkew in numerical features: \\n\")\n",
    "skewness = pd.DataFrame({'Skew' :skewed_feats})\n",
    "skewness.head(10)"
   ]
  },
  {
   "cell_type": "code",
   "execution_count": 111,
   "id": "e01928f4",
   "metadata": {},
   "outputs": [
    {
     "name": "stderr",
     "output_type": "stream",
     "text": [
      "C:\\Users\\hp\\anaconda3\\lib\\site-packages\\seaborn\\distributions.py:2619: FutureWarning: `distplot` is a deprecated function and will be removed in a future version. Please adapt your code to use either `displot` (a figure-level function with similar flexibility) or `histplot` (an axes-level function for histograms).\n",
      "  warnings.warn(msg, FutureWarning)\n"
     ]
    },
    {
     "data": {
      "image/png": "[encoded data removed]",
      "text/plain": [
       "<Figure size 432x288 with 1 Axes>"
      ]
     },
     "metadata": {
      "needs_background": "light"
     },
     "output_type": "display_data"
    }
   ],
   "source": [
    "sns.distplot(skewness)\n",
    "plt.show()"
   ]
  },
  {
   "cell_type": "markdown",
   "id": "06ef1fe9",
   "metadata": {},
   "source": [
    "## LASSO REGRESSION "
   ]
  },
  {
   "cell_type": "markdown",
   "id": "00801518",
   "metadata": {},
   "source": [
    "Lasso regression is a regularization technique. It is used over regression methods for a more accurate prediction."
   ]
  },
  {
   "cell_type": "code",
   "execution_count": 112,
   "id": "38dd11a0",
   "metadata": {},
   "outputs": [
    {
     "name": "stdout",
     "output_type": "stream",
     "text": [
      "Requirement already satisfied: xgboost in c:\\users\\hp\\anaconda3\\lib\\site-packages (1.6.1)\n",
      "Requirement already satisfied: numpy in c:\\users\\hp\\anaconda3\\lib\\site-packages (from xgboost) (1.21.5)\n",
      "Requirement already satisfied: scipy in c:\\users\\hp\\anaconda3\\lib\\site-packages (from xgboost) (1.7.3)\n",
      "Note: you may need to restart the kernel to use updated packages.\n"
     ]
    }
   ],
   "source": [
    "pip install xgboost"
   ]
  },
  {
   "cell_type": "code",
   "execution_count": 113,
   "id": "96caabec",
   "metadata": {},
   "outputs": [],
   "source": [
    "from sklearn.pipeline import make_pipeline\n",
    "from sklearn.preprocessing import RobustScaler\n",
    "from sklearn.linear_model import ElasticNet, Lasso\n",
    "from sklearn.kernel_ridge import KernelRidge\n",
    "import xgboost as xgb\n",
    "import lightgbm as lgb\n",
    "from sklearn.ensemble import RandomForestRegressor,  GradientBoostingRegressor\n",
    "from sklearn.svm import SVC\n",
    "from sklearn import tree"
   ]
  },
  {
   "cell_type": "code",
   "execution_count": 114,
   "id": "95831743",
   "metadata": {},
   "outputs": [
    {
     "name": "stdout",
     "output_type": "stream",
     "text": [
      "Requirement already satisfied: lightgbm in c:\\users\\hp\\anaconda3\\lib\\site-packages (3.3.2)\n",
      "Requirement already satisfied: scipy in c:\\users\\hp\\anaconda3\\lib\\site-packages (from lightgbm) (1.7.3)\n",
      "Requirement already satisfied: numpy in c:\\users\\hp\\anaconda3\\lib\\site-packages (from lightgbm) (1.21.5)\n",
      "Requirement already satisfied: scikit-learn!=0.22.0 in c:\\users\\hp\\anaconda3\\lib\\site-packages (from lightgbm) (1.0.2)\n",
      "Requirement already satisfied: wheel in c:\\users\\hp\\anaconda3\\lib\\site-packages (from lightgbm) (0.37.1)\n",
      "Requirement already satisfied: joblib>=0.11 in c:\\users\\hp\\anaconda3\\lib\\site-packages (from scikit-learn!=0.22.0->lightgbm) (1.1.0)\n",
      "Requirement already satisfied: threadpoolctl>=2.0.0 in c:\\users\\hp\\anaconda3\\lib\\site-packages (from scikit-learn!=0.22.0->lightgbm) (2.2.0)\n",
      "Note: you may need to restart the kernel to use updated packages.\n"
     ]
    }
   ],
   "source": [
    "pip install lightgbm"
   ]
  },
  {
   "cell_type": "code",
   "execution_count": 115,
   "id": "39ad8cdb",
   "metadata": {},
   "outputs": [],
   "source": [
    "# RobustScaler transforms the feature vector by subtracting the median and then dividing by the interquartile range (75% value — 25% value). Like MinMaxScaler, our feature with large values \n",
    "lasso = make_pipeline(RobustScaler(), Lasso(alpha =0.0005, random_state=1))"
   ]
  },
  {
   "cell_type": "code",
   "execution_count": 116,
   "id": "94a6fa30",
   "metadata": {},
   "outputs": [],
   "source": [
    "elastic_net = make_pipeline(RobustScaler(), ElasticNet(alpha=0.0005, l1_ratio=.9, random_state=3))"
   ]
  },
  {
   "cell_type": "code",
   "execution_count": 117,
   "id": "d10f9b23",
   "metadata": {},
   "outputs": [],
   "source": [
    "kernel_ridge = KernelRidge(alpha=0.6, kernel='polynomial', degree=2,coef0=2.5)"
   ]
  },
  {
   "cell_type": "code",
   "execution_count": 118,
   "id": "f563eadc",
   "metadata": {},
   "outputs": [],
   "source": [
    "xgboost = xgb.XGBRegressor( learning_rate=0.05, max_depth=3,reg_alpha=0.4640,random_state =7)"
   ]
  },
  {
   "cell_type": "code",
   "execution_count": 119,
   "id": "d8578b22",
   "metadata": {},
   "outputs": [],
   "source": [
    "model1 = xgboost.fit(X_train,y_train)"
   ]
  },
  {
   "cell_type": "code",
   "execution_count": 120,
   "id": "2d1c089f",
   "metadata": {},
   "outputs": [
    {
     "data": {
      "text/plain": [
       "0.9841418616321242"
      ]
     },
     "execution_count": 120,
     "metadata": {},
     "output_type": "execute_result"
    }
   ],
   "source": [
    "model1.score(X_test,y_test)"
   ]
  },
  {
   "cell_type": "code",
   "execution_count": 121,
   "id": "e3c61d2c",
   "metadata": {},
   "outputs": [
    {
     "data": {
      "text/plain": [
       "array([914817.44  , 211076.05  , 130625.484 , ...,   8110.2715,\n",
       "       456755.16  , 848927.5   ], dtype=float32)"
      ]
     },
     "execution_count": 121,
     "metadata": {},
     "output_type": "execute_result"
    }
   ],
   "source": [
    "y_pred1 = model1.predict(X_test)\n",
    "y_pred1"
   ]
  },
  {
   "cell_type": "code",
   "execution_count": 122,
   "id": "3a13d47d",
   "metadata": {},
   "outputs": [
    {
     "data": {
      "text/plain": [
       "18846.46"
      ]
     },
     "execution_count": 122,
     "metadata": {},
     "output_type": "execute_result"
    }
   ],
   "source": [
    "mse_1 = round(metrics.mean_absolute_error(y_test,y_pred1),2)\n",
    "mse_1"
   ]
  },
  {
   "cell_type": "code",
   "execution_count": 123,
   "id": "12d3ab71",
   "metadata": {},
   "outputs": [],
   "source": [
    "rmse_1 = round(np.sqrt(metrics.mean_squared_error(y_test,y_pred1)),2)"
   ]
  },
  {
   "cell_type": "code",
   "execution_count": 124,
   "id": "debf7c8c",
   "metadata": {},
   "outputs": [
    {
     "data": {
      "text/plain": [
       "30710.07"
      ]
     },
     "execution_count": 124,
     "metadata": {},
     "output_type": "execute_result"
    }
   ],
   "source": [
    "rmse_1"
   ]
  },
  {
   "cell_type": "markdown",
   "id": "d846f3d6",
   "metadata": {},
   "source": [
    "## LIGHT GBM"
   ]
  },
  {
   "cell_type": "markdown",
   "id": "a3436e61",
   "metadata": {},
   "source": [
    "LightGBM is a gradient boosting framework based on decision trees to increases the efficiency of the model and reduces memory usage."
   ]
  },
  {
   "cell_type": "code",
   "execution_count": 125,
   "id": "2daa6bd0",
   "metadata": {},
   "outputs": [],
   "source": [
    "model_lgb = lgb.LGBMRegressor(objective = 'regression', num_leaves = 5,\n",
    "                           learning_rate = 0.05  )"
   ]
  },
  {
   "cell_type": "code",
   "execution_count": 126,
   "id": "08ec6402",
   "metadata": {},
   "outputs": [],
   "source": [
    "model2 = model_lgb.fit(X_train,y_train)"
   ]
  },
  {
   "cell_type": "code",
   "execution_count": 127,
   "id": "a4f31c17",
   "metadata": {},
   "outputs": [
    {
     "data": {
      "text/plain": [
       "0.9774140787835202"
      ]
     },
     "execution_count": 127,
     "metadata": {},
     "output_type": "execute_result"
    }
   ],
   "source": [
    "model2.score(X_test,y_test)"
   ]
  },
  {
   "cell_type": "code",
   "execution_count": 128,
   "id": "1bbe434c",
   "metadata": {},
   "outputs": [
    {
     "data": {
      "text/plain": [
       "array([858202.27927467, 211031.8706745 , 130122.3582967 , ...,\n",
       "         8386.5346982 , 448723.80971489, 835251.84551308])"
      ]
     },
     "execution_count": 128,
     "metadata": {},
     "output_type": "execute_result"
    }
   ],
   "source": [
    "y_pred2 = model2.predict(X_test)\n",
    "y_pred2"
   ]
  },
  {
   "cell_type": "code",
   "execution_count": 129,
   "id": "3360c53a",
   "metadata": {},
   "outputs": [
    {
     "data": {
      "text/plain": [
       "22080.42"
      ]
     },
     "execution_count": 129,
     "metadata": {},
     "output_type": "execute_result"
    }
   ],
   "source": [
    "mse_2 = round(metrics.mean_absolute_error(y_test,y_pred2),2)\n",
    "mse_2"
   ]
  },
  {
   "cell_type": "code",
   "execution_count": 130,
   "id": "cdb5e18c",
   "metadata": {},
   "outputs": [],
   "source": [
    "rmse_2 = round(np.sqrt(metrics.mean_squared_error(y_test,y_pred2)),2)"
   ]
  },
  {
   "cell_type": "code",
   "execution_count": 131,
   "id": "41d7b877",
   "metadata": {},
   "outputs": [
    {
     "data": {
      "text/plain": [
       "36649.97"
      ]
     },
     "execution_count": 131,
     "metadata": {},
     "output_type": "execute_result"
    }
   ],
   "source": [
    "rmse_2"
   ]
  },
  {
   "cell_type": "markdown",
   "id": "b46a70b3",
   "metadata": {},
   "source": [
    "## GRADIENT BOOSTING REGRESSION "
   ]
  },
  {
   "cell_type": "markdown",
   "id": "613f74d6",
   "metadata": {},
   "source": [
    "- Gradient boosting Regression calculates the difference between the current prediction and the known correct target value."
   ]
  },
  {
   "cell_type": "code",
   "execution_count": 132,
   "id": "683b3de1",
   "metadata": {},
   "outputs": [],
   "source": [
    "GBoost = GradientBoostingRegressor(n_estimators=3000, learning_rate=0.05,\n",
    "                                   max_depth=4, max_features='sqrt', \n",
    "                                   loss='huber', random_state =5)"
   ]
  },
  {
   "cell_type": "code",
   "execution_count": 133,
   "id": "37a8643e",
   "metadata": {},
   "outputs": [],
   "source": [
    "model3 = GBoost.fit(X_train,y_train)"
   ]
  },
  {
   "cell_type": "code",
   "execution_count": 134,
   "id": "3d897525",
   "metadata": {},
   "outputs": [
    {
     "data": {
      "text/plain": [
       "0.9989695020467031"
      ]
     },
     "execution_count": 134,
     "metadata": {},
     "output_type": "execute_result"
    }
   ],
   "source": [
    "model3.score(X_train,y_train)"
   ]
  },
  {
   "cell_type": "code",
   "execution_count": 135,
   "id": "e772afd4",
   "metadata": {},
   "outputs": [
    {
     "data": {
      "text/plain": [
       "array([998343.37524231, 228923.77870839,  91440.91046138, ...,\n",
       "        -3494.39846144, 426342.3664877 , 944467.57046798])"
      ]
     },
     "execution_count": 135,
     "metadata": {},
     "output_type": "execute_result"
    }
   ],
   "source": [
    "y_pred3 = model3.predict(X_test)\n",
    "y_pred3"
   ]
  },
  {
   "cell_type": "code",
   "execution_count": 136,
   "id": "137bab3d",
   "metadata": {},
   "outputs": [
    {
     "data": {
      "text/plain": [
       "7065.87"
      ]
     },
     "execution_count": 136,
     "metadata": {},
     "output_type": "execute_result"
    }
   ],
   "source": [
    "mse_3 = round(metrics.mean_absolute_error(y_test,y_pred3),2)\n",
    "mse_3"
   ]
  },
  {
   "cell_type": "code",
   "execution_count": 137,
   "id": "42f9ebf7",
   "metadata": {},
   "outputs": [
    {
     "data": {
      "text/plain": [
       "11514.35"
      ]
     },
     "execution_count": 137,
     "metadata": {},
     "output_type": "execute_result"
    }
   ],
   "source": [
    "rmse_3 = round(np.sqrt(metrics.mean_squared_error(y_test,y_pred3)),2)\n",
    "rmse_3"
   ]
  },
  {
   "cell_type": "code",
   "execution_count": 138,
   "id": "e14cb30e",
   "metadata": {},
   "outputs": [],
   "source": [
    "rf = RandomForestRegressor(n_estimators=3000,random_state=5)"
   ]
  },
  {
   "cell_type": "code",
   "execution_count": 139,
   "id": "da47c03a",
   "metadata": {},
   "outputs": [],
   "source": [
    "model4 = rf.fit(X_train,y_train)"
   ]
  },
  {
   "cell_type": "code",
   "execution_count": 140,
   "id": "11126cd4",
   "metadata": {},
   "outputs": [
    {
     "data": {
      "text/plain": [
       "0.9999423297245784"
      ]
     },
     "execution_count": 140,
     "metadata": {},
     "output_type": "execute_result"
    }
   ],
   "source": [
    "model4.score(X_train,y_train)"
   ]
  },
  {
   "cell_type": "code",
   "execution_count": 141,
   "id": "bb7b181f",
   "metadata": {},
   "outputs": [],
   "source": [
    "y_pred4 = model4.predict(X_test)"
   ]
  },
  {
   "cell_type": "code",
   "execution_count": 142,
   "id": "7b57bc9d",
   "metadata": {},
   "outputs": [
    {
     "data": {
      "text/plain": [
       "1495.08"
      ]
     },
     "execution_count": 142,
     "metadata": {},
     "output_type": "execute_result"
    }
   ],
   "source": [
    "mse_4 = round(metrics.mean_absolute_error(y_test,y_pred4),2)\n",
    "mse_4"
   ]
  },
  {
   "cell_type": "code",
   "execution_count": 143,
   "id": "727d3613",
   "metadata": {},
   "outputs": [
    {
     "data": {
      "text/plain": [
       "4689.39"
      ]
     },
     "execution_count": 143,
     "metadata": {},
     "output_type": "execute_result"
    }
   ],
   "source": [
    "rmse_4 = round(np.sqrt(metrics.mean_squared_error(y_test,y_pred4)),2)\n",
    "rmse_4"
   ]
  },
  {
   "cell_type": "markdown",
   "id": "b98784d3",
   "metadata": {},
   "source": [
    "## SVR"
   ]
  },
  {
   "cell_type": "markdown",
   "id": "9c61dc4b",
   "metadata": {},
   "source": [
    "Support Vector Regression is a supervised learning algorithm that is used to predict discrete values. Support Vector Regression uses the same principle as the SVMs. The basic idea behind SVR is to find the best fit line. In SVR, the best fit line is the hyperplane that has the maximum number of points."
   ]
  },
  {
   "cell_type": "code",
   "execution_count": 144,
   "id": "70597466",
   "metadata": {},
   "outputs": [],
   "source": [
    "svc = SVC(degree=2)"
   ]
  },
  {
   "cell_type": "code",
   "execution_count": 145,
   "id": "1275b923",
   "metadata": {},
   "outputs": [],
   "source": [
    "model5 = svc.fit(X_train,y_train)"
   ]
  },
  {
   "cell_type": "code",
   "execution_count": 146,
   "id": "721ad089",
   "metadata": {},
   "outputs": [
    {
     "data": {
      "text/plain": [
       "0.03208681624871682"
      ]
     },
     "execution_count": 146,
     "metadata": {},
     "output_type": "execute_result"
    }
   ],
   "source": [
    "model5.score(X_train,y_train)"
   ]
  }
 ],
 "metadata": {
  "kernelspec": {
   "display_name": "Python 3.10.4 64-bit",
   "language": "python",
   "name": "python3"
  },
  "language_info": {
   "codemirror_mode": {
    "name": "ipython",
    "version": 3
   },
   "file_extension": ".py",
   "mimetype": "text/x-python",
   "name": "python",
   "nbconvert_exporter": "python",
   "pygments_lexer": "ipython3",
   "version": "3.10.4"
  },
  "vscode": {
   "interpreter": {
    "hash": "63963b3f4c440940f0b94a3100916033a226cb4f45979123153792d60aa56d6a"
   }
  }
 },
 "nbformat": 4,
 "nbformat_minor": 5
}
